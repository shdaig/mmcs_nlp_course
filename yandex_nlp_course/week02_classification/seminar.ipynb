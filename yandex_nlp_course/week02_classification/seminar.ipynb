{
 "cells": [
  {
   "cell_type": "markdown",
   "metadata": {},
   "source": [
    "# Large scale text analysis with deep learning (3 points)\n",
    "\n",
    "Today we're gonna apply the newly learned tools for the task of predicting job salary.\n",
    "\n",
    "<img src=\"https://storage.googleapis.com/kaggle-competitions/kaggle/3342/media/salary%20prediction%20engine%20v2.png\" width=400px>\n",
    "\n",
    "_Special thanks to [Oleg Vasilev](https://github.com/Omrigan/) for the core assignment idea._"
   ]
  },
  {
   "cell_type": "code",
   "execution_count": 1,
   "metadata": {},
   "outputs": [],
   "source": [
    "import numpy as np\n",
    "import pandas as pd\n",
    "import matplotlib.pyplot as plt\n",
    "%matplotlib inline"
   ]
  },
  {
   "cell_type": "markdown",
   "metadata": {},
   "source": [
    "### About the challenge\n",
    "For starters, let's download and unpack the data from [here]. \n",
    "\n",
    "You can also get it from [yadisk url](https://yadi.sk/d/vVEOWPFY3NruT7) the competition [page](https://www.kaggle.com/c/job-salary-prediction/data) (pick `Train_rev1.*`)."
   ]
  },
  {
   "cell_type": "code",
   "execution_count": 2,
   "metadata": {},
   "outputs": [
    {
     "data": {
      "text/plain": [
       "(244768, 12)"
      ]
     },
     "execution_count": 2,
     "metadata": {},
     "output_type": "execute_result"
    }
   ],
   "source": [
    "# !wget https://ysda-seminars.s3.eu-central-1.amazonaws.com/Train_rev1.zip\n",
    "data = pd.read_csv(\"Train_rev1.csv\", index_col=None)\n",
    "data.shape"
   ]
  },
  {
   "cell_type": "code",
   "execution_count": 3,
   "metadata": {},
   "outputs": [
    {
     "data": {
      "text/html": [
       "<div>\n",
       "<style scoped>\n",
       "    .dataframe tbody tr th:only-of-type {\n",
       "        vertical-align: middle;\n",
       "    }\n",
       "\n",
       "    .dataframe tbody tr th {\n",
       "        vertical-align: top;\n",
       "    }\n",
       "\n",
       "    .dataframe thead th {\n",
       "        text-align: right;\n",
       "    }\n",
       "</style>\n",
       "<table border=\"1\" class=\"dataframe\">\n",
       "  <thead>\n",
       "    <tr style=\"text-align: right;\">\n",
       "      <th></th>\n",
       "      <th>Id</th>\n",
       "      <th>Title</th>\n",
       "      <th>FullDescription</th>\n",
       "      <th>LocationRaw</th>\n",
       "      <th>LocationNormalized</th>\n",
       "      <th>ContractType</th>\n",
       "      <th>ContractTime</th>\n",
       "      <th>Company</th>\n",
       "      <th>Category</th>\n",
       "      <th>SalaryRaw</th>\n",
       "      <th>SalaryNormalized</th>\n",
       "      <th>SourceName</th>\n",
       "    </tr>\n",
       "  </thead>\n",
       "  <tbody>\n",
       "    <tr>\n",
       "      <th>0</th>\n",
       "      <td>12612628</td>\n",
       "      <td>Engineering Systems Analyst</td>\n",
       "      <td>Engineering Systems Analyst Dorking Surrey Sal...</td>\n",
       "      <td>Dorking, Surrey, Surrey</td>\n",
       "      <td>Dorking</td>\n",
       "      <td>NaN</td>\n",
       "      <td>permanent</td>\n",
       "      <td>Gregory Martin International</td>\n",
       "      <td>Engineering Jobs</td>\n",
       "      <td>20000 - 30000/annum 20-30K</td>\n",
       "      <td>25000</td>\n",
       "      <td>cv-library.co.uk</td>\n",
       "    </tr>\n",
       "    <tr>\n",
       "      <th>1</th>\n",
       "      <td>12612830</td>\n",
       "      <td>Stress Engineer Glasgow</td>\n",
       "      <td>Stress Engineer Glasgow Salary **** to **** We...</td>\n",
       "      <td>Glasgow, Scotland, Scotland</td>\n",
       "      <td>Glasgow</td>\n",
       "      <td>NaN</td>\n",
       "      <td>permanent</td>\n",
       "      <td>Gregory Martin International</td>\n",
       "      <td>Engineering Jobs</td>\n",
       "      <td>25000 - 35000/annum 25-35K</td>\n",
       "      <td>30000</td>\n",
       "      <td>cv-library.co.uk</td>\n",
       "    </tr>\n",
       "    <tr>\n",
       "      <th>2</th>\n",
       "      <td>12612844</td>\n",
       "      <td>Modelling and simulation analyst</td>\n",
       "      <td>Mathematical Modeller / Simulation Analyst / O...</td>\n",
       "      <td>Hampshire, South East, South East</td>\n",
       "      <td>Hampshire</td>\n",
       "      <td>NaN</td>\n",
       "      <td>permanent</td>\n",
       "      <td>Gregory Martin International</td>\n",
       "      <td>Engineering Jobs</td>\n",
       "      <td>20000 - 40000/annum 20-40K</td>\n",
       "      <td>30000</td>\n",
       "      <td>cv-library.co.uk</td>\n",
       "    </tr>\n",
       "    <tr>\n",
       "      <th>3</th>\n",
       "      <td>12613049</td>\n",
       "      <td>Engineering Systems Analyst / Mathematical Mod...</td>\n",
       "      <td>Engineering Systems Analyst / Mathematical Mod...</td>\n",
       "      <td>Surrey, South East, South East</td>\n",
       "      <td>Surrey</td>\n",
       "      <td>NaN</td>\n",
       "      <td>permanent</td>\n",
       "      <td>Gregory Martin International</td>\n",
       "      <td>Engineering Jobs</td>\n",
       "      <td>25000 - 30000/annum 25K-30K negotiable</td>\n",
       "      <td>27500</td>\n",
       "      <td>cv-library.co.uk</td>\n",
       "    </tr>\n",
       "    <tr>\n",
       "      <th>4</th>\n",
       "      <td>12613647</td>\n",
       "      <td>Pioneer, Miser Engineering Systems Analyst</td>\n",
       "      <td>Pioneer, Miser  Engineering Systems Analyst Do...</td>\n",
       "      <td>Surrey, South East, South East</td>\n",
       "      <td>Surrey</td>\n",
       "      <td>NaN</td>\n",
       "      <td>permanent</td>\n",
       "      <td>Gregory Martin International</td>\n",
       "      <td>Engineering Jobs</td>\n",
       "      <td>20000 - 30000/annum 20-30K</td>\n",
       "      <td>25000</td>\n",
       "      <td>cv-library.co.uk</td>\n",
       "    </tr>\n",
       "  </tbody>\n",
       "</table>\n",
       "</div>"
      ],
      "text/plain": [
       "         Id                                              Title  \\\n",
       "0  12612628                        Engineering Systems Analyst   \n",
       "1  12612830                            Stress Engineer Glasgow   \n",
       "2  12612844                   Modelling and simulation analyst   \n",
       "3  12613049  Engineering Systems Analyst / Mathematical Mod...   \n",
       "4  12613647         Pioneer, Miser Engineering Systems Analyst   \n",
       "\n",
       "                                     FullDescription  \\\n",
       "0  Engineering Systems Analyst Dorking Surrey Sal...   \n",
       "1  Stress Engineer Glasgow Salary **** to **** We...   \n",
       "2  Mathematical Modeller / Simulation Analyst / O...   \n",
       "3  Engineering Systems Analyst / Mathematical Mod...   \n",
       "4  Pioneer, Miser  Engineering Systems Analyst Do...   \n",
       "\n",
       "                         LocationRaw LocationNormalized ContractType  \\\n",
       "0            Dorking, Surrey, Surrey            Dorking          NaN   \n",
       "1        Glasgow, Scotland, Scotland            Glasgow          NaN   \n",
       "2  Hampshire, South East, South East          Hampshire          NaN   \n",
       "3     Surrey, South East, South East             Surrey          NaN   \n",
       "4     Surrey, South East, South East             Surrey          NaN   \n",
       "\n",
       "  ContractTime                       Company          Category  \\\n",
       "0    permanent  Gregory Martin International  Engineering Jobs   \n",
       "1    permanent  Gregory Martin International  Engineering Jobs   \n",
       "2    permanent  Gregory Martin International  Engineering Jobs   \n",
       "3    permanent  Gregory Martin International  Engineering Jobs   \n",
       "4    permanent  Gregory Martin International  Engineering Jobs   \n",
       "\n",
       "                                SalaryRaw  SalaryNormalized        SourceName  \n",
       "0              20000 - 30000/annum 20-30K             25000  cv-library.co.uk  \n",
       "1              25000 - 35000/annum 25-35K             30000  cv-library.co.uk  \n",
       "2              20000 - 40000/annum 20-40K             30000  cv-library.co.uk  \n",
       "3  25000 - 30000/annum 25K-30K negotiable             27500  cv-library.co.uk  \n",
       "4              20000 - 30000/annum 20-30K             25000  cv-library.co.uk  "
      ]
     },
     "execution_count": 3,
     "metadata": {},
     "output_type": "execute_result"
    }
   ],
   "source": [
    "data.head()"
   ]
  },
  {
   "cell_type": "markdown",
   "metadata": {},
   "source": [
    "One problem with salary prediction is that it's oddly distributed: there are many people who are paid standard salaries and a few that get tons o money. The distribution is fat-tailed on the right side, which is inconvenient for MSE minimization.\n",
    "\n",
    "There are several techniques to combat this: using a different loss function, predicting log-target instead of raw target or even replacing targets with their percentiles among all salaries in the training set. We gonna use logarithm for now.\n",
    "\n",
    "_You can read more [in the official description](https://www.kaggle.com/c/job-salary-prediction#description)._"
   ]
  },
  {
   "cell_type": "code",
   "execution_count": 4,
   "metadata": {},
   "outputs": [
    {
     "data": {
      "image/png": "[encoded data removed]",
      "text/plain": [
       "<Figure size 800x400 with 2 Axes>"
      ]
     },
     "metadata": {},
     "output_type": "display_data"
    }
   ],
   "source": [
    "data['Log1pSalary'] = np.log1p(data['SalaryNormalized']).astype('float32')\n",
    "\n",
    "plt.figure(figsize=[8, 4])\n",
    "plt.subplot(1, 2, 1)\n",
    "plt.hist(data[\"SalaryNormalized\"], bins=20);\n",
    "\n",
    "plt.subplot(1, 2, 2)\n",
    "plt.hist(data['Log1pSalary'], bins=20);"
   ]
  },
  {
   "cell_type": "markdown",
   "metadata": {},
   "source": [
    "Our task is to predict one number, __Log1pSalary__.\n",
    "\n",
    "To do so, our model can access a number of features:\n",
    "* Free text: __`Title`__ and  __`FullDescription`__\n",
    "* Categorical: __`Category`__, __`Company`__, __`LocationNormalized`__, __`ContractType`__, and __`ContractTime`__."
   ]
  },
  {
   "cell_type": "code",
   "execution_count": 5,
   "metadata": {},
   "outputs": [
    {
     "data": {
      "text/html": [
       "<div>\n",
       "<style scoped>\n",
       "    .dataframe tbody tr th:only-of-type {\n",
       "        vertical-align: middle;\n",
       "    }\n",
       "\n",
       "    .dataframe tbody tr th {\n",
       "        vertical-align: top;\n",
       "    }\n",
       "\n",
       "    .dataframe thead th {\n",
       "        text-align: right;\n",
       "    }\n",
       "</style>\n",
       "<table border=\"1\" class=\"dataframe\">\n",
       "  <thead>\n",
       "    <tr style=\"text-align: right;\">\n",
       "      <th></th>\n",
       "      <th>Id</th>\n",
       "      <th>Title</th>\n",
       "      <th>FullDescription</th>\n",
       "      <th>LocationRaw</th>\n",
       "      <th>LocationNormalized</th>\n",
       "      <th>ContractType</th>\n",
       "      <th>ContractTime</th>\n",
       "      <th>Company</th>\n",
       "      <th>Category</th>\n",
       "      <th>SalaryRaw</th>\n",
       "      <th>SalaryNormalized</th>\n",
       "      <th>SourceName</th>\n",
       "      <th>Log1pSalary</th>\n",
       "    </tr>\n",
       "  </thead>\n",
       "  <tbody>\n",
       "    <tr>\n",
       "      <th>130114</th>\n",
       "      <td>70164291</td>\n",
       "      <td>Qualified Science Teacher  Birmingham</td>\n",
       "      <td>Secondary Qualified Science Teacher with QTS B...</td>\n",
       "      <td>Birmingham</td>\n",
       "      <td>Birmingham</td>\n",
       "      <td>NaN</td>\n",
       "      <td>NaN</td>\n",
       "      <td>Aspire People</td>\n",
       "      <td>Teaching Jobs</td>\n",
       "      <td>105 - 140 per day</td>\n",
       "      <td>29400</td>\n",
       "      <td>MyUkJobs</td>\n",
       "      <td>10.288784</td>\n",
       "    </tr>\n",
       "    <tr>\n",
       "      <th>166672</th>\n",
       "      <td>71299434</td>\n",
       "      <td>Network Engineer CISCO (Senior)</td>\n",
       "      <td>Yorkshire Staffing Services are recruiting on ...</td>\n",
       "      <td>Leeds, West Yorkshire</td>\n",
       "      <td>Leeds</td>\n",
       "      <td>NaN</td>\n",
       "      <td>contract</td>\n",
       "      <td>Yorkshire Staffing Services</td>\n",
       "      <td>IT Jobs</td>\n",
       "      <td>200 - 225/day</td>\n",
       "      <td>51000</td>\n",
       "      <td>cv-library.co.uk</td>\n",
       "      <td>10.839601</td>\n",
       "    </tr>\n",
       "    <tr>\n",
       "      <th>225400</th>\n",
       "      <td>72439032</td>\n",
       "      <td>Sales Operations Administrator</td>\n",
       "      <td>Would you like to work in a high profile sales...</td>\n",
       "      <td>Basingstoke Hampshire South East</td>\n",
       "      <td>Basingstoke</td>\n",
       "      <td>NaN</td>\n",
       "      <td>permanent</td>\n",
       "      <td>COMPUTER 2000</td>\n",
       "      <td>Sales Jobs</td>\n",
       "      <td>From 16,000 to 18,000 per annum PLUS up to 4,0...</td>\n",
       "      <td>17000</td>\n",
       "      <td>totaljobs.com</td>\n",
       "      <td>9.741028</td>\n",
       "    </tr>\n",
       "  </tbody>\n",
       "</table>\n",
       "</div>"
      ],
      "text/plain": [
       "              Id                                  Title  \\\n",
       "130114  70164291  Qualified Science Teacher  Birmingham   \n",
       "166672  71299434        Network Engineer CISCO (Senior)   \n",
       "225400  72439032         Sales Operations Administrator   \n",
       "\n",
       "                                          FullDescription  \\\n",
       "130114  Secondary Qualified Science Teacher with QTS B...   \n",
       "166672  Yorkshire Staffing Services are recruiting on ...   \n",
       "225400  Would you like to work in a high profile sales...   \n",
       "\n",
       "                             LocationRaw LocationNormalized ContractType  \\\n",
       "130114                        Birmingham         Birmingham          NaN   \n",
       "166672             Leeds, West Yorkshire              Leeds          NaN   \n",
       "225400  Basingstoke Hampshire South East        Basingstoke          NaN   \n",
       "\n",
       "       ContractTime                      Company       Category  \\\n",
       "130114          NaN                Aspire People  Teaching Jobs   \n",
       "166672     contract  Yorkshire Staffing Services        IT Jobs   \n",
       "225400    permanent                COMPUTER 2000     Sales Jobs   \n",
       "\n",
       "                                                SalaryRaw  SalaryNormalized  \\\n",
       "130114                                  105 - 140 per day             29400   \n",
       "166672                                      200 - 225/day             51000   \n",
       "225400  From 16,000 to 18,000 per annum PLUS up to 4,0...             17000   \n",
       "\n",
       "              SourceName  Log1pSalary  \n",
       "130114          MyUkJobs    10.288784  \n",
       "166672  cv-library.co.uk    10.839601  \n",
       "225400     totaljobs.com     9.741028  "
      ]
     },
     "execution_count": 5,
     "metadata": {},
     "output_type": "execute_result"
    }
   ],
   "source": [
    "text_columns = [\"Title\", \"FullDescription\"]\n",
    "categorical_columns = [\"Category\", \"Company\", \"LocationNormalized\", \"ContractType\", \"ContractTime\"]\n",
    "TARGET_COLUMN = \"Log1pSalary\"\n",
    "\n",
    "data[categorical_columns] = data[categorical_columns].fillna('NaN') # cast missing values to string \"NaN\"\n",
    "\n",
    "data.sample(3)"
   ]
  },
  {
   "cell_type": "markdown",
   "metadata": {},
   "source": [
    "### Preprocessing text data\n",
    "\n",
    "Just like last week, applying NLP to a problem begins from tokenization: splitting raw text into sequences of tokens (words, punctuation, etc).\n",
    "\n",
    "__Your task__ is to lowercase and tokenize all texts under `Title` and `FullDescription` columns. Store the tokenized data as a __space-separated__ string of tokens for performance reasons.\n",
    "\n",
    "It's okay to use nltk tokenizers. Assertions were designed for WordPunctTokenizer, slight deviations are okay."
   ]
  },
  {
   "cell_type": "code",
   "execution_count": 6,
   "metadata": {
    "scrolled": true
   },
   "outputs": [
    {
     "name": "stdout",
     "output_type": "stream",
     "text": [
      "Raw text:\n",
      "2         Mathematical Modeller / Simulation Analyst / O...\n",
      "100002    A successful and high achieving specialist sch...\n",
      "200002    Web Designer  HTML, CSS, JavaScript, Photoshop...\n",
      "Name: FullDescription, dtype: object\n"
     ]
    }
   ],
   "source": [
    "print(\"Raw text:\")\n",
    "print(data[\"FullDescription\"][2::100000])"
   ]
  },
  {
   "cell_type": "code",
   "execution_count": 7,
   "metadata": {},
   "outputs": [],
   "source": [
    "import nltk\n",
    "\n",
    "tokenizer = nltk.tokenize.WordPunctTokenizer()\n",
    "\n",
    "data['Title'] = data['Title'].apply(lambda text: ' '.join(tokenizer.tokenize(str(text).lower())))\n",
    "\n",
    "data['FullDescription'] = data['FullDescription'].apply(lambda text: ' '.join(tokenizer.tokenize(str(text).lower())))"
   ]
  },
  {
   "cell_type": "markdown",
   "metadata": {},
   "source": [
    "Now we can assume that our text is a space-separated list of tokens:"
   ]
  },
  {
   "cell_type": "code",
   "execution_count": 8,
   "metadata": {},
   "outputs": [
    {
     "name": "stdout",
     "output_type": "stream",
     "text": [
      "Tokenized:\n",
      "2         mathematical modeller / simulation analyst / o...\n",
      "100002    a successful and high achieving specialist sch...\n",
      "200002    web designer html , css , javascript , photosh...\n",
      "Name: FullDescription, dtype: object\n"
     ]
    }
   ],
   "source": [
    "print(\"Tokenized:\")\n",
    "print(data[\"FullDescription\"][2::100000])\n",
    "assert data[\"FullDescription\"][2][:50] == 'mathematical modeller / simulation analyst / opera'\n",
    "assert data[\"Title\"][54321] == 'international digital account manager ( german )'"
   ]
  },
  {
   "cell_type": "markdown",
   "metadata": {},
   "source": [
    "Not all words are equally useful. Some of them are typos or rare words that are only present a few times. \n",
    "\n",
    "Let's count how many times is each word present in the data so that we can build a \"white list\" of known words."
   ]
  },
  {
   "cell_type": "code",
   "execution_count": 9,
   "metadata": {},
   "outputs": [],
   "source": [
    "from collections import Counter\n",
    "token_counts = Counter()\n",
    "\n",
    "for index, row in data.iterrows():\n",
    "    title_tokens = row['Title'].split()\n",
    "    description_tokens = row['FullDescription'].split()\n",
    "\n",
    "    token_counts.update(title_tokens)\n",
    "    token_counts.update(description_tokens)"
   ]
  },
  {
   "cell_type": "code",
   "execution_count": 10,
   "metadata": {},
   "outputs": [
    {
     "name": "stdout",
     "output_type": "stream",
     "text": [
      "Total unique tokens : 202704\n",
      "('and', 2657388)\n",
      "('.', 2523216)\n",
      "(',', 2318606)\n",
      "('the', 2080994)\n",
      "('to', 2019884)\n",
      "...\n",
      "('stephanietraveltraderecruitmnt', 1)\n",
      "('ruabon', 1)\n",
      "('lowehays', 1)\n",
      "Correct!\n"
     ]
    }
   ],
   "source": [
    "print(\"Total unique tokens :\", len(token_counts))\n",
    "print('\\n'.join(map(str, token_counts.most_common(n=5))))\n",
    "print('...')\n",
    "print('\\n'.join(map(str, token_counts.most_common()[-3:])))\n",
    "\n",
    "assert token_counts.most_common(1)[0][1] in  range(2600000, 2700000)\n",
    "assert len(token_counts) in range(200000, 210000)\n",
    "print('Correct!')"
   ]
  },
  {
   "cell_type": "code",
   "execution_count": 11,
   "metadata": {},
   "outputs": [
    {
     "data": {
      "image/png": "[encoded data removed]",
      "text/plain": [
       "<Figure size 640x480 with 1 Axes>"
      ]
     },
     "metadata": {},
     "output_type": "display_data"
    }
   ],
   "source": [
    "# Let's see how many words are there for each count\n",
    "plt.hist(list(token_counts.values()), range=[0, 10**4], bins=50, log=True)\n",
    "plt.xlabel(\"Word counts\");"
   ]
  },
  {
   "cell_type": "markdown",
   "metadata": {},
   "source": [
    "__Task 1.1__ Get a list of all tokens that occur at least 10 times."
   ]
  },
  {
   "cell_type": "code",
   "execution_count": 12,
   "metadata": {},
   "outputs": [],
   "source": [
    "min_count = 10\n",
    "\n",
    "# tokens from token_counts keys that had at least min_count occurrences throughout the dataset\n",
    "tokens = sorted(t for t, c in token_counts.items() if c >= min_count)\n",
    "\n",
    "# Add a special tokens for unknown and empty words\n",
    "UNK, PAD = \"UNK\", \"PAD\"\n",
    "tokens = [UNK, PAD] + tokens"
   ]
  },
  {
   "cell_type": "code",
   "execution_count": 13,
   "metadata": {},
   "outputs": [
    {
     "name": "stdout",
     "output_type": "stream",
     "text": [
      "Vocabulary size: 34158\n",
      "Correct!\n"
     ]
    }
   ],
   "source": [
    "print(\"Vocabulary size:\", len(tokens))\n",
    "assert type(tokens) == list\n",
    "assert len(tokens) in range(32000, 35000)\n",
    "assert 'me' in tokens\n",
    "assert UNK in tokens\n",
    "print(\"Correct!\")"
   ]
  },
  {
   "cell_type": "markdown",
   "metadata": {},
   "source": [
    "__Task 1.2__ Build an inverse token index: a dictionary from token(string) to it's index in `tokens` (int)"
   ]
  },
  {
   "cell_type": "code",
   "execution_count": 14,
   "metadata": {},
   "outputs": [],
   "source": [
    "token_to_id = {token: index for index, token in enumerate(tokens)}"
   ]
  },
  {
   "cell_type": "code",
   "execution_count": 15,
   "metadata": {},
   "outputs": [
    {
     "name": "stdout",
     "output_type": "stream",
     "text": [
      "Correct!\n"
     ]
    }
   ],
   "source": [
    "assert isinstance(token_to_id, dict)\n",
    "assert len(token_to_id) == len(tokens)\n",
    "for tok in tokens:\n",
    "    assert tokens[token_to_id[tok]] == tok\n",
    "\n",
    "print(\"Correct!\")"
   ]
  },
  {
   "cell_type": "markdown",
   "metadata": {},
   "source": [
    "And finally, let's use the vocabulary you've built to map text lines into neural network-digestible matrices."
   ]
  },
  {
   "cell_type": "code",
   "execution_count": 16,
   "metadata": {},
   "outputs": [],
   "source": [
    "UNK_IX, PAD_IX = map(token_to_id.get, [UNK, PAD])\n",
    "\n",
    "def as_matrix(sequences, max_len=None):\n",
    "    \"\"\" Convert a list of tokens into a matrix with padding \"\"\"\n",
    "    if isinstance(sequences[0], str):\n",
    "        sequences = list(map(str.split, sequences))\n",
    "        \n",
    "    max_len = min(max(map(len, sequences)), max_len or float('inf'))\n",
    "    \n",
    "    matrix = np.full((len(sequences), max_len), np.int32(PAD_IX))\n",
    "    for i,seq in enumerate(sequences):\n",
    "        row_ix = [token_to_id.get(word, UNK_IX) for word in seq[:max_len]]\n",
    "        matrix[i, :len(row_ix)] = row_ix\n",
    "    \n",
    "    return matrix"
   ]
  },
  {
   "cell_type": "code",
   "execution_count": 17,
   "metadata": {},
   "outputs": [
    {
     "name": "stdout",
     "output_type": "stream",
     "text": [
      "Lines:\n",
      "engineering systems analyst\n",
      "hr assistant\n",
      "senior ec & i engineer\n",
      "\n",
      "Matrix:\n",
      "[[10807 30161  2166     1     1]\n",
      " [15020  2844     1     1     1]\n",
      " [27645 10201    16 15215 10804]]\n"
     ]
    }
   ],
   "source": [
    "print(\"Lines:\")\n",
    "print('\\n'.join(data[\"Title\"][::100000].values), end='\\n\\n')\n",
    "print(\"Matrix:\")\n",
    "print(as_matrix(data[\"Title\"][::100000]))"
   ]
  },
  {
   "cell_type": "markdown",
   "metadata": {},
   "source": [
    "Now let's  encode the categirical data we have.\n",
    "\n",
    "As usual, we shall use one-hot encoding for simplicity. Kudos if you implement more advanced encodings: tf-idf, pseudo-time-series, etc."
   ]
  },
  {
   "cell_type": "code",
   "execution_count": 18,
   "metadata": {},
   "outputs": [
    {
     "data": {
      "text/html": [
       "<style>#sk-container-id-1 {color: black;}#sk-container-id-1 pre{padding: 0;}#sk-container-id-1 div.sk-toggleable {background-color: white;}#sk-container-id-1 label.sk-toggleable__label {cursor: pointer;display: block;width: 100%;margin-bottom: 0;padding: 0.3em;box-sizing: border-box;text-align: center;}#sk-container-id-1 label.sk-toggleable__label-arrow:before {content: \"▸\";float: left;margin-right: 0.25em;color: #696969;}#sk-container-id-1 label.sk-toggleable__label-arrow:hover:before {color: black;}#sk-container-id-1 div.sk-estimator:hover label.sk-toggleable__label-arrow:before {color: black;}#sk-container-id-1 div.sk-toggleable__content {max-height: 0;max-width: 0;overflow: hidden;text-align: left;background-color: #f0f8ff;}#sk-container-id-1 div.sk-toggleable__content pre {margin: 0.2em;color: black;border-radius: 0.25em;background-color: #f0f8ff;}#sk-container-id-1 input.sk-toggleable__control:checked~div.sk-toggleable__content {max-height: 200px;max-width: 100%;overflow: auto;}#sk-container-id-1 input.sk-toggleable__control:checked~label.sk-toggleable__label-arrow:before {content: \"▾\";}#sk-container-id-1 div.sk-estimator input.sk-toggleable__control:checked~label.sk-toggleable__label {background-color: #d4ebff;}#sk-container-id-1 div.sk-label input.sk-toggleable__control:checked~label.sk-toggleable__label {background-color: #d4ebff;}#sk-container-id-1 input.sk-hidden--visually {border: 0;clip: rect(1px 1px 1px 1px);clip: rect(1px, 1px, 1px, 1px);height: 1px;margin: -1px;overflow: hidden;padding: 0;position: absolute;width: 1px;}#sk-container-id-1 div.sk-estimator {font-family: monospace;background-color: #f0f8ff;border: 1px dotted black;border-radius: 0.25em;box-sizing: border-box;margin-bottom: 0.5em;}#sk-container-id-1 div.sk-estimator:hover {background-color: #d4ebff;}#sk-container-id-1 div.sk-parallel-item::after {content: \"\";width: 100%;border-bottom: 1px solid gray;flex-grow: 1;}#sk-container-id-1 div.sk-label:hover label.sk-toggleable__label {background-color: #d4ebff;}#sk-container-id-1 div.sk-serial::before {content: \"\";position: absolute;border-left: 1px solid gray;box-sizing: border-box;top: 0;bottom: 0;left: 50%;z-index: 0;}#sk-container-id-1 div.sk-serial {display: flex;flex-direction: column;align-items: center;background-color: white;padding-right: 0.2em;padding-left: 0.2em;position: relative;}#sk-container-id-1 div.sk-item {position: relative;z-index: 1;}#sk-container-id-1 div.sk-parallel {display: flex;align-items: stretch;justify-content: center;background-color: white;position: relative;}#sk-container-id-1 div.sk-item::before, #sk-container-id-1 div.sk-parallel-item::before {content: \"\";position: absolute;border-left: 1px solid gray;box-sizing: border-box;top: 0;bottom: 0;left: 50%;z-index: -1;}#sk-container-id-1 div.sk-parallel-item {display: flex;flex-direction: column;z-index: 1;position: relative;background-color: white;}#sk-container-id-1 div.sk-parallel-item:first-child::after {align-self: flex-end;width: 50%;}#sk-container-id-1 div.sk-parallel-item:last-child::after {align-self: flex-start;width: 50%;}#sk-container-id-1 div.sk-parallel-item:only-child::after {width: 0;}#sk-container-id-1 div.sk-dashed-wrapped {border: 1px dashed gray;margin: 0 0.4em 0.5em 0.4em;box-sizing: border-box;padding-bottom: 0.4em;background-color: white;}#sk-container-id-1 div.sk-label label {font-family: monospace;font-weight: bold;display: inline-block;line-height: 1.2em;}#sk-container-id-1 div.sk-label-container {text-align: center;}#sk-container-id-1 div.sk-container {/* jupyter's `normalize.less` sets `[hidden] { display: none; }` but bootstrap.min.css set `[hidden] { display: none !important; }` so we also need the `!important` here to be able to override the default hidden behavior on the sphinx rendered scikit-learn.org. See: https://github.com/scikit-learn/scikit-learn/issues/21755 */display: inline-block !important;position: relative;}#sk-container-id-1 div.sk-text-repr-fallback {display: none;}</style><div id=\"sk-container-id-1\" class=\"sk-top-container\"><div class=\"sk-text-repr-fallback\"><pre>DictVectorizer(dtype=&lt;class &#x27;numpy.float32&#x27;&gt;, sparse=False)</pre><b>In a Jupyter environment, please rerun this cell to show the HTML representation or trust the notebook. <br />On GitHub, the HTML representation is unable to render, please try loading this page with nbviewer.org.</b></div><div class=\"sk-container\" hidden><div class=\"sk-item\"><div class=\"sk-estimator sk-toggleable\"><input class=\"sk-toggleable__control sk-hidden--visually\" id=\"sk-estimator-id-1\" type=\"checkbox\" checked><label for=\"sk-estimator-id-1\" class=\"sk-toggleable__label sk-toggleable__label-arrow\">DictVectorizer</label><div class=\"sk-toggleable__content\"><pre>DictVectorizer(dtype=&lt;class &#x27;numpy.float32&#x27;&gt;, sparse=False)</pre></div></div></div></div></div>"
      ],
      "text/plain": [
       "DictVectorizer(dtype=<class 'numpy.float32'>, sparse=False)"
      ]
     },
     "execution_count": 18,
     "metadata": {},
     "output_type": "execute_result"
    }
   ],
   "source": [
    "from sklearn.feature_extraction import DictVectorizer\n",
    "\n",
    "# we only consider top-1k most frequent companies to minimize memory usage\n",
    "top_companies, top_counts = zip(*Counter(data['Company']).most_common(1000))\n",
    "recognized_companies = set(top_companies)\n",
    "data[\"Company\"] = data[\"Company\"].apply(lambda comp: comp if comp in recognized_companies else \"Other\")\n",
    "\n",
    "categorical_vectorizer = DictVectorizer(dtype=np.float32, sparse=False)\n",
    "categorical_vectorizer.fit(data[categorical_columns].apply(dict, axis=1))"
   ]
  },
  {
   "cell_type": "markdown",
   "metadata": {},
   "source": [
    "### The deep learning part\n",
    "\n",
    "Once we've learned to tokenize the data, let's design a machine learning experiment.\n",
    "\n",
    "As before, we won't focus too much on validation, opting for a simple train-test split.\n",
    "\n",
    "__To be completely rigorous,__ we've comitted a small crime here: we used the whole data for tokenization and vocabulary building. A more strict way would be to do that part on training set only. You may want to do that and measure the magnitude of changes."
   ]
  },
  {
   "cell_type": "code",
   "execution_count": 19,
   "metadata": {},
   "outputs": [
    {
     "name": "stdout",
     "output_type": "stream",
     "text": [
      "Train size =  195814\n",
      "Validation size =  48954\n"
     ]
    }
   ],
   "source": [
    "from sklearn.model_selection import train_test_split\n",
    "\n",
    "data_train, data_val = train_test_split(data, test_size=0.2, random_state=42)\n",
    "data_train.index = range(len(data_train))\n",
    "data_val.index = range(len(data_val))\n",
    "\n",
    "print(\"Train size = \", len(data_train))\n",
    "print(\"Validation size = \", len(data_val))"
   ]
  },
  {
   "cell_type": "code",
   "execution_count": 35,
   "metadata": {},
   "outputs": [],
   "source": [
    "import torch\n",
    "import torch.nn as nn\n",
    "import torch.functional as F\n",
    "\n",
    "# device = 'cuda' if torch.cuda.is_available() else 'cpu'\n",
    "device = 'cpu'\n",
    "\n",
    "def to_tensors(batch, device):\n",
    "    batch_tensors = dict()\n",
    "    for key, arr in batch.items():\n",
    "        if key in [\"FullDescription\", \"Title\"]:\n",
    "            batch_tensors[key] = torch.tensor(arr, device=device, dtype=torch.int64)\n",
    "        else:\n",
    "            batch_tensors[key] = torch.tensor(arr, device=device)\n",
    "    return batch_tensors\n",
    "\n",
    "\n",
    "def make_batch(data, max_len=None, word_dropout=0, device=device):\n",
    "    \"\"\"\n",
    "    Creates a keras-friendly dict from the batch data.\n",
    "    :param word_dropout: replaces token index with UNK_IX with this probability\n",
    "    :returns: a dict with {'title' : int64[batch, title_max_len]\n",
    "    \"\"\"\n",
    "    batch = {}\n",
    "    batch[\"Title\"] = as_matrix(data[\"Title\"].values, max_len)\n",
    "    batch[\"FullDescription\"] = as_matrix(data[\"FullDescription\"].values, max_len)\n",
    "    batch['Categorical'] = categorical_vectorizer.transform(data[categorical_columns].apply(dict, axis=1))\n",
    "    \n",
    "    if word_dropout != 0:\n",
    "        batch[\"FullDescription\"] = apply_word_dropout(batch[\"FullDescription\"], 1. - word_dropout)\n",
    "    \n",
    "    if TARGET_COLUMN in data.columns:\n",
    "        batch[TARGET_COLUMN] = data[TARGET_COLUMN].values\n",
    "    \n",
    "    return to_tensors(batch, device)\n",
    "\n",
    "def apply_word_dropout(matrix, keep_prop, replace_with=UNK_IX, pad_ix=PAD_IX,):\n",
    "    dropout_mask = np.random.choice(2, np.shape(matrix), p=[keep_prop, 1 - keep_prop])\n",
    "    dropout_mask &= matrix != pad_ix\n",
    "    return np.choose(dropout_mask, [matrix, np.full_like(matrix, replace_with)])"
   ]
  },
  {
   "cell_type": "code",
   "execution_count": 36,
   "metadata": {},
   "outputs": [
    {
     "data": {
      "text/plain": [
       "'cpu'"
      ]
     },
     "execution_count": 36,
     "metadata": {},
     "output_type": "execute_result"
    }
   ],
   "source": [
    "device"
   ]
  },
  {
   "cell_type": "code",
   "execution_count": 37,
   "metadata": {},
   "outputs": [
    {
     "data": {
      "text/plain": [
       "0                                senior support worker\n",
       "1    statistical / mathematical modeller in pharmac...\n",
       "2                         emc team leader ( def stan )\n",
       "Name: Title, dtype: object"
      ]
     },
     "execution_count": 37,
     "metadata": {},
     "output_type": "execute_result"
    }
   ],
   "source": [
    "data_train[:3].Title"
   ]
  },
  {
   "cell_type": "code",
   "execution_count": 38,
   "metadata": {
    "scrolled": true
   },
   "outputs": [
    {
     "data": {
      "text/plain": [
       "{'Title': tensor([[27645, 29893, 33674,     1,     1,     1,     1],\n",
       "         [29239,   197, 19175, 20042, 15554, 23162,  4051],\n",
       "         [10609, 30412, 17746,    33,  8705, 29157,    65]]),\n",
       " 'FullDescription': tensor([[27645, 29893, 33674, 32939,   982, 27645, 29893, 33674, 16451, 32939],\n",
       "         [29239,   197, 19175, 20042, 15554, 23162,  4051, 25511,   907,    82],\n",
       "         [30746, 21956, 20601,  6409, 16451,  8165, 27493,   982, 30412, 17746]]),\n",
       " 'Categorical': tensor([[0., 0., 0.,  ..., 0., 0., 0.],\n",
       "         [0., 0., 0.,  ..., 0., 0., 0.],\n",
       "         [0., 0., 0.,  ..., 0., 0., 0.]]),\n",
       " 'Log1pSalary': tensor([ 9.7115, 10.4631, 10.7144])}"
      ]
     },
     "execution_count": 38,
     "metadata": {},
     "output_type": "execute_result"
    }
   ],
   "source": [
    "batch = make_batch(data_train[:3], max_len=10)\n",
    "batch"
   ]
  },
  {
   "cell_type": "code",
   "execution_count": 39,
   "metadata": {},
   "outputs": [
    {
     "data": {
      "text/plain": [
       "torch.Size([3, 7])"
      ]
     },
     "execution_count": 39,
     "metadata": {},
     "output_type": "execute_result"
    }
   ],
   "source": [
    "batch['Title'].shape"
   ]
  },
  {
   "cell_type": "markdown",
   "metadata": {},
   "source": [
    "#### Architecture\n",
    "\n",
    "Our basic model consists of three branches:\n",
    "* Title encoder\n",
    "* Description encoder\n",
    "* Categorical features encoder\n",
    "\n",
    "We will then feed all 3 branches into one common network that predicts salary.\n",
    "\n",
    "![scheme](https://github.com/yandexdataschool/nlp_course/raw/master/resources/w2_conv_arch.png)"
   ]
  },
  {
   "cell_type": "markdown",
   "metadata": {},
   "source": [
    "This clearly doesn't fit into keras' __Sequential__ interface. To build such a network, one will have to use PyTorch."
   ]
  },
  {
   "cell_type": "code",
   "execution_count": 40,
   "metadata": {},
   "outputs": [],
   "source": [
    "class SalaryPredictor(nn.Module):\n",
    "    def __init__(self, n_tokens=len(tokens), n_cat_features=len(categorical_vectorizer.vocabulary_), hid_size=64):\n",
    "        super().__init__()\n",
    "\n",
    "        self.embedding = nn.Embedding(num_embeddings=n_tokens, embedding_dim=256)\n",
    "        self.conv = nn.Conv1d(256, hid_size, kernel_size=3, padding=\"same\")\n",
    "        self.pooling = nn.MaxPool1d(5)\n",
    "        \n",
    "        self.fc1 = nn.Linear(n_cat_features, hid_size)\n",
    "        self.ac1 = nn.Sigmoid()\n",
    "\n",
    "        self.fc2 = nn.Linear(192, 1)\n",
    "        self.fc3 = nn.Linear(100, 100)\n",
    "        self.relu = nn.ReLU()\n",
    "\n",
    "    def forward(self, batch):\n",
    "        # Title encoder\n",
    "        x_title = batch['Title']\n",
    "       #print(f'x_title shape (base): {x_title.shape}')\n",
    "        x_title = self.embedding(x_title)\n",
    "       #print(f'x_title shape (emb): {x_title.shape}')\n",
    "        x_title = self.conv(x_title.transpose(2,1))\n",
    "       #print(f'x_title shape (conv): {x_title.shape}')\n",
    "        x_title, _ = x_title.max(dim=-1)\n",
    "        #print(f'x_title shape (pool): {x_title.size()}')\n",
    "\n",
    "        # Description encoder\n",
    "        x_descr = batch['FullDescription']\n",
    "        #print(f'x_descr shape (base): {x_descr.shape}')\n",
    "        x_descr = self.embedding(x_descr)\n",
    "        #print(f'x_descr shape (emb): {x_descr.shape}')\n",
    "        x_descr = self.conv(x_descr.transpose(2,1))\n",
    "        #print(f'x_descr shape (conv): {x_descr.shape}')\n",
    "        x_descr, _ = x_descr.max(dim=-1)\n",
    "        #print(f'x_descr shape (pool): {x_descr.size()}')\n",
    "\n",
    "        # Categorical encoder\n",
    "        x_cat = batch['Categorical']\n",
    "        #print(f'x_cat shape (base): {x_cat.shape}')\n",
    "        x_cat = self.fc1(x_cat)\n",
    "        x_cat = self.ac1(x_cat)\n",
    "        #print(f'x_cat shape (ac1): {x_cat.shape}')\n",
    "\n",
    "        # Concat\n",
    "        X = torch.cat([x_title, x_descr, x_cat], dim=1)\n",
    "        #print(f'x shape: {X.shape}')\n",
    "\n",
    "        # Output\n",
    "        X = self.fc2(X)\n",
    "        #print(f'x shape (fc2): {X.shape}')\n",
    "        X.squeeze_()\n",
    "        #print(f'x shape (sq): {X.shape}')\n",
    "        #X = self.fc3(X)\n",
    "        #print(f'x shape (fc3): {X.shape}')\n",
    "        #X.squeeze_()\n",
    "        #print(f'x shape (sq): {X.shape}')\n",
    "        X = self.relu(X)\n",
    "        #print(f'output shape: {X.shape}')\n",
    "        return X"
   ]
  },
  {
   "cell_type": "code",
   "execution_count": 124,
   "metadata": {},
   "outputs": [],
   "source": [
    "class SalaryPredictor(nn.Module):\n",
    "    def __init__(self, n_tokens=len(tokens), n_cat_features=len(categorical_vectorizer.vocabulary_), hid_size=64):\n",
    "        super().__init__()\n",
    "\n",
    "        # print(n_tokens)\n",
    "        \n",
    "        emb_dim = 20\n",
    "        conv_hid_size = 64\n",
    "        \n",
    "        # Title Encoder\n",
    "        self.title_emb = nn.Embedding(n_tokens, emb_dim)\n",
    "        self.title_conv = nn.Conv1d(emb_dim, conv_hid_size, kernel_size=3)\n",
    "        # self.title_pool = nn.MaxPool1d(kernel_size=2)\n",
    "        \n",
    "        # Description Encoder\n",
    "        self.desc_emb = nn.Embedding(n_tokens, emb_dim)\n",
    "        self.desc_conv = nn.Conv1d(emb_dim, conv_hid_size, kernel_size=3)\n",
    "        # self.desc_pool = nn.MaxPool1d(kernel_size=2)\n",
    "        \n",
    "        # Categorical Features Encoder\n",
    "        self.cat_fc = nn.Linear(n_cat_features, hid_size)\n",
    "        \n",
    "        # Fully Connected Layers for Combining the Branches\n",
    "        self.fc1 = nn.Linear(hid_size * 3, hid_size)\n",
    "        self.fc2 = nn.Linear(hid_size, hid_size)\n",
    "        self.output_layer = nn.Linear(hid_size, 1)  # Output is 1 for Log1p(Salary)\n",
    "        \n",
    "    def forward(self, batch):\n",
    "        title_input = batch['Title']\n",
    "        desc_input = batch['FullDescription']\n",
    "        cat_input = batch['Categorical']\n",
    "\n",
    "        # print(\"title_input: \", title_input.shape)\n",
    "        \n",
    "        # Title Encoder\n",
    "        title_emb = self.title_emb(title_input)\n",
    "\n",
    "        # print(\"title_emb: \", title_emb.shape)\n",
    "        \n",
    "        title_emb_t = title_emb.transpose(2, 1)\n",
    "        \n",
    "        # print(\"title_emb_t: \", title_emb_t.shape)\n",
    "        \n",
    "        title_conv = self.title_conv(title_emb_t)\n",
    "\n",
    "        # print(\"title_conv: \", title_conv.shape)\n",
    "        \n",
    "        # title_pool = self.title_pool(title_conv)\n",
    "        title_pool, _ = title_conv.max(dim=-1)\n",
    "\n",
    "        # print(\"title_pool: \", title_pool.shape)\n",
    "\n",
    "        # print(\"-----------\")\n",
    "\n",
    "        # print(\"desc_input: \", title_input.shape)\n",
    "        \n",
    "        # Description Encoder\n",
    "        desc_emb = self.desc_emb(desc_input)\n",
    "\n",
    "        # print(\"desc_emb: \", desc_emb.shape)\n",
    "\n",
    "        desc_emb_t = desc_emb.transpose(2, 1)\n",
    "        \n",
    "        # print(\"desc_emb_t: \", desc_emb_t.shape)\n",
    "        \n",
    "        desc_conv = self.desc_conv(desc_emb_t)\n",
    "\n",
    "        # print(\"desc_conv: \", desc_conv.shape)\n",
    "        \n",
    "        # desc_pool = self.desc_pool(desc_conv)\n",
    "        desc_pool, _ = desc_conv.max(dim=-1)\n",
    "\n",
    "        # print(\"desc_pool: \", desc_pool.shape)\n",
    "\n",
    "        # print(\"-----------\")\n",
    "        \n",
    "        # print(\"cat_input: \", cat_input.shape)\n",
    "        \n",
    "        # Categorical Features Encoder\n",
    "        cat_output = self.cat_fc(cat_input)\n",
    "\n",
    "        # print(\"cat_output: \", cat_output.shape)\n",
    "\n",
    "        # print(\"-----------\")\n",
    "\n",
    "        # title_flatten = title_pool.view(title_pool.shape[0], title_pool.shape[1]*title_pool.shape[2])\n",
    "\n",
    "        # print(\"title_flatten: \", title_flatten.shape)\n",
    "\n",
    "        # desc_flatten = desc_pool.view(desc_pool.shape[0], desc_pool.shape[1]*desc_pool.shape[2])\n",
    "\n",
    "        # print(\"desc_flatten: \", desc_flatten.shape)\n",
    "        \n",
    "        # Concatenate the encoded branches\n",
    "        concatenated = torch.cat([title_pool, desc_pool, cat_output], dim=1)\n",
    "\n",
    "        # print(\"concatenated: \", concatenated.shape)\n",
    "        \n",
    "        # Fully Connected Layers\n",
    "        x = torch.relu(self.fc1(concatenated))\n",
    "        x = torch.relu(self.fc2(x))\n",
    "        \n",
    "        # Output Layer\n",
    "        output = self.output_layer(x)\n",
    "        output = output.view(output.shape[0])\n",
    "        \n",
    "        return output\n"
   ]
  },
  {
   "cell_type": "code",
   "execution_count": 125,
   "metadata": {},
   "outputs": [],
   "source": [
    "model = SalaryPredictor()"
   ]
  },
  {
   "cell_type": "code",
   "execution_count": 132,
   "metadata": {},
   "outputs": [],
   "source": [
    "model = SalaryPredictor()\n",
    "batch = make_batch(data_train[:100])\n",
    "criterion = nn.MSELoss()\n",
    "\n",
    "dummy_pred = model(batch)\n",
    "dummy_loss = criterion(dummy_pred, batch[TARGET_COLUMN])\n",
    "# print(dummy_pred.shape)\n",
    "# print(dummy_pred)\n",
    "assert dummy_pred.shape == torch.Size([100])\n",
    "# print(torch.unique(dummy_pred))\n",
    "assert len(torch.unique(dummy_pred)) > 20, \"model returns suspiciously few unique outputs. Check your initialization\"\n",
    "assert dummy_loss.ndim == 0 and 0. <= dummy_loss <= 250., \"make sure you minimize MSE\""
   ]
  },
  {
   "cell_type": "markdown",
   "metadata": {},
   "source": [
    "#### Training and evaluation\n",
    "\n",
    "As usual, we gonna feed our monster with random minibatches of data. \n",
    "\n",
    "As we train, we want to monitor not only loss function, which is computed in log-space, but also the actual error measured in dollars."
   ]
  },
  {
   "cell_type": "code",
   "execution_count": 133,
   "metadata": {},
   "outputs": [],
   "source": [
    "def iterate_minibatches(data, batch_size=256, shuffle=True, cycle=False, device=device, **kwargs):\n",
    "    \"\"\" iterates minibatches of data in random order \"\"\"\n",
    "    while True:\n",
    "        indices = np.arange(len(data))\n",
    "        if shuffle:\n",
    "            indices = np.random.permutation(indices)\n",
    "\n",
    "        for start in range(0, len(indices), batch_size):\n",
    "            batch = make_batch(data.iloc[indices[start : start + batch_size]], device=device, **kwargs)\n",
    "            yield batch\n",
    "        \n",
    "        if not cycle: break"
   ]
  },
  {
   "cell_type": "markdown",
   "metadata": {},
   "source": [
    "### Model training\n",
    "\n",
    "We can now fit our model the usual minibatch way. The interesting part is that we train on an infinite stream of minibatches, produced by `iterate_minibatches` function."
   ]
  },
  {
   "cell_type": "code",
   "execution_count": 134,
   "metadata": {},
   "outputs": [],
   "source": [
    "from tqdm.auto import tqdm\n",
    "\n",
    "BATCH_SIZE = 16\n",
    "EPOCHS = 5"
   ]
  },
  {
   "cell_type": "code",
   "execution_count": 135,
   "metadata": {},
   "outputs": [],
   "source": [
    "def print_metrics(model, data, batch_size=BATCH_SIZE, name=\"\", device=torch.device('cpu'), **kw):\n",
    "    squared_error = abs_error = num_samples = 0.0\n",
    "    model.eval()\n",
    "    with torch.no_grad():\n",
    "        for batch in iterate_minibatches(data, batch_size=batch_size, shuffle=False, device=device, **kw):\n",
    "            batch_pred = model(batch)\n",
    "            squared_error += torch.sum(torch.square(batch_pred - batch[TARGET_COLUMN]))\n",
    "            abs_error += torch.sum(torch.abs(batch_pred - batch[TARGET_COLUMN]))\n",
    "            num_samples += len(batch_pred)\n",
    "    mse = squared_error.detach().cpu().numpy() / num_samples\n",
    "    mae = abs_error.detach().cpu().numpy() / num_samples\n",
    "    print(\"%s results:\" % (name or \"\"))\n",
    "    print(\"Mean square error: %.5f\" % mse)\n",
    "    print(\"Mean absolute error: %.5f\" % mae)\n",
    "    return mse, mae\n"
   ]
  },
  {
   "cell_type": "code",
   "execution_count": 136,
   "metadata": {},
   "outputs": [
    {
     "name": "stdout",
     "output_type": "stream",
     "text": [
      "epoch: 0\n"
     ]
    },
    {
     "name": "stderr",
     "output_type": "stream",
     "text": [
      "12239it [02:01, 100.76it/s]                                                     \n"
     ]
    },
    {
     "name": "stdout",
     "output_type": "stream",
     "text": [
      " results:\n",
      "Mean square error: 0.16231\n",
      "Mean absolute error: 0.31382\n",
      "epoch: 1\n"
     ]
    },
    {
     "name": "stderr",
     "output_type": "stream",
     "text": [
      "12239it [02:02, 99.72it/s]                                                      \n"
     ]
    },
    {
     "name": "stdout",
     "output_type": "stream",
     "text": [
      " results:\n",
      "Mean square error: 0.14032\n",
      "Mean absolute error: 0.29070\n",
      "epoch: 2\n"
     ]
    },
    {
     "name": "stderr",
     "output_type": "stream",
     "text": [
      "12239it [02:06, 96.78it/s]                                                      \n"
     ]
    },
    {
     "name": "stdout",
     "output_type": "stream",
     "text": [
      " results:\n",
      "Mean square error: 0.14469\n",
      "Mean absolute error: 0.29823\n",
      "epoch: 3\n"
     ]
    },
    {
     "name": "stderr",
     "output_type": "stream",
     "text": [
      "12239it [02:05, 97.18it/s]                                                      \n"
     ]
    },
    {
     "name": "stdout",
     "output_type": "stream",
     "text": [
      " results:\n",
      "Mean square error: 0.12247\n",
      "Mean absolute error: 0.26649\n",
      "epoch: 4\n"
     ]
    },
    {
     "name": "stderr",
     "output_type": "stream",
     "text": [
      "12239it [02:05, 97.41it/s]                                                      \n"
     ]
    },
    {
     "name": "stdout",
     "output_type": "stream",
     "text": [
      " results:\n",
      "Mean square error: 0.12360\n",
      "Mean absolute error: 0.26734\n"
     ]
    }
   ],
   "source": [
    "model = SalaryPredictor().to(device)\n",
    "criterion = nn.MSELoss(reduction='sum')\n",
    "optimizer = torch.optim.SGD(model.parameters(), lr=1e-4)\n",
    "\n",
    "for epoch in range(EPOCHS):\n",
    "    print(f\"epoch: {epoch}\")\n",
    "    model.train()\n",
    "    for i, batch in tqdm(enumerate(\n",
    "            iterate_minibatches(data_train, batch_size=BATCH_SIZE, device=device)),\n",
    "            total=len(data_train) // BATCH_SIZE\n",
    "        ):\n",
    "        pred = model(batch)\n",
    "        loss = criterion(pred, batch[TARGET_COLUMN])\n",
    "        optimizer.zero_grad()\n",
    "        loss.backward()\n",
    "        optimizer.step()\n",
    "        \n",
    "    print_metrics(model, data_val, device=device)\n",
    "\n",
    "      "
   ]
  },
  {
   "cell_type": "markdown",
   "metadata": {},
   "source": [
    "### Bonus part: explaining model predictions\n",
    "\n",
    "It's usually a good idea to understand how your model works before you let it make actual decisions. It's simple for linear models: just see which words learned positive or negative weights. However, its much harder for neural networks that learn complex nonlinear dependencies.\n",
    "\n",
    "There are, however, some ways to look inside the black box:\n",
    "* Seeing how model responds to input perturbations\n",
    "* Finding inputs that maximize/minimize activation of some chosen neurons (_read more [on distill.pub](https://distill.pub/2018/building-blocks/)_)\n",
    "* Building local linear approximations to your neural network: [article](https://arxiv.org/abs/1602.04938), [eli5 library](https://github.com/TeamHG-Memex/eli5/tree/master/eli5/formatters)\n",
    "\n",
    "Today we gonna try the first method just because it's the simplest one."
   ]
  },
  {
   "cell_type": "code",
   "execution_count": 141,
   "metadata": {},
   "outputs": [],
   "source": [
    "def explain(model, sample, col_name='Title'):\n",
    "    \"\"\" Computes the effect each word had on model predictions \"\"\"\n",
    "    sample = dict(sample)\n",
    "    sample_col_tokens = [tokens[token_to_id.get(tok, 0)] for tok in sample[col_name].split()]\n",
    "    data_drop_one_token = pd.DataFrame([sample] * (len(sample_col_tokens) + 1))\n",
    "\n",
    "    for drop_i in range(len(sample_col_tokens)):\n",
    "        data_drop_one_token.loc[drop_i, col_name] = ' '.join(UNK if i == drop_i else tok\n",
    "                                                   for i, tok in enumerate(sample_col_tokens)) \n",
    "\n",
    "    *predictions_drop_one_token, baseline_pred = model.forward(make_batch(data_drop_one_token, device=device)).detach().cpu()\n",
    "    diffs = baseline_pred - torch.Tensor(predictions_drop_one_token)\n",
    "    return list(zip(sample_col_tokens, diffs))"
   ]
  },
  {
   "cell_type": "code",
   "execution_count": 142,
   "metadata": {},
   "outputs": [],
   "source": [
    "from IPython.display import HTML, display_html\n",
    "\n",
    "\n",
    "def draw_html(tokens_and_weights, cmap=plt.get_cmap(\"bwr\"), display=True,\n",
    "              token_template=\"\"\"<span style=\"background-color: {color_hex}\">{token}</span>\"\"\",\n",
    "              font_style=\"font-size:14px;\"\n",
    "             ):\n",
    "    \n",
    "    def get_color_hex(weight):\n",
    "        rgba = cmap(1. / (1 + np.exp(float(weight))), bytes=True)\n",
    "        return '#%02X%02X%02X' % rgba[:3]\n",
    "    \n",
    "    tokens_html = [\n",
    "        token_template.format(token=token, color_hex=get_color_hex(weight))\n",
    "        for token, weight in tokens_and_weights\n",
    "    ]\n",
    "    \n",
    "    \n",
    "    raw_html = \"\"\"<p style=\"{}\">{}</p>\"\"\".format(font_style, ' '.join(tokens_html))\n",
    "    if display:\n",
    "        display_html(HTML(raw_html))\n",
    "        \n",
    "    return raw_html\n",
    "    "
   ]
  },
  {
   "cell_type": "code",
   "execution_count": 144,
   "metadata": {},
   "outputs": [
    {
     "data": {
      "text/html": [
       "<p style=\"font-size:20px;\"><span style=\"background-color: #FFFCFC\">sales</span> <span style=\"background-color: #FFE0E0\">specialist</span> <span style=\"background-color: #E0E0FF\">iv</span> <span style=\"background-color: #FF9292\">access</span> <span style=\"background-color: #BABAFF\">and</span> <span style=\"background-color: #FFEEEE\">infusion</span></p>"
      ]
     },
     "metadata": {},
     "output_type": "display_data"
    },
    {
     "data": {
      "text/html": [
       "<p style=\"font-size:14px;\"><span style=\"background-color: #FFFEFE\">sales</span> <span style=\"background-color: #FFE0E0\">representative</span> <span style=\"background-color: #FFF6F6\">medical</span> <span style=\"background-color: #FFD6D6\">sales</span> <span style=\"background-color: #FEFEFF\">iv</span> <span style=\"background-color: #FFFEFE\">access</span> <span style=\"background-color: #FFCACA\">and</span> <span style=\"background-color: #FFE8E8\">infusion</span> <span style=\"background-color: #EAEAFF\">an</span> <span style=\"background-color: #EAEAFF\">opportunity</span> <span style=\"background-color: #FFEEEE\">to</span> <span style=\"background-color: #FFF4F4\">work</span> <span style=\"background-color: #FFF8F8\">for</span> <span style=\"background-color: #FFFEFE\">the</span> <span style=\"background-color: #FFECEC\">industry</span> <span style=\"background-color: #FCFCFF\">leading</span> <span style=\"background-color: #FCFCFF\">manufacturer</span> <span style=\"background-color: #FFFAFA\">of</span> <span style=\"background-color: #F2F2FF\">iv</span> <span style=\"background-color: #F2F2FF\">access</span> <span style=\"background-color: #FFAEAE\">and</span> <span style=\"background-color: #FCFCFF\">infusion</span> <span style=\"background-color: #FCFCFF\">solutions</span> <span style=\"background-color: #FCFCFF\">.</span> <span style=\"background-color: #FFFEFE\">formally</span> <span style=\"background-color: #FFFEFE\">recognised</span> <span style=\"background-color: #FFD8D8\">as</span> <span style=\"background-color: #F8F8FF\">the</span> <span style=\"background-color: #DCDCFF\">number</span> <span style=\"background-color: #FEFEFF\">****</span> <span style=\"background-color: #FFFEFE\">company</span> <span style=\"background-color: #FFFEFE\">in</span> <span style=\"background-color: #FEFEFF\">this</span> <span style=\"background-color: #FFFEFE\">market</span> <span style=\"background-color: #E0E0FF\">space</span> <span style=\"background-color: #FFFAFA\">,</span> <span style=\"background-color: #FFFAFA\">our</span> <span style=\"background-color: #FFFEFE\">client</span> <span style=\"background-color: #FFFEFE\">are</span> <span style=\"background-color: #FFFEFE\">an</span> <span style=\"background-color: #FFFEFE\">ethical</span> <span style=\"background-color: #EEEEFF\">and</span> <span style=\"background-color: #FFD3D3\">dynamic</span> <span style=\"background-color: #FFFCFC\">organisation</span> <span style=\"background-color: #FFFEFE\">absolutely</span> <span style=\"background-color: #A6A6FF\">committed</span> <span style=\"background-color: #BABAFF\">to</span> <span style=\"background-color: #9C9CFF\">the</span> <span style=\"background-color: #FEFEFF\">advancement</span> <span style=\"background-color: #E2E2FF\">of</span> <span style=\"background-color: #FCFCFF\">innovative</span> <span style=\"background-color: #F8F8FF\">technologies</span> <span style=\"background-color: #FFFEFE\">.</span> <span style=\"background-color: #FFFCFC\">job</span> <span style=\"background-color: #FAFAFF\">title</span> <span style=\"background-color: #F2F2FF\">:</span> <span style=\"background-color: #FFFEFE\">sales</span> <span style=\"background-color: #ECECFF\">specialist</span> <span style=\"background-color: #FFFEFE\">iv</span> <span style=\"background-color: #FFFEFE\">access</span> <span style=\"background-color: #FFC6C6\">and</span> <span style=\"background-color: #FFE6E6\">infusion</span> <span style=\"background-color: #FFE6E6\">selling</span> <span style=\"background-color: #FFFEFE\">:</span> <span style=\"background-color: #FFFEFE\">medication</span> <span style=\"background-color: #F8F8FF\">delivery</span> <span style=\"background-color: #F8F8FF\">solutions</span> <span style=\"background-color: #FFFEFE\">selling</span> <span style=\"background-color: #F3F3FF\">to</span> <span style=\"background-color: #F3F3FF\">:</span> <span style=\"background-color: #F6F6FF\">iv</span> <span style=\"background-color: #FFFCFC\">teams</span> <span style=\"background-color: #FFD6D6\">,</span> <span style=\"background-color: #FFFEFE\">infection</span> <span style=\"background-color: #FFFEFE\">control</span> <span style=\"background-color: #FFFEFE\">,</span> <span style=\"background-color: #FEFEFF\">lead</span> <span style=\"background-color: #F6F6FF\">intensive</span> <span style=\"background-color: #FFFEFE\">care</span> <span style=\"background-color: #FFFEFE\">nurse</span> <span style=\"background-color: #FFFEFE\">specialists</span> <span style=\"background-color: #FFFEFE\">,</span> <span style=\"background-color: #FFFEFE\">ward</span> <span style=\"background-color: #F0F0FF\">managers</span> <span style=\"background-color: #FCFCFF\">territory</span> <span style=\"background-color: #FFFCFC\">:</span> <span style=\"background-color: #FFFEFE\">east</span> <span style=\"background-color: #FFFEFE\">midlands</span> <span style=\"background-color: #FFFEFE\">location</span> <span style=\"background-color: #FCFCFF\">:</span> <span style=\"background-color: #FFFEFE\">east</span> <span style=\"background-color: #FFFEFE\">midlands</span> <span style=\"background-color: #FFFEFE\">package</span> <span style=\"background-color: #EAEAFF\">:</span> <span style=\"background-color: #FFF4F4\">basic</span> <span style=\"background-color: #B3B3FF\">:</span> <span style=\"background-color: #FFFEFE\">****</span> <span style=\"background-color: #FFFEFE\">k</span> <span style=\"background-color: #FFE6E6\">****</span> <span style=\"background-color: #F6F6FF\">k</span> <span style=\"background-color: #FFF2F2\">,</span> <span style=\"background-color: #FAFAFF\">uncapped</span> <span style=\"background-color: #FFFEFE\">bonus</span> <span style=\"background-color: #DCDCFF\">in</span> <span style=\"background-color: #F0F0FF\">addition</span> <span style=\"background-color: #FFFEFE\">,</span> <span style=\"background-color: #FFFAFA\">full</span> <span style=\"background-color: #FFFEFE\">corporate</span> <span style=\"background-color: #FEFEFF\">benefits</span> <span style=\"background-color: #F6F6FF\">company</span> <span style=\"background-color: #EEEEFF\">information</span> <span style=\"background-color: #F8F8FF\">hugely</span> <span style=\"background-color: #FFFCFC\">ethical</span> <span style=\"background-color: #FFDCDC\">and</span> <span style=\"background-color: #FFFAFA\">professional</span> <span style=\"background-color: #C8C8FF\">global</span> <span style=\"background-color: #FFFEFE\">organisation</span> <span style=\"background-color: #FFEAEA\">extremely</span> <span style=\"background-color: #FFFEFE\">well</span> <span style=\"background-color: #FEFEFF\">established</span> <span style=\"background-color: #FEFEFF\">in</span> <span style=\"background-color: #F0F0FF\">the</span> <span style=\"background-color: #CCCCFF\">uk</span> <span style=\"background-color: #D2D2FF\">the</span> <span style=\"background-color: #FFFEFE\">market</span> <span style=\"background-color: #F3F3FF\">leader</span> <span style=\"background-color: #FFFEFE\">across</span> <span style=\"background-color: #FFFEFE\">all</span> <span style=\"background-color: #FFFEFE\">of</span> <span style=\"background-color: #FFFEFE\">their</span> <span style=\"background-color: #FCFCFF\">core</span> <span style=\"background-color: #FFFEFE\">business</span> <span style=\"background-color: #FFFEFE\">areas</span> <span style=\"background-color: #FFFEFE\">focus</span> <span style=\"background-color: #ECECFF\">on</span> <span style=\"background-color: #F3F3FF\">providing</span> <span style=\"background-color: #FFFEFE\">cutting</span> <span style=\"background-color: #F6F6FF\">edge</span> <span style=\"background-color: #FEFEFF\">solutions</span> <span style=\"background-color: #FEFEFF\">along</span> <span style=\"background-color: #FCFCFF\">with</span> <span style=\"background-color: #EEEEFF\">outstanding</span> <span style=\"background-color: #F8F8FF\">service</span> <span style=\"background-color: #FFFEFE\">and</span> <span style=\"background-color: #FFFEFE\">support</span> <span style=\"background-color: #CCCCFF\">a</span> <span style=\"background-color: #CCCCFF\">business</span> <span style=\"background-color: #FFF2F2\">that</span> <span style=\"background-color: #F6F6FF\">retain</span> <span style=\"background-color: #F6F6FF\">talented</span> <span style=\"background-color: #FFFEFE\">personnel</span> <span style=\"background-color: #FFFEFE\">by</span> <span style=\"background-color: #F3F3FF\">offering</span> <span style=\"background-color: #F2F2FF\">a</span> <span style=\"background-color: #EEEEFF\">strong</span> <span style=\"background-color: #FFC0C0\">platform</span> <span style=\"background-color: #DCDCFF\">for</span> <span style=\"background-color: #FFFEFE\">career</span> <span style=\"background-color: #F2F2FF\">development</span> <span style=\"background-color: #FAFAFF\">sales</span> <span style=\"background-color: #ECECFF\">specialist</span> <span style=\"background-color: #FFFEFE\">iv</span> <span style=\"background-color: #FFFEFE\">access</span> <span style=\"background-color: #FFBEBE\">and</span> <span style=\"background-color: #FEFEFF\">infusion</span> <span style=\"background-color: #FFF6F6\">you</span> <span style=\"background-color: #FFFEFE\">must</span> <span style=\"background-color: #FFFEFE\">have</span> <span style=\"background-color: #F3F3FF\">/</span> <span style=\"background-color: #FEFEFF\">be</span> <span style=\"background-color: #EAEAFF\">the</span> <span style=\"background-color: #FFFEFE\">following</span> <span style=\"background-color: #FFFEFE\">at</span> <span style=\"background-color: #FFFEFE\">least</span> <span style=\"background-color: #F8F8FF\">2</span> <span style=\"background-color: #FFDEDE\">years</span> <span style=\"background-color: #F3F3FF\">medical</span> <span style=\"background-color: #FFC8C8\">device</span> <span style=\"background-color: #FFBEBE\">sales</span> <span style=\"background-color: #FEFEFF\">experience</span> <span style=\"background-color: #FFD3D3\">.</span> <span style=\"background-color: #FFDEDE\">candidates</span> <span style=\"background-color: #FFFEFE\">who</span> <span style=\"background-color: #FFFEFE\">have</span> <span style=\"background-color: #FFFEFE\">sold</span> <span style=\"background-color: #FFFEFE\">disposables</span> <span style=\"background-color: #FFFEFE\">/</span> <span style=\"background-color: #FFFEFE\">consumables</span> <span style=\"background-color: #FFFEFE\">or</span> <span style=\"background-color: #FFFEFE\">similar</span> <span style=\"background-color: #FFFEFE\">into</span> <span style=\"background-color: #FEFEFF\">hospitals</span> <span style=\"background-color: #FFFEFE\">would</span> <span style=\"background-color: #BCBCFF\">be</span> <span style=\"background-color: #8E8EFF\">of</span> <span style=\"background-color: #B8B8FF\">particular</span> <span style=\"background-color: #F6F6FF\">interest</span> <span style=\"background-color: #FFFEFE\">.</span> <span style=\"background-color: #FFFEFE\">candidates</span> <span style=\"background-color: #FFFEFE\">must</span> <span style=\"background-color: #FFFEFE\">have</span> <span style=\"background-color: #FAFAFF\">sold</span> <span style=\"background-color: #FFFEFE\">into</span> <span style=\"background-color: #FEFEFF\">hospitals</span> <span style=\"background-color: #FFFEFE\">demonstrable</span> <span style=\"background-color: #FFFEFE\">performance</span> <span style=\"background-color: #E6E6FF\">and</span> <span style=\"background-color: #FFFEFE\">achievements</span> <span style=\"background-color: #FFFEFE\">so</span> <span style=\"background-color: #F3F3FF\">far</span> <span style=\"background-color: #FFFEFE\">personable</span> <span style=\"background-color: #CECEFF\">,</span> <span style=\"background-color: #CACAFF\">adaptable</span> <span style=\"background-color: #DADAFF\">and</span> <span style=\"background-color: #FFFEFE\">willing</span> <span style=\"background-color: #FFFEFE\">to</span> <span style=\"background-color: #FFFEFE\">learn</span> <span style=\"background-color: #FAFAFF\">keen</span> <span style=\"background-color: #EAEAFF\">and</span> <span style=\"background-color: #FFFEFE\">eager</span> <span style=\"background-color: #F0F0FF\">to</span> <span style=\"background-color: #FFFEFE\">be</span> <span style=\"background-color: #E6E6FF\">a</span> <span style=\"background-color: #FFFEFE\">success</span> <span style=\"background-color: #FFFEFE\">candidates</span> <span style=\"background-color: #FFFEFE\">must</span> <span style=\"background-color: #FFFEFE\">have</span> <span style=\"background-color: #FAFAFF\">a</span> <span style=\"background-color: #FFFEFE\">degree</span> <span style=\"background-color: #FFF2F2\">or</span> <span style=\"background-color: #FFFEFE\">at</span> <span style=\"background-color: #FFFEFE\">least</span> <span style=\"background-color: #FFFEFE\">be</span> <span style=\"background-color: #F2F2FF\">able</span> <span style=\"background-color: #FFFEFE\">to</span> <span style=\"background-color: #FCFCFF\">show</span> <span style=\"background-color: #FCFCFF\">a</span> <span style=\"background-color: #F8F8FF\">strong</span> <span style=\"background-color: #FFDCDC\">ability</span> <span style=\"background-color: #EEEEFF\">to</span> <span style=\"background-color: #F3F3FF\">learn</span> <span style=\"background-color: #E3E3FF\">role</span> <span style=\"background-color: #F6F6FF\">information</span> <span style=\"background-color: #EEEEFF\">managing</span> <span style=\"background-color: #FFF8F8\">the</span> <span style=\"background-color: #FFF0F0\">east</span> <span style=\"background-color: #D2D2FF\">midlands</span> <span style=\"background-color: #FFF4F4\">region</span> <span style=\"background-color: #F6F6FF\">selling</span> <span style=\"background-color: #FFF0F0\">across</span> <span style=\"background-color: #D8D8FF\">the</span> <span style=\"background-color: #FAFAFF\">company</span> <span style=\"background-color: #DADAFF\">'</span> <span style=\"background-color: #FFFEFE\">s</span> <span style=\"background-color: #FFFEFE\">range</span> <span style=\"background-color: #F3F3FF\">of</span> <span style=\"background-color: #FFEAEA\">iv</span> <span style=\"background-color: #FFA3A3\">and</span> <span style=\"background-color: #FFE8E8\">infusion</span> <span style=\"background-color: #FFF2F2\">solutions</span> <span style=\"background-color: #FEFEFF\">portfolio</span> <span style=\"background-color: #FEFEFF\">selling</span> <span style=\"background-color: #FFF4F4\">into</span> <span style=\"background-color: #FFFEFE\">lead</span> <span style=\"background-color: #DEDEFF\">intensive</span> <span style=\"background-color: #FFFEFE\">care</span> <span style=\"background-color: #FFFEFE\">nurse</span> <span style=\"background-color: #FFFEFE\">specialists</span> <span style=\"background-color: #FFFEFE\">,</span> <span style=\"background-color: #FFFEFE\">ward</span> <span style=\"background-color: #BCBCFF\">managers</span> <span style=\"background-color: #CACAFF\">,</span> <span style=\"background-color: #CCCCFF\">iv</span> <span style=\"background-color: #FFFCFC\">teams</span> <span style=\"background-color: #FFD6D6\">,</span> <span style=\"background-color: #FFFEFE\">infection</span> <span style=\"background-color: #FFFEFE\">control</span> <span style=\"background-color: #FFFEFE\">teams</span> <span style=\"background-color: #FFFEFE\">,</span> <span style=\"background-color: #FCFCFF\">procurement</span> <span style=\"background-color: #FFB6B6\">sales</span> <span style=\"background-color: #E8E8FF\">specialist</span> <span style=\"background-color: #FFFEFE\">iv</span> <span style=\"background-color: #FFFEFE\">access</span> <span style=\"background-color: #FFCACA\">and</span> <span style=\"background-color: #FFFEFE\">infusion</span> <span style=\"background-color: #FFF6F6\">candidates</span> <span style=\"background-color: #FFFEFE\">must</span> <span style=\"background-color: #FFFEFE\">be</span> <span style=\"background-color: #F2F2FF\">eligible</span> <span style=\"background-color: #FFFEFE\">to</span> <span style=\"background-color: #FFFEFE\">work</span> <span style=\"background-color: #FFFEFE\">and</span> <span style=\"background-color: #FFFEFE\">live</span> <span style=\"background-color: #EAEAFF\">in</span> <span style=\"background-color: #F8F8FF\">the</span> <span style=\"background-color: #FAFAFF\">uk</span> <span style=\"background-color: #FFFEFE\">.</span> <span style=\"background-color: #F2F2FF\">please</span> <span style=\"background-color: #FCFCFF\">contact</span> <span style=\"background-color: #FFF6F6\">allan</span> <span style=\"background-color: #E8E8FF\">waller</span> <span style=\"background-color: #FFFEFE\">on</span> <span style=\"background-color: #FFFEFE\">****</span> <span style=\"background-color: #FFFEFE\">****</span> <span style=\"background-color: #FFFEFE\">****</span> <span style=\"background-color: #FFFEFE\">or</span> <span style=\"background-color: #FFE4E4\">please</span> <span style=\"background-color: #FFFEFE\">hit</span> <span style=\"background-color: #F3F3FF\">the</span> <span style=\"background-color: #E3E3FF\">apply</span> <span style=\"background-color: #EAEAFF\">button</span> <span style=\"background-color: #8282FF\">.</span> <span style=\"background-color: #5C5CFF\">this</span> <span style=\"background-color: #5858FF\">job</span> <span style=\"background-color: #E8E8FF\">was</span> <span style=\"background-color: #FFFEFE\">originally</span> <span style=\"background-color: #F6F6FF\">posted</span> <span style=\"background-color: #CACAFF\">as</span> <span style=\"background-color: #FFFEFE\">www</span> <span style=\"background-color: #FCFCFF\">.</span> <span style=\"background-color: #FCFCFF\">salestarget</span> <span style=\"background-color: #FAFAFF\">.</span> <span style=\"background-color: #F3F3FF\">co</span> <span style=\"background-color: #EAEAFF\">.</span> <span style=\"background-color: #F3F3FF\">uk</span> <span style=\"background-color: #FFFEFE\">/</span> <span style=\"background-color: #FFFEFE\">jobseeking</span> <span style=\"background-color: #F3F3FF\">/</span> <span style=\"background-color: #FFFEFE\">UNK</span> <span style=\"background-color: #FFFEFE\">****</span></p>"
      ]
     },
     "metadata": {},
     "output_type": "display_data"
    }
   ],
   "source": [
    "i = 36605\n",
    "tokens_and_weights = explain(model, data.loc[i], \"Title\")\n",
    "draw_html([(tok, weight * 5) for tok, weight in tokens_and_weights], font_style='font-size:20px;');\n",
    "\n",
    "tokens_and_weights = explain(model, data.loc[i], \"FullDescription\")\n",
    "draw_html([(tok, weight * 10) for tok, weight in tokens_and_weights]);"
   ]
  },
  {
   "cell_type": "code",
   "execution_count": 159,
   "metadata": {},
   "outputs": [
    {
     "data": {
      "text/html": [
       "<p style=\"font-size:20px;\"><span style=\"background-color: #FFC8C8\">control</span> <span style=\"background-color: #F6F6FF\">systems</span> <span style=\"background-color: #8A8AFF\">engineer</span> <span style=\"background-color: #FFA3A3\">matlab</span> <span style=\"background-color: #FFDADA\">/</span> <span style=\"background-color: #FFDEDE\">simulink</span></p>"
      ]
     },
     "metadata": {},
     "output_type": "display_data"
    },
    {
     "data": {
      "text/html": [
       "<p style=\"font-size:14px;\"><span style=\"background-color: #FFFEFE\">control</span> <span style=\"background-color: #FFF0F0\">systems</span> <span style=\"background-color: #FCFCFF\">engineer</span> <span style=\"background-color: #FFFEFE\">matlab</span> <span style=\"background-color: #FFC8C8\">/</span> <span style=\"background-color: #FAFAFF\">simulink</span> <span style=\"background-color: #FFD2D2\">location</span> <span style=\"background-color: #FFECEC\">leicestershire</span> <span style=\"background-color: #FEFEFF\">salary</span> <span style=\"background-color: #FEFEFF\">up</span> <span style=\"background-color: #FFFEFE\">to</span> <span style=\"background-color: #F6F6FF\">****</span> <span style=\"background-color: #FFFEFE\">p</span> <span style=\"background-color: #FAFAFF\">.</span> <span style=\"background-color: #FAFAFF\">a</span> <span style=\"background-color: #F3F3FF\">.</span> <span style=\"background-color: #FFF2F2\">benefits</span> <span style=\"background-color: #FFF2F2\">control</span> <span style=\"background-color: #FFF2F2\">systems</span> <span style=\"background-color: #C2C2FF\">engineer</span> <span style=\"background-color: #D3D3FF\">one</span> <span style=\"background-color: #FFA8A8\">of</span> <span style=\"background-color: #9696FF\">the</span> <span style=\"background-color: #BEBEFF\">uk</span> <span style=\"background-color: #BCBCFF\">'</span> <span style=\"background-color: #FCFCFF\">s</span> <span style=\"background-color: #FEFEFF\">fastest</span> <span style=\"background-color: #E8E8FF\">growing</span> <span style=\"background-color: #E2E2FF\">privately</span> <span style=\"background-color: #F0F0FF\">owned</span> <span style=\"background-color: #FFFEFE\">technology</span> <span style=\"background-color: #FF8C8C\">companies</span> <span style=\"background-color: #CECEFF\">is</span> <span style=\"background-color: #FFF4F4\">looking</span> <span style=\"background-color: #FFFCFC\">to</span> <span style=\"background-color: #FF2E2E\">secure</span> <span style=\"background-color: #FFF6F6\">the</span> <span style=\"background-color: #FF5050\">services</span> <span style=\"background-color: #FFFEFE\">of</span> <span style=\"background-color: #ECECFF\">a</span> <span style=\"background-color: #EAEAFF\">control</span> <span style=\"background-color: #FFF0F0\">systems</span> <span style=\"background-color: #FEFEFF\">engineer</span> <span style=\"background-color: #FEFEFF\">to</span> <span style=\"background-color: #FFFEFE\">work</span> <span style=\"background-color: #FFE4E4\">in</span> <span style=\"background-color: #FFFAFA\">our</span> <span style=\"background-color: #E2E2FF\">research</span> <span style=\"background-color: #E0E0FF\">and</span> <span style=\"background-color: #FFFEFE\">development</span> <span style=\"background-color: #CCCCFF\">team</span> <span style=\"background-color: #FFE2E2\">.</span> <span style=\"background-color: #CCCCFF\">control</span> <span style=\"background-color: #F6F6FF\">systems</span> <span style=\"background-color: #FFFCFC\">engineer</span> <span style=\"background-color: #BABAFF\">key</span> <span style=\"background-color: #E3E3FF\">responsibilities</span> <span style=\"background-color: #FFFEFE\">designing</span> <span style=\"background-color: #E8E8FF\">and</span> <span style=\"background-color: #FEFEFF\">building</span> <span style=\"background-color: #F8F8FF\">a</span> <span style=\"background-color: #F0F0FF\">test</span> <span style=\"background-color: #FFFAFA\">platform</span> <span style=\"background-color: #FFFEFE\">where</span> <span style=\"background-color: #F8F8FF\">real</span> <span style=\"background-color: #FCFCFF\">time</span> <span style=\"background-color: #FAFAFF\">control</span> <span style=\"background-color: #FFFEFE\">hardware</span> <span style=\"background-color: #FFFEFE\">and</span> <span style=\"background-color: #FFFEFE\">software</span> <span style=\"background-color: #F3F3FF\">can</span> <span style=\"background-color: #FAFAFF\">be</span> <span style=\"background-color: #E0E0FF\">implemented</span> <span style=\"background-color: #C0C0FF\">designing</span> <span style=\"background-color: #D2D2FF\">,</span> <span style=\"background-color: #D0D0FF\">implementing</span> <span style=\"background-color: #FFE4E4\">and</span> <span style=\"background-color: #FFFEFE\">validating</span> <span style=\"background-color: #DEDEFF\">hardware</span> <span style=\"background-color: #FFD3D3\">in</span> <span style=\"background-color: #E8E8FF\">the</span> <span style=\"background-color: #E3E3FF\">loop</span> <span style=\"background-color: #F2F2FF\">(</span> <span style=\"background-color: #F3F3FF\">hil</span> <span style=\"background-color: #FFF4F4\">)</span> <span style=\"background-color: #ECECFF\">and</span> <span style=\"background-color: #FFFEFE\">control</span> <span style=\"background-color: #FFFCFC\">algorithms</span> <span style=\"background-color: #FFEEEE\">that</span> <span style=\"background-color: #DCDCFF\">can</span> <span style=\"background-color: #FAFAFF\">be</span> <span style=\"background-color: #FFF0F0\">deployed</span> <span style=\"background-color: #FFFEFE\">on</span> <span style=\"background-color: #E6E6FF\">research</span> <span style=\"background-color: #C0C0FF\">level</span> <span style=\"background-color: #E6E6FF\">fuel</span> <span style=\"background-color: #FFD0D0\">cell</span> <span style=\"background-color: #FFEAEA\">systems</span> <span style=\"background-color: #FFF6F6\">control</span> <span style=\"background-color: #FFF4F4\">systems</span> <span style=\"background-color: #E2E2FF\">engineer</span> <span style=\"background-color: #FFFEFE\">skills</span> <span style=\"background-color: #FFFEFE\">and</span> <span style=\"background-color: #FFFEFE\">experience</span> <span style=\"background-color: #FCFCFF\">degree</span> <span style=\"background-color: #FFE2E2\">qualified</span> <span style=\"background-color: #FAFAFF\">in</span> <span style=\"background-color: #E0E0FF\">a</span> <span style=\"background-color: #FFFEFE\">relevant</span> <span style=\"background-color: #F3F3FF\">engineering</span> <span style=\"background-color: #FFF4F4\">discipline</span> <span style=\"background-color: #C6C6FF\">excellent</span> <span style=\"background-color: #FFF4F4\">working</span> <span style=\"background-color: #FF4646\">knowledge</span> <span style=\"background-color: #E3E3FF\">of</span> <span style=\"background-color: #DADAFF\">matlab</span> <span style=\"background-color: #FFEEEE\">/</span> <span style=\"background-color: #FFFEFE\">simulink</span> <span style=\"background-color: #FFFEFE\">hands</span> <span style=\"background-color: #FFFEFE\">on</span> <span style=\"background-color: #F3F3FF\">electrical</span> <span style=\"background-color: #FFFEFE\">/</span> <span style=\"background-color: #FEFEFF\">electronic</span> <span style=\"background-color: #FFFEFE\">engineering</span> <span style=\"background-color: #ECECFF\">skills</span> <span style=\"background-color: #F6F6FF\">in</span> <span style=\"background-color: #E6E6FF\">return</span> <span style=\"background-color: #FFFEFE\">we</span> <span style=\"background-color: #FFD6D6\">offer</span> <span style=\"background-color: #EAEAFF\">a</span> <span style=\"background-color: #FF2E2E\">competitive</span> <span style=\"background-color: #FFFEFE\">salary</span> <span style=\"background-color: #D8D8FF\">and</span> <span style=\"background-color: #FEFEFF\">benefits</span> <span style=\"background-color: #D6D6FF\">package</span> <span style=\"background-color: #FFD6D6\">plus</span> <span style=\"background-color: #FFD6D6\">the</span> <span style=\"background-color: #E8E8FF\">chance</span> <span style=\"background-color: #CECEFF\">to</span> <span style=\"background-color: #E3E3FF\">join</span> <span style=\"background-color: #E3E3FF\">a</span> <span style=\"background-color: #E0E0FF\">forward</span> <span style=\"background-color: #FFCCCC\">thinking</span> <span style=\"background-color: #FFF6F6\">organisation</span> <span style=\"background-color: #FFFEFE\">who</span> <span style=\"background-color: #FFA2A2\">are</span> <span style=\"background-color: #FFFEFE\">committed</span> <span style=\"background-color: #FFFEFE\">to</span> <span style=\"background-color: #FFFEFE\">developing</span> <span style=\"background-color: #FFEAEA\">their</span> <span style=\"background-color: #FFFEFE\">staff</span> <span style=\"background-color: #9696FF\">.</span> <span style=\"background-color: #9292FF\">if</span> <span style=\"background-color: #9090FF\">you</span> <span style=\"background-color: #FAFAFF\">feel</span> <span style=\"background-color: #FFFEFE\">that</span> <span style=\"background-color: #C8C8FF\">you</span> <span style=\"background-color: #F2F2FF\">have</span> <span style=\"background-color: #FAFAFF\">the</span> <span style=\"background-color: #F3F3FF\">skills</span> <span style=\"background-color: #FAFAFF\">and</span> <span style=\"background-color: #FFFEFE\">experience</span> <span style=\"background-color: #FFF6F6\">to</span> <span style=\"background-color: #FFFEFE\">perform</span> <span style=\"background-color: #FF9C9C\">at</span> <span style=\"background-color: #FFF4F4\">the</span> <span style=\"background-color: #FFF6F6\">highest</span> <span style=\"background-color: #E3E3FF\">level</span> <span style=\"background-color: #FFF4F4\">in</span> <span style=\"background-color: #E2E2FF\">this</span> <span style=\"background-color: #FCFCFF\">role</span> <span style=\"background-color: #F6F6FF\">please</span> <span style=\"background-color: #FFFEFE\">apply</span> <span style=\"background-color: #FFFEFE\">online</span> <span style=\"background-color: #FFFEFE\">.</span></p>"
      ]
     },
     "metadata": {},
     "output_type": "display_data"
    }
   ],
   "source": [
    "i = 2660\n",
    "tokens_and_weights = explain(model, data.loc[i], \"Title\")\n",
    "draw_html([(tok, weight * 5) for tok, weight in tokens_and_weights], font_style='font-size:20px;');\n",
    "\n",
    "tokens_and_weights = explain(model, data.loc[i], \"FullDescription\")\n",
    "draw_html([(tok, weight * 10) for tok, weight in tokens_and_weights]);"
   ]
  },
  {
   "cell_type": "code",
   "execution_count": 158,
   "metadata": {},
   "outputs": [
    {
     "name": "stdout",
     "output_type": "stream",
     "text": [
      "Index: 239259\n",
      "Salary (gbp): tensor([16757.9141])\n"
     ]
    },
    {
     "data": {
      "text/html": [
       "<p style=\"font-size:20px;\"><span style=\"background-color: #E0E0FF\">sales</span> <span style=\"background-color: #FFB3B3\">executive</span> <span style=\"background-color: #FFAEAE\">x3</span> <span style=\"background-color: #B2B2FF\">office</span> <span style=\"background-color: #FFF0F0\">supplies</span></p>"
      ]
     },
     "metadata": {},
     "output_type": "display_data"
    },
    {
     "data": {
      "text/html": [
       "<p style=\"font-size:14px;\"><span style=\"background-color: #FFFEFE\">not</span> <span style=\"background-color: #E8E8FF\">afraid</span> <span style=\"background-color: #FCFCFF\">of</span> <span style=\"background-color: #F8F8FF\">new</span> <span style=\"background-color: #FFFEFE\">business</span> <span style=\"background-color: #FFC3C3\">sales</span> <span style=\"background-color: #FFCECE\">job</span> <span style=\"background-color: #FFFCFC\">title</span> <span style=\"background-color: #EEEEFF\">:</span> <span style=\"background-color: #FFF8F8\">sales</span> <span style=\"background-color: #FFFEFE\">executive</span> <span style=\"background-color: #FFFEFE\">x3</span> <span style=\"background-color: #FFE0E0\">sector</span> <span style=\"background-color: #FFFEFE\">:</span> <span style=\"background-color: #FFFEFE\">commercial</span> <span style=\"background-color: #FFFEFE\">niche</span> <span style=\"background-color: #E8E8FF\">:</span> <span style=\"background-color: #FFFEFE\">office</span> <span style=\"background-color: #FFFEFE\">supplies</span> <span style=\"background-color: #FFFEFE\">selling</span> <span style=\"background-color: #FFFEFE\">:</span> <span style=\"background-color: #FFFEFE\">stationery</span> <span style=\"background-color: #FFFAFA\">,</span> <span style=\"background-color: #FFFEFE\">print</span> <span style=\"background-color: #FFFEFE\">,</span> <span style=\"background-color: #FFFEFE\">furniture</span> <span style=\"background-color: #FFFEFE\">selling</span> <span style=\"background-color: #FFFEFE\">to</span> <span style=\"background-color: #FFFEFE\">:</span> <span style=\"background-color: #FFFEFE\">sme</span> <span style=\"background-color: #FFDCDC\">?</span> <span style=\"background-color: #FCFCFF\">s</span> <span style=\"background-color: #FCFCFF\">,</span> <span style=\"background-color: #FEFEFF\">b2b</span> <span style=\"background-color: #FEFEFF\">territory</span> <span style=\"background-color: #FFFEFE\">:</span> <span style=\"background-color: #FFFEFE\">hertfordshire</span> <span style=\"background-color: #FFFAFA\">,</span> <span style=\"background-color: #FCFCFF\">north</span> <span style=\"background-color: #FFFEFE\">london</span> <span style=\"background-color: #FFFEFE\">,</span> <span style=\"background-color: #FFFEFE\">bedfordshire</span> <span style=\"background-color: #FFFEFE\">,</span> <span style=\"background-color: #CECEFF\">essex</span> <span style=\"background-color: #CECEFF\">,</span> <span style=\"background-color: #CECEFF\">middlesex</span> <span style=\"background-color: #FFFEFE\">package</span> <span style=\"background-color: #FEFEFF\">:</span> <span style=\"background-color: #FFFEFE\">&****</span> <span style=\"background-color: #FFFEFE\">63</span> <span style=\"background-color: #FFFEFE\">****</span> <span style=\"background-color: #E3E3FF\">k</span> <span style=\"background-color: #FEFEFF\">basic</span> <span style=\"background-color: #DEDEFF\">depending</span> <span style=\"background-color: #FFFEFE\">on</span> <span style=\"background-color: #FFFEFE\">level</span> <span style=\"background-color: #FFE8E8\">of</span> <span style=\"background-color: #FFFEFE\">experience</span> <span style=\"background-color: #FFDCDC\">and</span> <span style=\"background-color: #FEFEFF\">whether</span> <span style=\"background-color: #FFFEFE\">you</span> <span style=\"background-color: #FFFEFE\">have</span> <span style=\"background-color: #FFF6F6\">industry</span> <span style=\"background-color: #FFFEFE\">experience</span> <span style=\"background-color: #FFDCDC\">&</span> <span style=\"background-color: #FFFEFE\">163</span> <span style=\"background-color: #F0F0FF\">****</span> <span style=\"background-color: #FFFEFE\">k</span> <span style=\"background-color: #FFF2F2\">&</span> <span style=\"background-color: #FFFEFE\">163</span> <span style=\"background-color: #F0F0FF\">****</span> <span style=\"background-color: #FFFEFE\">k</span> <span style=\"background-color: #E6E6FF\">ote</span> <span style=\"background-color: #FFFEFE\">,</span> <span style=\"background-color: #FFFEFE\">pension</span> <span style=\"background-color: #FFE4E4\">,</span> <span style=\"background-color: #FFFEFE\">life</span> <span style=\"background-color: #FFFEFE\">,</span> <span style=\"background-color: #FFFEFE\">car</span> <span style=\"background-color: #F8F8FF\">,</span> <span style=\"background-color: #F8F8FF\">laptop</span> <span style=\"background-color: #F6F6FF\">mobile</span> <span style=\"background-color: #F8F8FF\">excellent</span> <span style=\"background-color: #FFE6E6\">career</span> <span style=\"background-color: #F0F0FF\">opportunities</span> <span style=\"background-color: #FFFCFC\">for</span> <span style=\"background-color: #FFFEFE\">top</span> <span style=\"background-color: #FFFEFE\">performers</span> <span style=\"background-color: #FFFAFA\">consultant</span> <span style=\"background-color: #FFFAFA\">:</span> <span style=\"background-color: #FFFAFA\">david</span> <span style=\"background-color: #FFF8F8\">gray</span> <span style=\"background-color: #F2F2FF\">company</span> <span style=\"background-color: #FFFEFE\">info</span> <span style=\"background-color: #F8F8FF\">:</span> <span style=\"background-color: #FFE2E2\">?</span> <span style=\"background-color: #FFFEFE\">well</span> <span style=\"background-color: #FEFEFF\">established</span> <span style=\"background-color: #FFFCFC\">office</span> <span style=\"background-color: #FEFEFF\">supplies</span> <span style=\"background-color: #EEEEFF\">/</span> <span style=\"background-color: #ECECFF\">stationery</span> <span style=\"background-color: #ECECFF\">business</span> <span style=\"background-color: #FEFEFF\">?</span> <span style=\"background-color: #FFFEFE\">&</span> <span style=\"background-color: #FFFAFA\">163</span> <span style=\"background-color: #FCFCFF\">multimillion</span> <span style=\"background-color: #FFFEFE\">turnover</span> <span style=\"background-color: #FFF2F2\">business</span> <span style=\"background-color: #FEFEFF\">to</span> <span style=\"background-color: #F8F8FF\">business</span> <span style=\"background-color: #FFFCFC\">supplier</span> <span style=\"background-color: #F8F8FF\">?</span> <span style=\"background-color: #FFFEFE\">super</span> <span style=\"background-color: #FFFEFE\">opportunities</span> <span style=\"background-color: #FFFEFE\">to</span> <span style=\"background-color: #FFFEFE\">progress</span> <span style=\"background-color: #FFFEFE\">into</span> <span style=\"background-color: #FFF6F6\">business</span> <span style=\"background-color: #FFFEFE\">development</span> <span style=\"background-color: #FFF6F6\">,</span> <span style=\"background-color: #FFFEFE\">key</span> <span style=\"background-color: #FFF8F8\">account</span> <span style=\"background-color: #FFFEFE\">management</span> <span style=\"background-color: #FFFEFE\">,</span> <span style=\"background-color: #FFF6F6\">national</span> <span style=\"background-color: #FFF6F6\">accounts</span> <span style=\"background-color: #FFD3D3\">or</span> <span style=\"background-color: #FFFEFE\">regional</span> <span style=\"background-color: #FFFEFE\">sales</span> <span style=\"background-color: #FFFEFE\">management</span> <span style=\"background-color: #FFFEFE\">?</span> <span style=\"background-color: #FFEEEE\">excellent</span> <span style=\"background-color: #FFFEFE\">reputation</span> <span style=\"background-color: #FFFEFE\">for</span> <span style=\"background-color: #FFFEFE\">back</span> <span style=\"background-color: #FFFEFE\">up</span> <span style=\"background-color: #FFFEFE\">and</span> <span style=\"background-color: #FFFEFE\">service</span> <span style=\"background-color: #FFFEFE\">?</span> <span style=\"background-color: #FFECEC\">offer</span> <span style=\"background-color: #F2F2FF\">superb</span> <span style=\"background-color: #F0F0FF\">products</span> <span style=\"background-color: #FFC2C2\">from</span> <span style=\"background-color: #FCFCFF\">leading</span> <span style=\"background-color: #FFFCFC\">manufacturers</span> <span style=\"background-color: #FEFEFF\">?</span> <span style=\"background-color: #FFFEFE\">sales</span> <span style=\"background-color: #FFFEFE\">focused</span> <span style=\"background-color: #FFFEFE\">culture</span> <span style=\"background-color: #FFFEFE\">with</span> <span style=\"background-color: #FCFCFF\">lots</span> <span style=\"background-color: #FFFEFE\">of</span> <span style=\"background-color: #FCFCFF\">incentives</span> <span style=\"background-color: #FFFEFE\">,</span> <span style=\"background-color: #FCFCFF\">competitions</span> <span style=\"background-color: #FFFEFE\">?</span> <span style=\"background-color: #FFFEFE\">clear</span> <span style=\"background-color: #F2F2FF\">objectives</span> <span style=\"background-color: #FFFEFE\">for</span> <span style=\"background-color: #FFFEFE\">sales</span> <span style=\"background-color: #FFFEFE\">executives</span> <span style=\"background-color: #FAFAFF\">role</span> <span style=\"background-color: #FFF6F6\">information</span> <span style=\"background-color: #FAFAFF\">:</span> <span style=\"background-color: #FEFEFF\">?</span> <span style=\"background-color: #FFFCFC\">selling</span> <span style=\"background-color: #FFF6F6\">office</span> <span style=\"background-color: #FFFAFA\">supplies</span> <span style=\"background-color: #FFFEFE\">/</span> <span style=\"background-color: #FFFEFE\">stationery</span> <span style=\"background-color: #D8D8FF\">to</span> <span style=\"background-color: #5E5EFF\">smes</span> <span style=\"background-color: #FFF2F2\">in</span> <span style=\"background-color: #3838FF\">a</span> <span style=\"background-color: #FFF6F6\">business</span> <span style=\"background-color: #FFD6D6\">to</span> <span style=\"background-color: #FFFEFE\">business</span> <span style=\"background-color: #FFFCFC\">environment</span> <span style=\"background-color: #F2F2FF\">?</span> <span style=\"background-color: #FFFEFE\">the</span> <span style=\"background-color: #FEFEFF\">sales</span> <span style=\"background-color: #FFFAFA\">executive</span> <span style=\"background-color: #9696FF\">will</span> <span style=\"background-color: #9393FF\">be</span> <span style=\"background-color: #7979FF\">responsible</span> <span style=\"background-color: #F3F3FF\">for</span> <span style=\"background-color: #D6D6FF\">winning</span> <span style=\"background-color: #E3E3FF\">new</span> <span style=\"background-color: #FFEEEE\">accounts</span> <span style=\"background-color: #FFE6E6\">through</span> <span style=\"background-color: #E0E0FF\">comprehensive</span> <span style=\"background-color: #F2F2FF\">business</span> <span style=\"background-color: #FEFEFF\">development</span> <span style=\"background-color: #FFFEFE\">and</span> <span style=\"background-color: #FFFEFE\">managing</span> <span style=\"background-color: #FFFEFE\">those</span> <span style=\"background-color: #FFFEFE\">accounts</span> <span style=\"background-color: #FFFAFA\">on</span> <span style=\"background-color: #ECECFF\">an</span> <span style=\"background-color: #FFFEFE\">ongoing</span> <span style=\"background-color: #FFFCFC\">basis</span> <span style=\"background-color: #FFFEFE\">?</span> <span style=\"background-color: #B3B3FF\">you</span> <span style=\"background-color: #B8B8FF\">will</span> <span style=\"background-color: #B8B8FF\">be</span> <span style=\"background-color: #E6E6FF\">given</span> <span style=\"background-color: #FEFEFF\">an</span> <span style=\"background-color: #FFF8F8\">account</span> <span style=\"background-color: #FEFEFF\">base</span> <span style=\"background-color: #FFFEFE\">to</span> <span style=\"background-color: #FFFEFE\">manage</span> <span style=\"background-color: #FFD3D3\">on</span> <span style=\"background-color: #FFE4E4\">day</span> <span style=\"background-color: #FFD0D0\">1</span> <span style=\"background-color: #F8F8FF\">?</span> <span style=\"background-color: #F8F8FF\">field</span> <span style=\"background-color: #FFFEFE\">sales</span> <span style=\"background-color: #FFFEFE\">,</span> <span style=\"background-color: #FFFEFE\">working</span> <span style=\"background-color: #FFFEFE\">from</span> <span style=\"background-color: #FFFEFE\">home</span> <span style=\"background-color: #FFFEFE\">and</span> <span style=\"background-color: #FFFEFE\">managing</span> <span style=\"background-color: #FFFEFE\">your</span> <span style=\"background-color: #FFF4F4\">own</span> <span style=\"background-color: #FFCECE\">time</span> <span style=\"background-color: #C2C2FF\">/</span> <span style=\"background-color: #FFF8F8\">diary</span> <span style=\"background-color: #FFFEFE\">?</span> <span style=\"background-color: #F0F0FF\">full</span> <span style=\"background-color: #F0F0FF\">induction</span> <span style=\"background-color: #F3F3FF\">/</span> <span style=\"background-color: #FFFEFE\">training</span> <span style=\"background-color: #FFFEFE\">course</span> <span style=\"background-color: #FFFEFE\">given</span> <span style=\"background-color: #FFF6F6\">with</span> <span style=\"background-color: #FFFEFE\">regular</span> <span style=\"background-color: #FFFEFE\">refresher</span> <span style=\"background-color: #FCFCFF\">training</span> <span style=\"background-color: #FFFEFE\">courses</span> <span style=\"background-color: #FFFEFE\">?</span> <span style=\"background-color: #FFFCFC\">opportunities</span> <span style=\"background-color: #FFFEFE\">for</span> <span style=\"background-color: #FFFEFE\">career</span> <span style=\"background-color: #FFFEFE\">advancement</span> <span style=\"background-color: #EEEEFF\">?</span> <span style=\"background-color: #FFFEFE\">friendly</span> <span style=\"background-color: #FFFEFE\">,</span> <span style=\"background-color: #FFFEFE\">supportive</span> <span style=\"background-color: #FFF8F8\">culture</span> <span style=\"background-color: #F3F3FF\">with</span> <span style=\"background-color: #F2F2FF\">realistic</span> <span style=\"background-color: #FFCECE\">sales</span> <span style=\"background-color: #FFFEFE\">targets</span> <span style=\"background-color: #FFFEFE\">requirements</span> <span style=\"background-color: #FFFEFE\">:</span> <span style=\"background-color: #F2F2FF\">?</span> <span style=\"background-color: #FFFEFE\">proven</span> <span style=\"background-color: #FFEEEE\">track</span> <span style=\"background-color: #FFFEFE\">record</span> <span style=\"background-color: #FFFEFE\">in</span> <span style=\"background-color: #FFFEFE\">b2b</span> <span style=\"background-color: #FFFEFE\">(</span> <span style=\"background-color: #FFFEFE\">business</span> <span style=\"background-color: #FFFEFE\">to</span> <span style=\"background-color: #FFFEFE\">business</span> <span style=\"background-color: #FFFCFC\">)</span> <span style=\"background-color: #FFFEFE\">field</span> <span style=\"background-color: #FFFEFE\">sales</span> <span style=\"background-color: #FFFEFE\">?</span> <span style=\"background-color: #FFFEFE\">self</span> <span style=\"background-color: #FFFAFA\">motivation</span> <span style=\"background-color: #EEEEFF\">and</span> <span style=\"background-color: #FEFEFF\">desire</span> <span style=\"background-color: #FFEAEA\">to</span> <span style=\"background-color: #FAFAFF\">hit</span> <span style=\"background-color: #FFFAFA\">targets</span> <span style=\"background-color: #FFFCFC\">in</span> <span style=\"background-color: #FFDEDE\">a</span> <span style=\"background-color: #FFEAEA\">sales</span> <span style=\"background-color: #FFE8E8\">environment</span> <span style=\"background-color: #FCFCFF\">?</span> <span style=\"background-color: #FFFEFE\">not</span> <span style=\"background-color: #E8E8FF\">afraid</span> <span style=\"background-color: #FCFCFF\">of</span> <span style=\"background-color: #F8F8FF\">new</span> <span style=\"background-color: #FFFEFE\">business</span> <span style=\"background-color: #FFF4F4\">sales</span> <span style=\"background-color: #FFFEFE\">?</span> <span style=\"background-color: #FFFEFE\">could</span> <span style=\"background-color: #FFFEFE\">come</span> <span style=\"background-color: #FFFEFE\">from</span> <span style=\"background-color: #FFFEFE\">advertising</span> <span style=\"background-color: #FFF6F6\">,</span> <span style=\"background-color: #FFFEFE\">marketing</span> <span style=\"background-color: #FFFEFE\">,</span> <span style=\"background-color: #FFFCFC\">consumable</span> <span style=\"background-color: #FFF8F8\">sales</span> <span style=\"background-color: #FFFCFC\">,</span> <span style=\"background-color: #FFFEFE\">ppe</span> <span style=\"background-color: #FFFEFE\">,</span> <span style=\"background-color: #FFFEFE\">security</span> <span style=\"background-color: #FEFEFF\">,</span> <span style=\"background-color: #FFF4F4\">janitorial</span> <span style=\"background-color: #FFFEFE\">backgrounds</span> <span style=\"background-color: #FFFEFE\">:</span> <span style=\"background-color: #FFFEFE\">very</span> <span style=\"background-color: #FFFEFE\">flexible</span> <span style=\"background-color: #FFF6F6\">as</span> <span style=\"background-color: #FFFEFE\">full</span> <span style=\"background-color: #FFFEFE\">training</span> <span style=\"background-color: #FFFEFE\">provided</span> <span style=\"background-color: #FFFEFE\">?</span> <span style=\"background-color: #FFFEFE\">personable</span> <span style=\"background-color: #FFF4F4\">and</span> <span style=\"background-color: #FFFEFE\">able</span> <span style=\"background-color: #FFFEFE\">to</span> <span style=\"background-color: #FFFEFE\">deal</span> <span style=\"background-color: #FFF4F4\">with</span> <span style=\"background-color: #FCFCFF\">a</span> <span style=\"background-color: #FFF8F8\">variety</span> <span style=\"background-color: #FFE6E6\">of</span> <span style=\"background-color: #FFFEFE\">different</span> <span style=\"background-color: #FFEEEE\">people</span> <span style=\"background-color: #FFFEFE\">from</span> <span style=\"background-color: #F0F0FF\">procurement</span> <span style=\"background-color: #FFF2F2\">to</span> <span style=\"background-color: #F0F0FF\">office</span> <span style=\"background-color: #FFFEFE\">managers</span> <span style=\"background-color: #FEFEFF\">?</span> <span style=\"background-color: #FEFEFF\">job</span> <span style=\"background-color: #DCDCFF\">stability</span> <span style=\"background-color: #EEEEFF\">which</span> <span style=\"background-color: #FCFCFF\">demonstrates</span> <span style=\"background-color: #EAEAFF\">a</span> <span style=\"background-color: #8383FF\">track</span> <span style=\"background-color: #A8A8FF\">record</span> <span style=\"background-color: #4C4CFF\">of</span> <span style=\"background-color: #FFFEFE\">success</span> <span style=\"background-color: #FFF6F6\">?</span> <span style=\"background-color: #FFFCFC\">field</span> <span style=\"background-color: #FFFEFE\">sales</span> <span style=\"background-color: #FFFEFE\">experience</span> <span style=\"background-color: #FFFEFE\">i</span></p>"
      ]
     },
     "metadata": {},
     "output_type": "display_data"
    }
   ],
   "source": [
    "i = np.random.randint(len(data))\n",
    "print(\"Index:\", i)\n",
    "print(\"Salary (gbp):\", np.expm1(model.forward(make_batch(data.iloc[i: i+1], device=device)).detach().cpu()))\n",
    "\n",
    "tokens_and_weights = explain(model, data.loc[i], \"Title\")\n",
    "draw_html([(tok, weight * 5) for tok, weight in tokens_and_weights], font_style='font-size:20px;');\n",
    "\n",
    "tokens_and_weights = explain(model, data.loc[i], \"FullDescription\")\n",
    "draw_html([(tok, weight * 10) for tok, weight in tokens_and_weights]);"
   ]
  },
  {
   "cell_type": "markdown",
   "metadata": {},
   "source": [
    "__Terrible start-up idea #1962:__ make a tool that automaticaly rephrases your job description (or CV) to meet salary expectations :)"
   ]
  }
 ],
 "metadata": {
  "kernelspec": {
   "display_name": "Python 3 (ipykernel)",
   "language": "python",
   "name": "python3"
  },
  "language_info": {
   "codemirror_mode": {
    "name": "ipython",
    "version": 3
   },
   "file_extension": ".py",
   "mimetype": "text/x-python",
   "name": "python",
   "nbconvert_exporter": "python",
   "pygments_lexer": "ipython3",
   "version": "3.10.13"
  }
 },
 "nbformat": 4,
 "nbformat_minor": 4
}
