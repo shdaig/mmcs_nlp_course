{
 "cells": [
  {
   "cell_type": "code",
   "execution_count": 1,
   "id": "433620a1-4efa-4608-8b34-b241441468d3",
   "metadata": {},
   "outputs": [],
   "source": [
    "import warnings\n",
    "warnings.filterwarnings('ignore')"
   ]
  },
  {
   "cell_type": "code",
   "execution_count": 2,
   "id": "195be8ce-01d6-4123-a246-d7a5524d9405",
   "metadata": {},
   "outputs": [],
   "source": [
    "import numpy as np\n",
    "import pandas as pd\n",
    "\n",
    "import glob\n",
    "import os\n",
    "import string\n",
    "\n",
    "from html.parser import HTMLParser\n",
    "\n",
    "from sklearn.linear_model import LogisticRegression\n",
    "from sklearn.model_selection import cross_val_score\n",
    "from sklearn.model_selection import train_test_split\n",
    "from sklearn.metrics import accuracy_score\n",
    "from sklearn.feature_extraction.text import TfidfVectorizer\n",
    "\n",
    "import nltk\n",
    "from nltk.corpus import stopwords\n",
    "from nltk.tokenize import word_tokenize\n",
    "from nltk.stem.lancaster import LancasterStemmer"
   ]
  },
  {
   "cell_type": "markdown",
   "id": "8e9da328-5549-43ed-a38e-36faa4c144dc",
   "metadata": {},
   "source": [
    "# **Формирование DataFrame**"
   ]
  },
  {
   "cell_type": "code",
   "execution_count": 3,
   "id": "18406cc4-f250-47fd-852d-d9d7142e0630",
   "metadata": {},
   "outputs": [],
   "source": [
    "train_pos_files = sorted(glob.glob(os.path.join(\"aclImdb/train/pos\", (\"*.txt\"))))\n",
    "train_neg_files = sorted(glob.glob(os.path.join(\"aclImdb/train/neg\", (\"*.txt\"))))\n",
    "\n",
    "test_pos_files = sorted(glob.glob(os.path.join(\"aclImdb/test/pos\", (\"*.txt\"))))\n",
    "test_neg_files = sorted(glob.glob(os.path.join(\"aclImdb/test/neg\", (\"*.txt\"))))"
   ]
  },
  {
   "cell_type": "code",
   "execution_count": 4,
   "id": "b697ca92-e73b-4a6e-ace1-ef7e95c77ac3",
   "metadata": {},
   "outputs": [
    {
     "name": "stdout",
     "output_type": "stream",
     "text": [
      "train pos files count: 12500\n",
      "train neg files count: 12500\n",
      "test pos files count: 12500\n",
      "test neg files count: 12500\n"
     ]
    }
   ],
   "source": [
    "print(f\"train pos files count: {len(train_pos_files)}\")\n",
    "print(f\"train neg files count: {len(train_neg_files)}\")\n",
    "print(f\"test pos files count: {len(test_pos_files)}\")\n",
    "print(f\"test neg files count: {len(test_neg_files)}\")"
   ]
  },
  {
   "cell_type": "code",
   "execution_count": 5,
   "id": "d1d81ded-3609-4891-b050-781b4450d823",
   "metadata": {},
   "outputs": [],
   "source": [
    "pos_files = train_pos_files + test_pos_files\n",
    "neg_files = train_neg_files + test_neg_files"
   ]
  },
  {
   "cell_type": "code",
   "execution_count": 6,
   "id": "597a8809-4461-4346-bd62-ea6bd1e0d2a7",
   "metadata": {},
   "outputs": [],
   "source": [
    "pos_labels = np.full(25000, 1, dtype=int)\n",
    "neg_labels = np.full(25000, 0, dtype=int)"
   ]
  },
  {
   "cell_type": "code",
   "execution_count": 7,
   "id": "5045084b-9795-4360-a8b4-bdba064b906c",
   "metadata": {},
   "outputs": [],
   "source": [
    "pos_text = []\n",
    "\n",
    "for file in pos_files:\n",
    "    with open(file) as f:\n",
    "        pos_text.append(f.read())\n",
    "\n",
    "pos_text = np.array(pos_text)"
   ]
  },
  {
   "cell_type": "code",
   "execution_count": 8,
   "id": "57d4ac58-41cf-445a-9cd9-3efdba4d115f",
   "metadata": {},
   "outputs": [],
   "source": [
    "neg_text = []\n",
    "\n",
    "for file in neg_files:\n",
    "    with open(file) as f:\n",
    "        neg_text.append(f.read())\n",
    "\n",
    "neg_text = np.array(neg_text)"
   ]
  },
  {
   "cell_type": "code",
   "execution_count": 9,
   "id": "23a87283-b4ab-41f2-9ee2-bde5b106b850",
   "metadata": {},
   "outputs": [],
   "source": [
    "reviews_df = pd.DataFrame({'sentiment': np.concatenate((pos_labels, neg_labels)),\n",
    "                           'text': np.concatenate((pos_text, neg_text))})"
   ]
  },
  {
   "cell_type": "code",
   "execution_count": 10,
   "id": "95c660e9-bd1f-4f86-944f-1b264c19ed9d",
   "metadata": {},
   "outputs": [
    {
     "data": {
      "text/html": [
       "<div>\n",
       "<style scoped>\n",
       "    .dataframe tbody tr th:only-of-type {\n",
       "        vertical-align: middle;\n",
       "    }\n",
       "\n",
       "    .dataframe tbody tr th {\n",
       "        vertical-align: top;\n",
       "    }\n",
       "\n",
       "    .dataframe thead th {\n",
       "        text-align: right;\n",
       "    }\n",
       "</style>\n",
       "<table border=\"1\" class=\"dataframe\">\n",
       "  <thead>\n",
       "    <tr style=\"text-align: right;\">\n",
       "      <th></th>\n",
       "      <th>sentiment</th>\n",
       "      <th>text</th>\n",
       "    </tr>\n",
       "  </thead>\n",
       "  <tbody>\n",
       "    <tr>\n",
       "      <th>0</th>\n",
       "      <td>1</td>\n",
       "      <td>Bromwell High is a cartoon comedy. It ran at t...</td>\n",
       "    </tr>\n",
       "    <tr>\n",
       "      <th>1</th>\n",
       "      <td>1</td>\n",
       "      <td>Homelessness (or Houselessness as George Carli...</td>\n",
       "    </tr>\n",
       "    <tr>\n",
       "      <th>2</th>\n",
       "      <td>1</td>\n",
       "      <td>Brilliant over-acting by Lesley Ann Warren. Be...</td>\n",
       "    </tr>\n",
       "  </tbody>\n",
       "</table>\n",
       "</div>"
      ],
      "text/plain": [
       "   sentiment                                               text\n",
       "0          1  Bromwell High is a cartoon comedy. It ran at t...\n",
       "1          1  Homelessness (or Houselessness as George Carli...\n",
       "2          1  Brilliant over-acting by Lesley Ann Warren. Be..."
      ]
     },
     "execution_count": 10,
     "metadata": {},
     "output_type": "execute_result"
    }
   ],
   "source": [
    "reviews_df.head(3)"
   ]
  },
  {
   "cell_type": "code",
   "execution_count": 11,
   "id": "d6fe6add-e120-40f7-9a87-8edc62929d2e",
   "metadata": {},
   "outputs": [
    {
     "data": {
      "text/html": [
       "<div>\n",
       "<style scoped>\n",
       "    .dataframe tbody tr th:only-of-type {\n",
       "        vertical-align: middle;\n",
       "    }\n",
       "\n",
       "    .dataframe tbody tr th {\n",
       "        vertical-align: top;\n",
       "    }\n",
       "\n",
       "    .dataframe thead th {\n",
       "        text-align: right;\n",
       "    }\n",
       "</style>\n",
       "<table border=\"1\" class=\"dataframe\">\n",
       "  <thead>\n",
       "    <tr style=\"text-align: right;\">\n",
       "      <th></th>\n",
       "      <th>sentiment</th>\n",
       "      <th>text</th>\n",
       "    </tr>\n",
       "  </thead>\n",
       "  <tbody>\n",
       "    <tr>\n",
       "      <th>49997</th>\n",
       "      <td>0</td>\n",
       "      <td>The basic genre is a thriller intercut with an...</td>\n",
       "    </tr>\n",
       "    <tr>\n",
       "      <th>49998</th>\n",
       "      <td>0</td>\n",
       "      <td>Four things intrigued me as to this film - fir...</td>\n",
       "    </tr>\n",
       "    <tr>\n",
       "      <th>49999</th>\n",
       "      <td>0</td>\n",
       "      <td>David Bryce's comments nearby are exceptionall...</td>\n",
       "    </tr>\n",
       "  </tbody>\n",
       "</table>\n",
       "</div>"
      ],
      "text/plain": [
       "       sentiment                                               text\n",
       "49997          0  The basic genre is a thriller intercut with an...\n",
       "49998          0  Four things intrigued me as to this film - fir...\n",
       "49999          0  David Bryce's comments nearby are exceptionall..."
      ]
     },
     "execution_count": 11,
     "metadata": {},
     "output_type": "execute_result"
    }
   ],
   "source": [
    "reviews_df.tail(3)"
   ]
  },
  {
   "cell_type": "markdown",
   "id": "ea69233a-ea02-4714-b8b5-55e56d697242",
   "metadata": {},
   "source": [
    "# **Перемешивание DataFrame** "
   ]
  },
  {
   "cell_type": "code",
   "execution_count": 12,
   "id": "a0cac953-c266-4b03-8d07-f6f942561bcc",
   "metadata": {},
   "outputs": [],
   "source": [
    "reviews_df = reviews_df.iloc[np.random.permutation(reviews_df.index)]"
   ]
  },
  {
   "cell_type": "code",
   "execution_count": 13,
   "id": "9f69983d-4d8d-4721-9be0-c45479b2f4ec",
   "metadata": {},
   "outputs": [
    {
     "data": {
      "text/html": [
       "<div>\n",
       "<style scoped>\n",
       "    .dataframe tbody tr th:only-of-type {\n",
       "        vertical-align: middle;\n",
       "    }\n",
       "\n",
       "    .dataframe tbody tr th {\n",
       "        vertical-align: top;\n",
       "    }\n",
       "\n",
       "    .dataframe thead th {\n",
       "        text-align: right;\n",
       "    }\n",
       "</style>\n",
       "<table border=\"1\" class=\"dataframe\">\n",
       "  <thead>\n",
       "    <tr style=\"text-align: right;\">\n",
       "      <th></th>\n",
       "      <th>sentiment</th>\n",
       "      <th>text</th>\n",
       "    </tr>\n",
       "  </thead>\n",
       "  <tbody>\n",
       "    <tr>\n",
       "      <th>10885</th>\n",
       "      <td>1</td>\n",
       "      <td>Funny, sexy, hot!!! There is no real plot but ...</td>\n",
       "    </tr>\n",
       "    <tr>\n",
       "      <th>13700</th>\n",
       "      <td>1</td>\n",
       "      <td>The Falcon and the Snowman is based on a true ...</td>\n",
       "    </tr>\n",
       "    <tr>\n",
       "      <th>24770</th>\n",
       "      <td>1</td>\n",
       "      <td>\"Radio Flyer\" is one of my most loved American...</td>\n",
       "    </tr>\n",
       "    <tr>\n",
       "      <th>6269</th>\n",
       "      <td>1</td>\n",
       "      <td>Ang Lee clearly likes to ease into a film, to ...</td>\n",
       "    </tr>\n",
       "    <tr>\n",
       "      <th>9175</th>\n",
       "      <td>1</td>\n",
       "      <td>WOW! What - a - movie !!!!!!!!!!! I'm not at a...</td>\n",
       "    </tr>\n",
       "    <tr>\n",
       "      <th>8996</th>\n",
       "      <td>1</td>\n",
       "      <td>A very silly movie, this starts with a soft po...</td>\n",
       "    </tr>\n",
       "    <tr>\n",
       "      <th>23774</th>\n",
       "      <td>1</td>\n",
       "      <td>Asterix and the Vikings is the first animated ...</td>\n",
       "    </tr>\n",
       "    <tr>\n",
       "      <th>904</th>\n",
       "      <td>1</td>\n",
       "      <td>Given the opposite circumstance of 2009 where ...</td>\n",
       "    </tr>\n",
       "    <tr>\n",
       "      <th>22792</th>\n",
       "      <td>1</td>\n",
       "      <td>After watching this film I experienced a new s...</td>\n",
       "    </tr>\n",
       "    <tr>\n",
       "      <th>12994</th>\n",
       "      <td>1</td>\n",
       "      <td>It plays like your usual teenage-audience T&amp;A ...</td>\n",
       "    </tr>\n",
       "  </tbody>\n",
       "</table>\n",
       "</div>"
      ],
      "text/plain": [
       "       sentiment                                               text\n",
       "10885          1  Funny, sexy, hot!!! There is no real plot but ...\n",
       "13700          1  The Falcon and the Snowman is based on a true ...\n",
       "24770          1  \"Radio Flyer\" is one of my most loved American...\n",
       "6269           1  Ang Lee clearly likes to ease into a film, to ...\n",
       "9175           1  WOW! What - a - movie !!!!!!!!!!! I'm not at a...\n",
       "8996           1  A very silly movie, this starts with a soft po...\n",
       "23774          1  Asterix and the Vikings is the first animated ...\n",
       "904            1  Given the opposite circumstance of 2009 where ...\n",
       "22792          1  After watching this film I experienced a new s...\n",
       "12994          1  It plays like your usual teenage-audience T&A ..."
      ]
     },
     "execution_count": 13,
     "metadata": {},
     "output_type": "execute_result"
    }
   ],
   "source": [
    "reviews_df.head(10)"
   ]
  },
  {
   "cell_type": "code",
   "execution_count": 14,
   "id": "923dc118-48f3-4968-a13c-39e3e1b981bd",
   "metadata": {},
   "outputs": [
    {
     "data": {
      "text/html": [
       "<div>\n",
       "<style scoped>\n",
       "    .dataframe tbody tr th:only-of-type {\n",
       "        vertical-align: middle;\n",
       "    }\n",
       "\n",
       "    .dataframe tbody tr th {\n",
       "        vertical-align: top;\n",
       "    }\n",
       "\n",
       "    .dataframe thead th {\n",
       "        text-align: right;\n",
       "    }\n",
       "</style>\n",
       "<table border=\"1\" class=\"dataframe\">\n",
       "  <thead>\n",
       "    <tr style=\"text-align: right;\">\n",
       "      <th></th>\n",
       "      <th>sentiment</th>\n",
       "      <th>text</th>\n",
       "    </tr>\n",
       "  </thead>\n",
       "  <tbody>\n",
       "    <tr>\n",
       "      <th>44638</th>\n",
       "      <td>0</td>\n",
       "      <td>I am a big fan of British films in general but...</td>\n",
       "    </tr>\n",
       "    <tr>\n",
       "      <th>45334</th>\n",
       "      <td>0</td>\n",
       "      <td>Alright, how someone can actually think this m...</td>\n",
       "    </tr>\n",
       "    <tr>\n",
       "      <th>37788</th>\n",
       "      <td>0</td>\n",
       "      <td>Although not a big Coen brothers fan, I am an ...</td>\n",
       "    </tr>\n",
       "    <tr>\n",
       "      <th>22326</th>\n",
       "      <td>1</td>\n",
       "      <td>I think that Never Been Kissed was a totally a...</td>\n",
       "    </tr>\n",
       "    <tr>\n",
       "      <th>4290</th>\n",
       "      <td>1</td>\n",
       "      <td>This is widely viewed in Australia as one of t...</td>\n",
       "    </tr>\n",
       "    <tr>\n",
       "      <th>44773</th>\n",
       "      <td>0</td>\n",
       "      <td>Despite John Travolta's statements in intervie...</td>\n",
       "    </tr>\n",
       "    <tr>\n",
       "      <th>46114</th>\n",
       "      <td>0</td>\n",
       "      <td>The ABC gears up it's repertory company for an...</td>\n",
       "    </tr>\n",
       "    <tr>\n",
       "      <th>48738</th>\n",
       "      <td>0</td>\n",
       "      <td>I've never understood this type of spoof movie...</td>\n",
       "    </tr>\n",
       "    <tr>\n",
       "      <th>18079</th>\n",
       "      <td>1</td>\n",
       "      <td>So it's not an award winner, so what? Have you...</td>\n",
       "    </tr>\n",
       "    <tr>\n",
       "      <th>46637</th>\n",
       "      <td>0</td>\n",
       "      <td>and generally speaking, you will eventually ha...</td>\n",
       "    </tr>\n",
       "  </tbody>\n",
       "</table>\n",
       "</div>"
      ],
      "text/plain": [
       "       sentiment                                               text\n",
       "44638          0  I am a big fan of British films in general but...\n",
       "45334          0  Alright, how someone can actually think this m...\n",
       "37788          0  Although not a big Coen brothers fan, I am an ...\n",
       "22326          1  I think that Never Been Kissed was a totally a...\n",
       "4290           1  This is widely viewed in Australia as one of t...\n",
       "44773          0  Despite John Travolta's statements in intervie...\n",
       "46114          0  The ABC gears up it's repertory company for an...\n",
       "48738          0  I've never understood this type of spoof movie...\n",
       "18079          1  So it's not an award winner, so what? Have you...\n",
       "46637          0  and generally speaking, you will eventually ha..."
      ]
     },
     "execution_count": 14,
     "metadata": {},
     "output_type": "execute_result"
    }
   ],
   "source": [
    "reviews_df.tail(10)"
   ]
  },
  {
   "cell_type": "markdown",
   "id": "f58506c2-e86a-4ed9-9ec2-d94686e2c30c",
   "metadata": {},
   "source": [
    "# **Удаление html-разметки**"
   ]
  },
  {
   "cell_type": "code",
   "execution_count": 15,
   "id": "711bb753-acf9-4ffc-9128-e504d1cb5de8",
   "metadata": {},
   "outputs": [],
   "source": [
    "class ReviewsHTMLParser(HTMLParser):\n",
    "    def __init__(self):\n",
    "        super().__init__()\n",
    "        self.text = \"\"\n",
    "        \n",
    "    def handle_data(self, data):\n",
    "        self.text += \" \" + data\n",
    "        \n",
    "    def get_data(self):\n",
    "        return self.text[1:]"
   ]
  },
  {
   "cell_type": "code",
   "execution_count": 16,
   "id": "a35d9503-58e8-443f-8120-f3c22b862e38",
   "metadata": {},
   "outputs": [],
   "source": [
    "def strip_tags(text):\n",
    "    parser = ReviewsHTMLParser()\n",
    "    parser.feed(text)\n",
    "    return parser.get_data()"
   ]
  },
  {
   "cell_type": "code",
   "execution_count": 17,
   "id": "dae4f76e-b39e-43aa-bed9-f1ae6169e4b4",
   "metadata": {},
   "outputs": [],
   "source": [
    "reviews_df[\"text\"] = reviews_df[\"text\"].apply(strip_tags)"
   ]
  },
  {
   "cell_type": "markdown",
   "id": "f6a55591-5bfb-477b-82dd-70d12dc74696",
   "metadata": {},
   "source": [
    "# **Дополнительная очистка**"
   ]
  },
  {
   "cell_type": "code",
   "execution_count": 18,
   "id": "4b7afe61-7e7a-4918-beaa-c37d1410b0eb",
   "metadata": {},
   "outputs": [],
   "source": [
    "def clear_text(text):\n",
    "    text = text.replace(\"\\'\", \" \")\n",
    "    return text"
   ]
  },
  {
   "cell_type": "code",
   "execution_count": 19,
   "id": "208899c2-7397-482c-87f8-cb8b87e71d53",
   "metadata": {},
   "outputs": [],
   "source": [
    "reviews_df[\"text\"] = reviews_df[\"text\"].apply(clear_text)"
   ]
  },
  {
   "cell_type": "code",
   "execution_count": 20,
   "id": "e0df1be4-4af3-474c-aef3-3cece33b4fca",
   "metadata": {},
   "outputs": [],
   "source": [
    "def remove_punctuation(text):\n",
    "    return text.translate(str.maketrans(\"\", \"\", string.punctuation))"
   ]
  },
  {
   "cell_type": "code",
   "execution_count": 21,
   "id": "a5b82de4-dfbd-4296-b836-7326268e5b66",
   "metadata": {},
   "outputs": [],
   "source": [
    "reviews_df[\"text\"] = reviews_df[\"text\"].apply(remove_punctuation)"
   ]
  },
  {
   "cell_type": "markdown",
   "id": "041dea2d-bacb-44c0-a4d5-9b5e7b731d02",
   "metadata": {},
   "source": [
    "# **Разделение датасета**"
   ]
  },
  {
   "cell_type": "code",
   "execution_count": 22,
   "id": "1f5910e1-9b6d-40d8-b0ed-3b8b3c84164b",
   "metadata": {},
   "outputs": [],
   "source": [
    "y = reviews_df[\"sentiment\"].to_numpy()\n",
    "x = reviews_df[\"text\"].to_numpy()"
   ]
  },
  {
   "cell_type": "markdown",
   "id": "99d37375-9806-4542-8a0c-e45127083580",
   "metadata": {},
   "source": [
    "# **Применение nltk**"
   ]
  },
  {
   "cell_type": "code",
   "execution_count": 23,
   "id": "f0f6d6d7-055e-43e7-9cf8-8b6b48d537ae",
   "metadata": {},
   "outputs": [],
   "source": [
    "def stop_words_stemmer_apply(x, stop_words, st):\n",
    "    for i in range(len(x)):\n",
    "        filtered_sentence = [w for w in word_tokenize(x[i]) if not w.lower() in stop_words]\n",
    "        stem_sentence = [st.stem(w) for w in filtered_sentence]\n",
    "        x[i] = \" \".join(stem_sentence)\n",
    "    return x"
   ]
  },
  {
   "cell_type": "code",
   "execution_count": 24,
   "id": "b6135483-7836-4afd-b05e-d860df45ad8e",
   "metadata": {},
   "outputs": [],
   "source": [
    "stop_words = set(stopwords.words('english'))"
   ]
  },
  {
   "cell_type": "code",
   "execution_count": 25,
   "id": "613dd7bb-2095-452d-b610-a7c22a2a187c",
   "metadata": {},
   "outputs": [],
   "source": [
    "st = LancasterStemmer()"
   ]
  },
  {
   "cell_type": "code",
   "execution_count": 26,
   "id": "7dbe404d-104b-4fb0-b933-9df288488271",
   "metadata": {},
   "outputs": [],
   "source": [
    "x = stop_words_stemmer_apply(x, stop_words, st)"
   ]
  },
  {
   "cell_type": "markdown",
   "id": "1b8b6ddc-ce96-4218-b6b4-80bffb95d358",
   "metadata": {},
   "source": [
    "# **Классификация через LogisticRegression**"
   ]
  },
  {
   "cell_type": "code",
   "execution_count": 27,
   "id": "69c7ffa2-b236-4653-b909-61143dabef8b",
   "metadata": {},
   "outputs": [],
   "source": [
    "vectorizer = TfidfVectorizer()"
   ]
  },
  {
   "cell_type": "code",
   "execution_count": 28,
   "id": "4bf46df4-1e81-4325-8249-70ecb294086f",
   "metadata": {},
   "outputs": [
    {
     "data": {
      "text/plain": [
       "(50000, 111855)"
      ]
     },
     "execution_count": 28,
     "metadata": {},
     "output_type": "execute_result"
    }
   ],
   "source": [
    "x = vectorizer.fit_transform(x)\n",
    "x.shape"
   ]
  },
  {
   "cell_type": "code",
   "execution_count": 29,
   "id": "cb23ae47-3c70-41dc-bc08-9600682eab75",
   "metadata": {},
   "outputs": [],
   "source": [
    "x_train, x_test, y_train, y_test = train_test_split(x, y, test_size=0.25, random_state=42)"
   ]
  },
  {
   "cell_type": "code",
   "execution_count": 30,
   "id": "c1789c9e-e598-4bcf-9ef8-a3ecf4557c1e",
   "metadata": {},
   "outputs": [
    {
     "name": "stdout",
     "output_type": "stream",
     "text": [
      "Средняя точность: 0.88\n"
     ]
    }
   ],
   "source": [
    "model = LogisticRegression()\n",
    "\n",
    "scores = cross_val_score(model, x_train, y_train, cv=3)\n",
    "print(\"Средняя точность: %0.2f\" % scores.mean())"
   ]
  },
  {
   "cell_type": "code",
   "execution_count": 31,
   "id": "619a72f5-fb21-4f1e-a59a-169502eeed2e",
   "metadata": {},
   "outputs": [
    {
     "data": {
      "text/html": [
       "<style>#sk-container-id-1 {color: black;background-color: white;}#sk-container-id-1 pre{padding: 0;}#sk-container-id-1 div.sk-toggleable {background-color: white;}#sk-container-id-1 label.sk-toggleable__label {cursor: pointer;display: block;width: 100%;margin-bottom: 0;padding: 0.3em;box-sizing: border-box;text-align: center;}#sk-container-id-1 label.sk-toggleable__label-arrow:before {content: \"▸\";float: left;margin-right: 0.25em;color: #696969;}#sk-container-id-1 label.sk-toggleable__label-arrow:hover:before {color: black;}#sk-container-id-1 div.sk-estimator:hover label.sk-toggleable__label-arrow:before {color: black;}#sk-container-id-1 div.sk-toggleable__content {max-height: 0;max-width: 0;overflow: hidden;text-align: left;background-color: #f0f8ff;}#sk-container-id-1 div.sk-toggleable__content pre {margin: 0.2em;color: black;border-radius: 0.25em;background-color: #f0f8ff;}#sk-container-id-1 input.sk-toggleable__control:checked~div.sk-toggleable__content {max-height: 200px;max-width: 100%;overflow: auto;}#sk-container-id-1 input.sk-toggleable__control:checked~label.sk-toggleable__label-arrow:before {content: \"▾\";}#sk-container-id-1 div.sk-estimator input.sk-toggleable__control:checked~label.sk-toggleable__label {background-color: #d4ebff;}#sk-container-id-1 div.sk-label input.sk-toggleable__control:checked~label.sk-toggleable__label {background-color: #d4ebff;}#sk-container-id-1 input.sk-hidden--visually {border: 0;clip: rect(1px 1px 1px 1px);clip: rect(1px, 1px, 1px, 1px);height: 1px;margin: -1px;overflow: hidden;padding: 0;position: absolute;width: 1px;}#sk-container-id-1 div.sk-estimator {font-family: monospace;background-color: #f0f8ff;border: 1px dotted black;border-radius: 0.25em;box-sizing: border-box;margin-bottom: 0.5em;}#sk-container-id-1 div.sk-estimator:hover {background-color: #d4ebff;}#sk-container-id-1 div.sk-parallel-item::after {content: \"\";width: 100%;border-bottom: 1px solid gray;flex-grow: 1;}#sk-container-id-1 div.sk-label:hover label.sk-toggleable__label {background-color: #d4ebff;}#sk-container-id-1 div.sk-serial::before {content: \"\";position: absolute;border-left: 1px solid gray;box-sizing: border-box;top: 0;bottom: 0;left: 50%;z-index: 0;}#sk-container-id-1 div.sk-serial {display: flex;flex-direction: column;align-items: center;background-color: white;padding-right: 0.2em;padding-left: 0.2em;position: relative;}#sk-container-id-1 div.sk-item {position: relative;z-index: 1;}#sk-container-id-1 div.sk-parallel {display: flex;align-items: stretch;justify-content: center;background-color: white;position: relative;}#sk-container-id-1 div.sk-item::before, #sk-container-id-1 div.sk-parallel-item::before {content: \"\";position: absolute;border-left: 1px solid gray;box-sizing: border-box;top: 0;bottom: 0;left: 50%;z-index: -1;}#sk-container-id-1 div.sk-parallel-item {display: flex;flex-direction: column;z-index: 1;position: relative;background-color: white;}#sk-container-id-1 div.sk-parallel-item:first-child::after {align-self: flex-end;width: 50%;}#sk-container-id-1 div.sk-parallel-item:last-child::after {align-self: flex-start;width: 50%;}#sk-container-id-1 div.sk-parallel-item:only-child::after {width: 0;}#sk-container-id-1 div.sk-dashed-wrapped {border: 1px dashed gray;margin: 0 0.4em 0.5em 0.4em;box-sizing: border-box;padding-bottom: 0.4em;background-color: white;}#sk-container-id-1 div.sk-label label {font-family: monospace;font-weight: bold;display: inline-block;line-height: 1.2em;}#sk-container-id-1 div.sk-label-container {text-align: center;}#sk-container-id-1 div.sk-container {/* jupyter's `normalize.less` sets `[hidden] { display: none; }` but bootstrap.min.css set `[hidden] { display: none !important; }` so we also need the `!important` here to be able to override the default hidden behavior on the sphinx rendered scikit-learn.org. See: https://github.com/scikit-learn/scikit-learn/issues/21755 */display: inline-block !important;position: relative;}#sk-container-id-1 div.sk-text-repr-fallback {display: none;}</style><div id=\"sk-container-id-1\" class=\"sk-top-container\"><div class=\"sk-text-repr-fallback\"><pre>LogisticRegression()</pre><b>In a Jupyter environment, please rerun this cell to show the HTML representation or trust the notebook. <br />On GitHub, the HTML representation is unable to render, please try loading this page with nbviewer.org.</b></div><div class=\"sk-container\" hidden><div class=\"sk-item\"><div class=\"sk-estimator sk-toggleable\"><input class=\"sk-toggleable__control sk-hidden--visually\" id=\"sk-estimator-id-1\" type=\"checkbox\" checked><label for=\"sk-estimator-id-1\" class=\"sk-toggleable__label sk-toggleable__label-arrow\">LogisticRegression</label><div class=\"sk-toggleable__content\"><pre>LogisticRegression()</pre></div></div></div></div></div>"
      ],
      "text/plain": [
       "LogisticRegression()"
      ]
     },
     "execution_count": 31,
     "metadata": {},
     "output_type": "execute_result"
    }
   ],
   "source": [
    "model.fit(x_train, y_train)"
   ]
  },
  {
   "cell_type": "code",
   "execution_count": 32,
   "id": "ffee0f64-8183-46cc-88a1-37e4928ad021",
   "metadata": {},
   "outputs": [
    {
     "name": "stdout",
     "output_type": "stream",
     "text": [
      "Точность предсказания на тестовой выборке: 0.89\n"
     ]
    }
   ],
   "source": [
    "y_pred = model.predict(x_test)\n",
    "\n",
    "accuracy = accuracy_score(y_test, y_pred)\n",
    "print(\"Точность предсказания на тестовой выборке: %0.2f\" % accuracy)"
   ]
  },
  {
   "cell_type": "code",
   "execution_count": null,
   "id": "faab9cfc-10e7-47f9-82ad-2b78c582b37e",
   "metadata": {},
   "outputs": [],
   "source": []
  }
 ],
 "metadata": {
  "kernelspec": {
   "display_name": "Python 3 (ipykernel)",
   "language": "python",
   "name": "python3"
  },
  "language_info": {
   "codemirror_mode": {
    "name": "ipython",
    "version": 3
   },
   "file_extension": ".py",
   "mimetype": "text/x-python",
   "name": "python",
   "nbconvert_exporter": "python",
   "pygments_lexer": "ipython3",
   "version": "3.10.11"
  }
 },
 "nbformat": 4,
 "nbformat_minor": 5
}
