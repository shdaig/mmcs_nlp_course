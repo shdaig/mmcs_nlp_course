{
 "cells": [
  {
   "cell_type": "markdown",
   "metadata": {
    "id": "-7kHINLaiPiV"
   },
   "source": [
    "# Задание 3. Применение RNN для прогнозирования отношения в рецензиях на фильмы\n"
   ]
  },
  {
   "cell_type": "markdown",
   "metadata": {
    "id": "eNVLa0B8ieoE"
   },
   "source": [
    "## Кодирование данных и разделение на пакеты"
   ]
  },
  {
   "cell_type": "code",
   "execution_count": 1,
   "metadata": {
    "id": "82Z1uDcTx3Nz"
   },
   "outputs": [
    {
     "name": "stderr",
     "output_type": "stream",
     "text": [
      "2023-05-31 21:18:43.426070: I tensorflow/core/platform/cpu_feature_guard.cc:193] This TensorFlow binary is optimized with oneAPI Deep Neural Network Library (oneDNN) to use the following CPU instructions in performance-critical operations:  AVX2 FMA\n",
      "To enable them in other operations, rebuild TensorFlow with the appropriate compiler flags.\n",
      "2023-05-31 21:18:44.055101: W tensorflow/compiler/xla/stream_executor/platform/default/dso_loader.cc:64] Could not load dynamic library 'libnvinfer.so.7'; dlerror: libnvinfer.so.7: cannot open shared object file: No such file or directory; LD_LIBRARY_PATH: /usr/local/cuda-11.2/lib64:\n",
      "2023-05-31 21:18:44.055166: W tensorflow/compiler/xla/stream_executor/platform/default/dso_loader.cc:64] Could not load dynamic library 'libnvinfer_plugin.so.7'; dlerror: libnvinfer_plugin.so.7: cannot open shared object file: No such file or directory; LD_LIBRARY_PATH: /usr/local/cuda-11.2/lib64:\n",
      "2023-05-31 21:18:44.055185: W tensorflow/compiler/tf2tensorrt/utils/py_utils.cc:38] TF-TRT Warning: Cannot dlopen some TensorRT libraries. If you would like to use Nvidia GPU with TensorRT, please make sure the missing libraries mentioned above are installed properly.\n",
      "/home/danil/Projects/Python/environments/p310-env/lib/python3.10/site-packages/tqdm/auto.py:21: TqdmWarning: IProgress not found. Please update jupyter and ipywidgets. See https://ipywidgets.readthedocs.io/en/stable/user_install.html\n",
      "  from .autonotebook import tqdm as notebook_tqdm\n"
     ]
    }
   ],
   "source": [
    "import tensorflow as tf\n",
    "import tensorflow_datasets as tfds\n",
    "import numpy as np\n",
    "import pandas as pd\n",
    "import matplotlib.pyplot as plt\n",
    "from collections import Counter\n",
    "from tensorflow import keras\n",
    "from keras import Sequential\n",
    "from keras.layers import Embedding, Dense, Bidirectional, LSTM \n",
    "from keras.optimizers import Adam\n",
    "from keras.losses import BinaryCrossentropy"
   ]
  },
  {
   "cell_type": "code",
   "execution_count": 2,
   "metadata": {
    "id": "bGNEvlXPiyZy"
   },
   "outputs": [],
   "source": [
    "df = pd.read_csv('movie_data.csv', encoding='utf-8')"
   ]
  },
  {
   "cell_type": "markdown",
   "metadata": {
    "id": "WYywEod0i0T4"
   },
   "source": [
    "**Cоздание набора данных**"
   ]
  },
  {
   "cell_type": "code",
   "execution_count": 3,
   "metadata": {
    "colab": {
     "base_uri": "https://localhost:8080/"
    },
    "id": "AWuEcr7O9rY9",
    "outputId": "2c183385-707f-4d9e-f50e-fa0d8c2c913e"
   },
   "outputs": [
    {
     "name": "stdout",
     "output_type": "stream",
     "text": [
      "b'In 1974, the teenager Martha Moxley (Maggie Grace)' 1\n",
      "b'OK... so... I really like Kris Kristofferson and h' 0\n",
      "b'***SPOILER*** Do not read this, if you think about' 0\n"
     ]
    },
    {
     "name": "stderr",
     "output_type": "stream",
     "text": [
      "2023-05-31 21:18:53.273656: E tensorflow/compiler/xla/stream_executor/cuda/cuda_driver.cc:267] failed call to cuInit: CUDA_ERROR_UNKNOWN: unknown error\n",
      "2023-05-31 21:18:53.273691: I tensorflow/compiler/xla/stream_executor/cuda/cuda_diagnostics.cc:169] retrieving CUDA diagnostic information for host: Proton\n",
      "2023-05-31 21:18:53.273698: I tensorflow/compiler/xla/stream_executor/cuda/cuda_diagnostics.cc:176] hostname: Proton\n",
      "2023-05-31 21:18:53.273779: I tensorflow/compiler/xla/stream_executor/cuda/cuda_diagnostics.cc:200] libcuda reported version is: 525.105.17\n",
      "2023-05-31 21:18:53.273799: I tensorflow/compiler/xla/stream_executor/cuda/cuda_diagnostics.cc:204] kernel reported version is: 525.105.17\n",
      "2023-05-31 21:18:53.273803: I tensorflow/compiler/xla/stream_executor/cuda/cuda_diagnostics.cc:310] kernel version seems to match DSO: 525.105.17\n",
      "2023-05-31 21:18:53.275367: I tensorflow/core/platform/cpu_feature_guard.cc:193] This TensorFlow binary is optimized with oneAPI Deep Neural Network Library (oneDNN) to use the following CPU instructions in performance-critical operations:  AVX2 FMA\n",
      "To enable them in other operations, rebuild TensorFlow with the appropriate compiler flags.\n"
     ]
    }
   ],
   "source": [
    "target = df.pop('sentiment')\n",
    "ds_raw = tf.data.Dataset.from_tensor_slices((df.values, target.values))\n",
    "\n",
    "for ex in ds_raw.take(3):\n",
    "    tf.print(ex[0].numpy()[0][:50], ex[1])"
   ]
  },
  {
   "cell_type": "code",
   "execution_count": 4,
   "metadata": {
    "id": "Z2OMWhNH_88R"
   },
   "outputs": [],
   "source": [
    "tf.random.set_seed(1)\n",
    "ds_raw = ds_raw.shuffle(50000, reshuffle_each_iteration=False)\n",
    "\n",
    "ds_raw_test = ds_raw.take(25000)\n",
    "ds_raw_train_valid = ds_raw.skip(25000)\n",
    "ds_raw_train = ds_raw_train_valid.take(20000)\n",
    "ds_raw_valid = ds_raw_train_valid.skip(20000)"
   ]
  },
  {
   "cell_type": "markdown",
   "metadata": {
    "id": "iz_nJZhSi_fc"
   },
   "source": [
    "**Нахождение уникальных лексем**"
   ]
  },
  {
   "cell_type": "code",
   "execution_count": 5,
   "metadata": {
    "colab": {
     "base_uri": "https://localhost:8080/"
    },
    "id": "AnHCg-1-AwxV",
    "outputId": "4f6d3219-093c-4e08-e3b4-8081899f0e03"
   },
   "outputs": [
    {
     "name": "stdout",
     "output_type": "stream",
     "text": [
      "Размер словаря:  87007\n"
     ]
    }
   ],
   "source": [
    "tokenizer = tfds.deprecated.text.Tokenizer()\n",
    "token_counts = Counter()\n",
    "\n",
    "for example in ds_raw_train:\n",
    "    tokens = tokenizer.tokenize(example[0].numpy()[0])\n",
    "    token_counts.update(tokens)\n",
    "\n",
    "print('Размер словаря: ', len(token_counts))"
   ]
  },
  {
   "cell_type": "markdown",
   "metadata": {
    "id": "_uYYlATejL3X"
   },
   "source": [
    "**Кодирование уникальных лексем в виде целых чисел**"
   ]
  },
  {
   "cell_type": "code",
   "execution_count": 6,
   "metadata": {
    "id": "oyH4Jdb5DZkP"
   },
   "outputs": [],
   "source": [
    "encoder = tfds.deprecated.text.TokenTextEncoder(token_counts)\n",
    "def encode(text_tensor, label):\n",
    "    text = text_tensor.numpy()[0]\n",
    "    encoded_text = encoder.encode(text)\n",
    "    return encoded_text, label"
   ]
  },
  {
   "cell_type": "code",
   "execution_count": 7,
   "metadata": {
    "id": "fNbom_BxD1r2"
   },
   "outputs": [],
   "source": [
    "def encode_map_fn(text, label):\n",
    "    return tf.py_function(encode, inp=[text, label],\n",
    "                        Tout = (tf.int64, tf.int64))\n"
   ]
  },
  {
   "cell_type": "code",
   "execution_count": 8,
   "metadata": {
    "id": "av0PrRUW5Aje"
   },
   "outputs": [],
   "source": [
    "ds_train = ds_raw_train.map(encode_map_fn)\n",
    "ds_valid = ds_raw_valid.map(encode_map_fn)\n",
    "ds_test = ds_raw_test.map(encode_map_fn)"
   ]
  },
  {
   "cell_type": "markdown",
   "metadata": {
    "id": "kWuqeszCjsHx"
   },
   "source": [
    "**Просмотр**"
   ]
  },
  {
   "cell_type": "code",
   "execution_count": 9,
   "metadata": {
    "colab": {
     "base_uri": "https://localhost:8080/"
    },
    "id": "nSfP08RSEv2v",
    "outputId": "4914669e-f3ad-446b-d8ed-f77e626c1c57"
   },
   "outputs": [
    {
     "name": "stdout",
     "output_type": "stream",
     "text": [
      "Длина последовательности:  (24,)\n",
      "Длина последовательности:  (179,)\n",
      "Длина последовательности:  (262,)\n",
      "Длина последовательности:  (535,)\n",
      "Длина последовательности:  (130,)\n"
     ]
    }
   ],
   "source": [
    "tf.random.set_seed(1)\n",
    "for example in ds_train.shuffle(1000).take(5):\n",
    "    print('Длина последовательности: ', example[0].shape)"
   ]
  },
  {
   "cell_type": "markdown",
   "metadata": {
    "id": "OjCY74lmj8r2"
   },
   "source": [
    "### Разделение на пакеты"
   ]
  },
  {
   "cell_type": "markdown",
   "metadata": {
    "id": "xTKx2Ia1kF_E"
   },
   "source": [
    "В качестве примера извлечем небольшой поднабор и разделим его на пакеты размера 4 с помощью padded_batch():"
   ]
  },
  {
   "cell_type": "code",
   "execution_count": 10,
   "metadata": {
    "colab": {
     "base_uri": "https://localhost:8080/"
    },
    "id": "JkvsOglYFm20",
    "outputId": "e359d202-792d-4949-95b8-1bac89852909"
   },
   "outputs": [
    {
     "name": "stdout",
     "output_type": "stream",
     "text": [
      "Размер индивидуального элемента:  (119,)\n",
      "Размер индивидуального элемента:  (688,)\n",
      "Размер индивидуального элемента:  (308,)\n",
      "Размер индивидуального элемента:  (204,)\n",
      "Размер индивидуального элемента:  (326,)\n",
      "Размер индивидуального элемента:  (240,)\n",
      "Размер индивидуального элемента:  (127,)\n",
      "Размер индивидуального элемента:  (453,)\n"
     ]
    }
   ],
   "source": [
    "ds_subset = ds_train.take(8)\n",
    "for example in ds_subset:\n",
    "    print('Размер индивидуального элемента: ', example[0].shape)"
   ]
  },
  {
   "cell_type": "code",
   "execution_count": 11,
   "metadata": {
    "colab": {
     "base_uri": "https://localhost:8080/"
    },
    "id": "Uzdn-VfpGVl2",
    "outputId": "5b2f72bf-585a-475f-d9a5-523de3668f8e"
   },
   "outputs": [
    {
     "name": "stdout",
     "output_type": "stream",
     "text": [
      "Размерность пакета:  (4, 688)\n",
      "Размерность пакета:  (4, 453)\n"
     ]
    }
   ],
   "source": [
    "ds_batched = ds_subset.padded_batch(\n",
    "    4, padded_shapes=([-1], [])\n",
    ")\n",
    "for batch in ds_batched:\n",
    "    print('Размерность пакета: ', batch[0].shape)"
   ]
  },
  {
   "cell_type": "markdown",
   "metadata": {
    "id": "hMbPFvDw6Bh7"
   },
   "source": [
    "Теперь разделим наши выборки на пакеты размера 32"
   ]
  },
  {
   "cell_type": "code",
   "execution_count": 12,
   "metadata": {
    "id": "dSv6kDuvG3fo"
   },
   "outputs": [],
   "source": [
    "train_data = ds_train.padded_batch(32, padded_shapes=([-1], []))\n",
    "valid_data = ds_valid.padded_batch(32, padded_shapes=([-1], []))\n",
    "test_data = ds_test.padded_batch(32, padded_shapes=([-1], []))"
   ]
  },
  {
   "cell_type": "markdown",
   "metadata": {
    "id": "ga2l_jbL6g_N"
   },
   "source": [
    "Рассмотрим размерности "
   ]
  },
  {
   "cell_type": "code",
   "execution_count": 13,
   "metadata": {
    "colab": {
     "base_uri": "https://localhost:8080/"
    },
    "id": "_AeXMPf16WVp",
    "outputId": "622c7188-77b4-45e0-f2c4-b58c7bbf16ea"
   },
   "outputs": [
    {
     "name": "stdout",
     "output_type": "stream",
     "text": [
      "Размерность пакета:  (32, 715)\n",
      "Размерность пакета:  (32, 873)\n",
      "Размерность пакета:  (32, 848)\n",
      "Размерность пакета:  (32, 782)\n",
      "Размерность пакета:  (32, 509)\n"
     ]
    }
   ],
   "source": [
    "for batch in train_data.take(5):\n",
    "    print('Размерность пакета: ', batch[0].shape)"
   ]
  },
  {
   "cell_type": "markdown",
   "metadata": {
    "id": "Z8NtPFDiL0p2"
   },
   "source": [
    "## Реализация многослойной RNN со слоем LSTM в оболочке Bidirectional"
   ]
  },
  {
   "cell_type": "code",
   "execution_count": 14,
   "metadata": {
    "colab": {
     "base_uri": "https://localhost:8080/"
    },
    "id": "9WUZomb-LR2z",
    "outputId": "dc90f133-97ec-4209-b9c4-b2ba7f971958"
   },
   "outputs": [
    {
     "name": "stdout",
     "output_type": "stream",
     "text": [
      "Model: \"sequential\"\n",
      "_________________________________________________________________\n",
      " Layer (type)                Output Shape              Param #   \n",
      "=================================================================\n",
      " embed_layer (Embedding)     (None, None, 20)          1740180   \n",
      "                                                                 \n",
      " bidir-lstm (Bidirectional)  (None, 128)               43520     \n",
      "                                                                 \n",
      " dense (Dense)               (None, 64)                8256      \n",
      "                                                                 \n",
      " dense_1 (Dense)             (None, 1)                 65        \n",
      "                                                                 \n",
      "=================================================================\n",
      "Total params: 1,792,021\n",
      "Trainable params: 1,792,021\n",
      "Non-trainable params: 0\n",
      "_________________________________________________________________\n"
     ]
    }
   ],
   "source": [
    "embedding_dim = 20\n",
    "vocab_size = len(token_counts) + 2\n",
    "\n",
    "tf.random.set_seed(1)\n",
    "\n",
    "bi_lstm_model = Sequential([\n",
    "    Embedding(\n",
    "        input_dim=vocab_size,\n",
    "        output_dim=embedding_dim,\n",
    "        name='embed_layer'),\n",
    "    Bidirectional(\n",
    "        LSTM(64, name='lstm-layer'),\n",
    "        name='bidir-lstm'),\n",
    "    Dense(64, activation='relu'),\n",
    "    Dense(1, activation='sigmoid')\n",
    "])\n",
    "\n",
    "bi_lstm_model.summary()"
   ]
  },
  {
   "cell_type": "markdown",
   "metadata": {
    "id": "UyvIhhE6w6zR"
   },
   "source": [
    "## Пакетное обучение"
   ]
  },
  {
   "cell_type": "code",
   "execution_count": 15,
   "metadata": {
    "colab": {
     "base_uri": "https://localhost:8080/"
    },
    "id": "OD5U_4djOi38",
    "outputId": "e22987a2-3b15-41b7-da2c-a2e88023dd2a"
   },
   "outputs": [
    {
     "name": "stdout",
     "output_type": "stream",
     "text": [
      "Epoch 1/5\n",
      "625/625 [==============================] - 133s 210ms/step - loss: 0.6516 - accuracy: 0.6030 - val_loss: 0.6534 - val_accuracy: 0.6040\n",
      "Epoch 2/5\n",
      "625/625 [==============================] - 135s 217ms/step - loss: 0.5855 - accuracy: 0.6779 - val_loss: 0.4633 - val_accuracy: 0.7924\n",
      "Epoch 3/5\n",
      "625/625 [==============================] - 142s 227ms/step - loss: 0.2748 - accuracy: 0.8914 - val_loss: 0.4080 - val_accuracy: 0.8520\n",
      "Epoch 4/5\n",
      "625/625 [==============================] - 136s 217ms/step - loss: 0.1429 - accuracy: 0.9496 - val_loss: 0.4865 - val_accuracy: 0.8154\n",
      "Epoch 5/5\n",
      "625/625 [==============================] - 137s 219ms/step - loss: 0.1070 - accuracy: 0.9620 - val_loss: 0.4586 - val_accuracy: 0.8292\n"
     ]
    }
   ],
   "source": [
    "bi_lstm_model.compile(\n",
    "    optimizer=Adam(1e-3),\n",
    "    loss=BinaryCrossentropy(from_logits=False), \n",
    "    metrics=['accuracy'])\n",
    "\n",
    "history = bi_lstm_model.fit(\n",
    "    train_data,\n",
    "    validation_data=valid_data,\n",
    "    epochs=5)"
   ]
  },
  {
   "cell_type": "code",
   "execution_count": 19,
   "metadata": {
    "id": "VHg644hD9uOJ"
   },
   "outputs": [
    {
     "data": {
      "image/png": "[encoded data removed]",
      "text/plain": [
       "<Figure size 1500x400 with 2 Axes>"
      ]
     },
     "metadata": {},
     "output_type": "display_data"
    }
   ],
   "source": [
    "plt.figure(figsize = (15, 4))\n",
    "\n",
    "ax = plt.subplot(1,2,1)\n",
    "plt.plot(history.history['accuracy'])\n",
    "plt.plot(history.history['val_accuracy'])\n",
    "plt.legend(['train', 'val'], loc ='upper left')\n",
    "ax.set(title='RNN accuracy', xlabel = 'epoch', ylabel='accuracy')\n",
    "\n",
    "ax = plt.subplot(1,2,2)\n",
    "plt.plot(history.history['loss'])\n",
    "plt.plot(history.history['val_loss'])\n",
    "plt.legend(['train', 'val'], loc ='upper left')\n",
    "ax.set(title='RNN loss', xlabel = 'epoch', ylabel='loss')\n",
    "\n",
    "plt.show()"
   ]
  },
  {
   "cell_type": "markdown",
   "metadata": {
    "id": "nDWmslUqlJkz"
   },
   "source": [
    "## Оценка на тестовой выборке"
   ]
  },
  {
   "cell_type": "code",
   "execution_count": 20,
   "metadata": {
    "colab": {
     "base_uri": "https://localhost:8080/"
    },
    "id": "9vfkzPbKPYul",
    "outputId": "e34237d2-78a3-4e76-a1b5-6cca0df785c7"
   },
   "outputs": [
    {
     "name": "stdout",
     "output_type": "stream",
     "text": [
      "782/782 [==============================] - 49s 62ms/step - loss: 0.4529 - accuracy: 0.8294\n",
      "82.94%\n"
     ]
    }
   ],
   "source": [
    "test_results=bi_lstm_model.evaluate(test_data)\n",
    "print('{:.2f}%'.format(test_results[1]*100) )"
   ]
  },
  {
   "cell_type": "code",
   "execution_count": null,
   "metadata": {},
   "outputs": [],
   "source": []
  }
 ],
 "metadata": {
  "colab": {
   "provenance": []
  },
  "kernelspec": {
   "display_name": "Python 3 (ipykernel)",
   "language": "python",
   "name": "python3"
  },
  "language_info": {
   "codemirror_mode": {
    "name": "ipython",
    "version": 3
   },
   "file_extension": ".py",
   "mimetype": "text/x-python",
   "name": "python",
   "nbconvert_exporter": "python",
   "pygments_lexer": "ipython3",
   "version": "3.10.11"
  }
 },
 "nbformat": 4,
 "nbformat_minor": 4
}
