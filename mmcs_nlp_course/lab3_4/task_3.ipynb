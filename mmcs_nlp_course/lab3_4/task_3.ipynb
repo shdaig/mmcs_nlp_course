{
 "cells": [
  {
   "cell_type": "markdown",
   "metadata": {
    "id": "-7kHINLaiPiV"
   },
   "source": [
    "# Применение RNN для прогнозирования отношения в рецензиях на фильмы"
   ]
  },
  {
   "cell_type": "markdown",
   "metadata": {
    "id": "eNVLa0B8ieoE"
   },
   "source": [
    "## Подготовка данных"
   ]
  },
  {
   "cell_type": "code",
   "execution_count": null,
   "metadata": {
    "id": "bGNEvlXPiyZy"
   },
   "outputs": [],
   "source": [
    "import tensorflow as tf\n",
    "import tensorflow_datasets as tfds\n",
    "import numpy as np\n",
    "import pandas as pd\n",
    "\n",
    "df = pd.read_csv('movie_data.csv', encoding='utf-8')"
   ]
  },
  {
   "cell_type": "markdown",
   "metadata": {
    "id": "WYywEod0i0T4"
   },
   "source": [
    "**Шаг 1:** создание набора данных."
   ]
  },
  {
   "cell_type": "code",
   "execution_count": null,
   "metadata": {
    "colab": {
     "base_uri": "https://localhost:8080/"
    },
    "id": "AWuEcr7O9rY9",
    "outputId": "f60a504f-4a46-4ca4-9b1c-4d3e1fe8ae6a"
   },
   "outputs": [
    {
     "name": "stdout",
     "output_type": "stream",
     "text": [
      "b'I went and saw this movie last night after being c' 1\n",
      "b'Actor turned director Bill Paxton follows up his p' 1\n",
      "b'As a recreational golfer with some knowledge of th' 1\n"
     ]
    }
   ],
   "source": [
    "target = df.pop('sentiment')\n",
    "ds_raw = tf.data.Dataset.from_tensor_slices((df.values, target.values))\n",
    "# инспектирование:\n",
    "for ex in ds_raw.take(3):\n",
    "  tf.print(ex[0].numpy()[0][:50], ex[1])"
   ]
  },
  {
   "cell_type": "code",
   "execution_count": null,
   "metadata": {
    "id": "Z2OMWhNH_88R"
   },
   "outputs": [],
   "source": [
    "tf.random.set_seed(1)\n",
    "ds_raw = ds_raw.shuffle(50000, reshuffle_each_iteration=False)\n",
    "\n",
    "ds_raw_test = ds_raw.take(25000)\n",
    "ds_raw_train_valid = ds_raw.skip(25000)\n",
    "ds_raw_train = ds_raw_train_valid.take(20000)\n",
    "ds_raw_valid = ds_raw_train_valid.skip(20000)"
   ]
  },
  {
   "cell_type": "markdown",
   "metadata": {
    "id": "iz_nJZhSi_fc"
   },
   "source": [
    "**Шаг 2:** нахождение уникальных лексем (слов)"
   ]
  },
  {
   "cell_type": "code",
   "execution_count": null,
   "metadata": {
    "colab": {
     "base_uri": "https://localhost:8080/"
    },
    "id": "AnHCg-1-AwxV",
    "outputId": "d77d002f-ffd7-4913-a8bf-9af516dda898"
   },
   "outputs": [
    {
     "name": "stdout",
     "output_type": "stream",
     "text": [
      ".размер словаря:  87531\n"
     ]
    }
   ],
   "source": [
    "from collections import Counter\n",
    "\n",
    "tokenizer = tfds.deprecated.text.Tokenizer()\n",
    "token_counts = Counter()\n",
    "\n",
    "for example in ds_raw_train:\n",
    "  tokens = tokenizer.tokenize(example[0].numpy()[0])\n",
    "  token_counts.update(tokens)\n",
    "\n",
    "print('.размер словаря: ', len(token_counts))"
   ]
  },
  {
   "cell_type": "markdown",
   "metadata": {
    "id": "_uYYlATejL3X"
   },
   "source": [
    "**Шаг 3:** кодирование уникальных лексем в виде целых чисел"
   ]
  },
  {
   "cell_type": "code",
   "execution_count": null,
   "metadata": {
    "colab": {
     "base_uri": "https://localhost:8080/"
    },
    "id": "qKkGy6l8ByyV",
    "outputId": "5df85199-53d4-4165-ba80-1ef631366bb8"
   },
   "outputs": [
    {
     "name": "stdout",
     "output_type": "stream",
     "text": [
      "[203, 53, 164, 846]\n"
     ]
    }
   ],
   "source": [
    "encoder = tfds.deprecated.text.TokenTextEncoder(token_counts)\n",
    "example_str = 'This is an example!'\n",
    "print(encoder.encode(example_str))"
   ]
  },
  {
   "cell_type": "markdown",
   "metadata": {
    "id": "ya-V3fA9jXPM"
   },
   "source": [
    "**Шаг 3-A:** определение функций для трансформации"
   ]
  },
  {
   "cell_type": "code",
   "execution_count": null,
   "metadata": {
    "id": "oyH4Jdb5DZkP"
   },
   "outputs": [],
   "source": [
    "def encode(text_tensor, label):\n",
    "  text = text_tensor.numpy()[0]\n",
    "  encoded_text = encoder.encode(text)\n",
    "  return encoded_text, label"
   ]
  },
  {
   "cell_type": "markdown",
   "metadata": {
    "id": "8iLFajSZjfMo"
   },
   "source": [
    "**Шаг 3-Б:** помещение функции encode внутрь операции TensorFlow"
   ]
  },
  {
   "cell_type": "code",
   "execution_count": null,
   "metadata": {
    "id": "fNbom_BxD1r2"
   },
   "outputs": [],
   "source": [
    "def encode_map_fn(text, label):\n",
    "  return tf.py_function(encode, inp=[text, label], Tout=(tf.int64, tf.int64))\n",
    "\n",
    "ds_train = ds_raw_train.map(encode_map_fn)\n",
    "ds_valid = ds_raw_valid.map(encode_map_fn)\n",
    "ds_test = ds_raw_test.map(encode_map_fn)"
   ]
  },
  {
   "cell_type": "markdown",
   "metadata": {
    "id": "kWuqeszCjsHx"
   },
   "source": [
    "Просмотр формы ряда образцов:"
   ]
  },
  {
   "cell_type": "code",
   "execution_count": null,
   "metadata": {
    "colab": {
     "base_uri": "https://localhost:8080/"
    },
    "id": "nSfP08RSEv2v",
    "outputId": "04234895-671c-403f-f652-e050def4e70f"
   },
   "outputs": [
    {
     "name": "stdout",
     "output_type": "stream",
     "text": [
      "Длина последовательности:  (70,)\n",
      "Длина последовательности:  (256,)\n",
      "Длина последовательности:  (203,)\n",
      "Длина последовательности:  (150,)\n",
      "Длина последовательности:  (74,)\n"
     ]
    }
   ],
   "source": [
    "tf.random.set_seed(1)\n",
    "for example in ds_train.shuffle(1000).take(5):\n",
    "  print('Длина последовательности: ', example[0].shape)"
   ]
  },
  {
   "cell_type": "markdown",
   "metadata": {
    "id": "OjCY74lmj8r2"
   },
   "source": [
    "## Разделение на пакеты"
   ]
  },
  {
   "cell_type": "markdown",
   "metadata": {
    "id": "xTKx2Ia1kF_E"
   },
   "source": [
    "Извлечение небольшого поднабора:"
   ]
  },
  {
   "cell_type": "code",
   "execution_count": null,
   "metadata": {
    "colab": {
     "base_uri": "https://localhost:8080/"
    },
    "id": "JkvsOglYFm20",
    "outputId": "c74a4711-a4a7-487d-92f0-b14918079453"
   },
   "outputs": [
    {
     "name": "stdout",
     "output_type": "stream",
     "text": [
      "Размер индивидуального элемента:  (193,)\n",
      "Размер индивидуального элемента:  (182,)\n",
      "Размер индивидуального элемента:  (288,)\n",
      "Размер индивидуального элемента:  (57,)\n",
      "Размер индивидуального элемента:  (256,)\n",
      "Размер индивидуального элемента:  (96,)\n",
      "Размер индивидуального элемента:  (27,)\n",
      "Размер индивидуального элемента:  (345,)\n"
     ]
    }
   ],
   "source": [
    "ds_subset = ds_train.take(8)\n",
    "for example in ds_subset:\n",
    "  print('Размер индивидуального элемента: ', example[0].shape)"
   ]
  },
  {
   "cell_type": "markdown",
   "metadata": {
    "id": "lo7uHkrkkMXP"
   },
   "source": [
    "Разделение поднабора на пакеты:"
   ]
  },
  {
   "cell_type": "code",
   "execution_count": null,
   "metadata": {
    "colab": {
     "base_uri": "https://localhost:8080/"
    },
    "id": "Uzdn-VfpGVl2",
    "outputId": "d33f05c8-4763-42e1-daa4-c61d369a7a13"
   },
   "outputs": [
    {
     "name": "stdout",
     "output_type": "stream",
     "text": [
      "Размерность пакета:  (4, 288)\n",
      "Размерность пакета:  (4, 345)\n"
     ]
    }
   ],
   "source": [
    "ds_batched = ds_subset.padded_batch(4, padded_shapes=([-1], []))\n",
    "for batch in ds_batched:\n",
    "  print('Размерность пакета: ', batch[0].shape)"
   ]
  },
  {
   "cell_type": "code",
   "execution_count": null,
   "metadata": {
    "id": "dSv6kDuvG3fo"
   },
   "outputs": [],
   "source": [
    "train_data = ds_train.padded_batch(32, padded_shapes=([-1], []))\n",
    "valid_data = ds_valid.padded_batch(32, padded_shapes=([-1], []))\n",
    "test_data = ds_test.padded_batch(32, padded_shapes=([-1], []))"
   ]
  },
  {
   "cell_type": "markdown",
   "metadata": {
    "id": "lR4soAEHHsSJ"
   },
   "source": [
    "## Слои вложений для кодирования предложений"
   ]
  },
  {
   "cell_type": "code",
   "execution_count": null,
   "metadata": {
    "colab": {
     "base_uri": "https://localhost:8080/"
    },
    "id": "ex8pVhVsHlDN",
    "outputId": "984d2b7b-90f0-4ea8-aeef-64d2edbca2c8"
   },
   "outputs": [
    {
     "name": "stdout",
     "output_type": "stream",
     "text": [
      "Model: \"sequential_1\"\n",
      "_________________________________________________________________\n",
      " Layer (type)                Output Shape              Param #   \n",
      "=================================================================\n",
      " embed-layer (Embedding)     (None, 20, 6)             600       \n",
      "                                                                 \n",
      "=================================================================\n",
      "Total params: 600\n",
      "Trainable params: 600\n",
      "Non-trainable params: 0\n",
      "_________________________________________________________________\n"
     ]
    }
   ],
   "source": [
    "from unicodedata import name\n",
    "#example with Слои вложений\n",
    "from tensorflow import keras\n",
    "from keras import layers\n",
    "from keras.layers import Embedding\n",
    "model = tf.keras.Sequential()\n",
    "model.add(Embedding(input_dim=100,\n",
    "                    output_dim=6,\n",
    "                    input_length=20,\n",
    "                    name='embed-layer'))\n",
    "model.summary()"
   ]
  },
  {
   "cell_type": "markdown",
   "metadata": {
    "id": "Z8NtPFDiL0p2"
   },
   "source": [
    "## Построение модели"
   ]
  },
  {
   "cell_type": "code",
   "execution_count": null,
   "metadata": {
    "colab": {
     "base_uri": "https://localhost:8080/"
    },
    "id": "9WUZomb-LR2z",
    "outputId": "4764f391-d02f-425d-c1d8-1a3955d7b3b3"
   },
   "outputs": [
    {
     "name": "stdout",
     "output_type": "stream",
     "text": [
      "Model: \"sequential_3\"\n",
      "_________________________________________________________________\n",
      " Layer (type)                Output Shape              Param #   \n",
      "=================================================================\n",
      " embed-layer (Embedding)     (None, None, 20)          1750660   \n",
      "                                                                 \n",
      " bidir-lstm (Bidirectional)  (None, 128)               43520     \n",
      "                                                                 \n",
      " dense_1 (Dense)             (None, 64)                8256      \n",
      "                                                                 \n",
      " dense_2 (Dense)             (None, 1)                 65        \n",
      "                                                                 \n",
      "=================================================================\n",
      "Total params: 1,802,501\n",
      "Trainable params: 1,802,501\n",
      "Non-trainable params: 0\n",
      "_________________________________________________________________\n"
     ]
    }
   ],
   "source": [
    "embedding_dim = 20\n",
    "vocab_size = len(token_counts) +2\n",
    "tf.random.set_seed(1)\n",
    "#построение модели\n",
    "bi_lstm_model = tf.keras.Sequential([\n",
    "    tf.keras.layers.Embedding(\n",
    "        input_dim=vocab_size,\n",
    "        output_dim=embedding_dim,\n",
    "        name='embed-layer'\n",
    "    ),\n",
    "    # помещаем слой LSTM внутрь оболочки Bidirectional \n",
    "    tf.keras.layers.Bidirectional(\n",
    "        tf.keras.layers.LSTM(64, name='lstm-layer'),\n",
    "        name='bidir-lstm'\n",
    "    ),\n",
    "\n",
    "    tf.keras.layers.Dense(64, activation='relu'),\n",
    "\n",
    "    tf.keras.layers.Dense(1, activation='sigmoid')\n",
    "])\n",
    "bi_lstm_model.summary()"
   ]
  },
  {
   "cell_type": "code",
   "execution_count": null,
   "metadata": {
    "id": "OD5U_4djOi38"
   },
   "outputs": [],
   "source": [
    "from keras.engine.training import optimizer\n",
    "#компиляция и обучение\n",
    "bi_lstm_model.compile(\n",
    "    optimizer=tf.keras.optimizers.Adam(1e-3),\n",
    "    loss=tf.keras.losses.BinaryCrossentropy(from_logits=False),\n",
    "    metrics=['accuracy']\n",
    ")"
   ]
  },
  {
   "cell_type": "code",
   "execution_count": null,
   "metadata": {
    "colab": {
     "base_uri": "https://localhost:8080/"
    },
    "id": "adXv6MsZPJd_",
    "outputId": "412195f6-6027-49af-81f4-a6dd2405f7d0"
   },
   "outputs": [
    {
     "name": "stdout",
     "output_type": "stream",
     "text": [
      "Epoch 1/10\n",
      "625/625 [==============================] - 337s 534ms/step - loss: 0.5705 - accuracy: 0.7079 - val_loss: 0.4412 - val_accuracy: 0.8168\n",
      "Epoch 2/10\n",
      "625/625 [==============================] - 333s 533ms/step - loss: 0.3715 - accuracy: 0.8487 - val_loss: 0.5017 - val_accuracy: 0.8130\n",
      "Epoch 3/10\n",
      "625/625 [==============================] - 330s 528ms/step - loss: 0.2307 - accuracy: 0.9169 - val_loss: 0.4004 - val_accuracy: 0.8534\n",
      "Epoch 4/10\n",
      "625/625 [==============================] - 327s 523ms/step - loss: 0.1834 - accuracy: 0.9351 - val_loss: 0.4849 - val_accuracy: 0.8516\n",
      "Epoch 5/10\n",
      "625/625 [==============================] - 330s 528ms/step - loss: 0.0926 - accuracy: 0.9688 - val_loss: 0.5428 - val_accuracy: 0.8676\n",
      "Epoch 6/10\n",
      "625/625 [==============================] - 325s 520ms/step - loss: 0.0433 - accuracy: 0.9873 - val_loss: 0.6232 - val_accuracy: 0.8652\n",
      "Epoch 7/10\n",
      "625/625 [==============================] - 326s 522ms/step - loss: 0.0267 - accuracy: 0.9923 - val_loss: 0.6898 - val_accuracy: 0.8586\n",
      "Epoch 8/10\n",
      "625/625 [==============================] - 325s 521ms/step - loss: 0.0302 - accuracy: 0.9906 - val_loss: 0.6359 - val_accuracy: 0.8518\n",
      "Epoch 9/10\n",
      "625/625 [==============================] - 326s 521ms/step - loss: 0.0241 - accuracy: 0.9929 - val_loss: 0.7769 - val_accuracy: 0.8510\n",
      "Epoch 10/10\n",
      "625/625 [==============================] - 330s 528ms/step - loss: 0.0133 - accuracy: 0.9967 - val_loss: 0.7735 - val_accuracy: 0.8456\n"
     ]
    }
   ],
   "source": [
    "history = bi_lstm_model.fit(\n",
    "    train_data,\n",
    "    validation_data=valid_data,\n",
    "    epochs=10\n",
    ")"
   ]
  },
  {
   "cell_type": "markdown",
   "metadata": {
    "id": "nDWmslUqlJkz"
   },
   "source": [
    "##Оценка на испытательных данных"
   ]
  },
  {
   "cell_type": "code",
   "execution_count": null,
   "metadata": {
    "colab": {
     "base_uri": "https://localhost:8080/"
    },
    "id": "9vfkzPbKPYul",
    "outputId": "e34237d2-78a3-4e76-a1b5-6cca0df785c7"
   },
   "outputs": [
    {
     "name": "stdout",
     "output_type": "stream",
     "text": [
      "782/782 [==============================] - 91s 117ms/step - loss: 0.7998 - accuracy: 0.8415\n",
      "84.15%\n"
     ]
    }
   ],
   "source": [
    "test_results=bi_lstm_model.evaluate(test_data)\n",
    "print('{:.2f}%'.format(test_results[1]*100) )"
   ]
  }
 ],
 "metadata": {
  "colab": {
   "collapsed_sections": [
    "eNVLa0B8ieoE",
    "OjCY74lmj8r2",
    "lR4soAEHHsSJ"
   ],
   "provenance": []
  },
  "kernelspec": {
   "display_name": "Python 3 (ipykernel)",
   "language": "python",
   "name": "python3"
  },
  "language_info": {
   "codemirror_mode": {
    "name": "ipython",
    "version": 3
   },
   "file_extension": ".py",
   "mimetype": "text/x-python",
   "name": "python",
   "nbconvert_exporter": "python",
   "pygments_lexer": "ipython3",
   "version": "3.10.11"
  }
 },
 "nbformat": 4,
 "nbformat_minor": 4
}
