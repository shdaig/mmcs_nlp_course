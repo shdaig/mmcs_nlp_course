{
 "cells": [
  {
   "cell_type": "markdown",
   "id": "f217391f-11ff-48cf-93c7-c8f883e1a853",
   "metadata": {},
   "source": [
    "Шепелев Д."
   ]
  },
  {
   "cell_type": "markdown",
   "id": "18a25643-4c1c-41c2-a0a4-39844b62fe00",
   "metadata": {},
   "source": [
    "# **Применение RNN для прогнозирования отношения в рецензиях на фильмы**"
   ]
  },
  {
   "cell_type": "markdown",
   "id": "e90e6da4-59c5-4ca4-ba7c-cdbbcf2d04ba",
   "metadata": {},
   "source": [
    "## **Импорты**"
   ]
  },
  {
   "cell_type": "code",
   "execution_count": 1,
   "id": "f3363914-32ac-401e-abcc-c6f4bf95a0e3",
   "metadata": {},
   "outputs": [],
   "source": [
    "import warnings\n",
    "warnings.filterwarnings('ignore')"
   ]
  },
  {
   "cell_type": "code",
   "execution_count": 36,
   "id": "331ed63e-2db9-4281-b1ed-22f6b94625c9",
   "metadata": {},
   "outputs": [],
   "source": [
    "import numpy as np\n",
    "import pandas as pd\n",
    "\n",
    "from collections import Counter\n",
    "\n",
    "import tensorflow as tf\n",
    "import tensorflow_datasets as tfds\n",
    "from tensorflow.keras import layers"
   ]
  },
  {
   "cell_type": "markdown",
   "id": "2601f632-8289-4a09-8af3-5cb489ab6711",
   "metadata": {},
   "source": [
    "## **Подгрузка датасета**"
   ]
  },
  {
   "cell_type": "code",
   "execution_count": 6,
   "id": "a2b2219d-385a-46c9-a3aa-5b27f7aea00a",
   "metadata": {},
   "outputs": [],
   "source": [
    "df = pd.read_csv('movie_data.csv', encoding='utf-8')"
   ]
  },
  {
   "cell_type": "code",
   "execution_count": 9,
   "id": "d7a9eb2c-c12c-4109-bfe5-87f8228a831b",
   "metadata": {},
   "outputs": [
    {
     "data": {
      "text/html": [
       "<div>\n",
       "<style scoped>\n",
       "    .dataframe tbody tr th:only-of-type {\n",
       "        vertical-align: middle;\n",
       "    }\n",
       "\n",
       "    .dataframe tbody tr th {\n",
       "        vertical-align: top;\n",
       "    }\n",
       "\n",
       "    .dataframe thead th {\n",
       "        text-align: right;\n",
       "    }\n",
       "</style>\n",
       "<table border=\"1\" class=\"dataframe\">\n",
       "  <thead>\n",
       "    <tr style=\"text-align: right;\">\n",
       "      <th></th>\n",
       "      <th>review</th>\n",
       "      <th>sentiment</th>\n",
       "    </tr>\n",
       "  </thead>\n",
       "  <tbody>\n",
       "    <tr>\n",
       "      <th>0</th>\n",
       "      <td>In 1974, the teenager Martha Moxley (Maggie Gr...</td>\n",
       "      <td>1</td>\n",
       "    </tr>\n",
       "    <tr>\n",
       "      <th>1</th>\n",
       "      <td>OK... so... I really like Kris Kristofferson a...</td>\n",
       "      <td>0</td>\n",
       "    </tr>\n",
       "    <tr>\n",
       "      <th>2</th>\n",
       "      <td>***SPOILER*** Do not read this, if you think a...</td>\n",
       "      <td>0</td>\n",
       "    </tr>\n",
       "  </tbody>\n",
       "</table>\n",
       "</div>"
      ],
      "text/plain": [
       "                                              review  sentiment\n",
       "0  In 1974, the teenager Martha Moxley (Maggie Gr...          1\n",
       "1  OK... so... I really like Kris Kristofferson a...          0\n",
       "2  ***SPOILER*** Do not read this, if you think a...          0"
      ]
     },
     "execution_count": 9,
     "metadata": {},
     "output_type": "execute_result"
    }
   ],
   "source": [
    "df.head(3)"
   ]
  },
  {
   "cell_type": "markdown",
   "id": "a94c84fc-32a6-4ed5-b9f7-f7eaf9c8be1f",
   "metadata": {},
   "source": [
    "## **Подготовка данных**"
   ]
  },
  {
   "cell_type": "markdown",
   "id": "3c3edabd-9bc4-49ff-8da9-48da21a2b717",
   "metadata": {},
   "source": [
    "### Формирование датасета"
   ]
  },
  {
   "cell_type": "code",
   "execution_count": 10,
   "id": "00e339ed-4448-4dc7-b322-287cd80a6a2b",
   "metadata": {},
   "outputs": [
    {
     "name": "stdout",
     "output_type": "stream",
     "text": [
      "b'In 1974, the teenager Martha Moxley (Maggie Grace)' 1\n",
      "b'OK... so... I really like Kris Kristofferson and h' 0\n",
      "b'***SPOILER*** Do not read this, if you think about' 0\n"
     ]
    },
    {
     "name": "stderr",
     "output_type": "stream",
     "text": [
      "2023-05-31 21:36:55.408769: E tensorflow/compiler/xla/stream_executor/cuda/cuda_driver.cc:267] failed call to cuInit: CUDA_ERROR_UNKNOWN: unknown error\n",
      "2023-05-31 21:36:55.408804: I tensorflow/compiler/xla/stream_executor/cuda/cuda_diagnostics.cc:169] retrieving CUDA diagnostic information for host: Proton\n",
      "2023-05-31 21:36:55.408813: I tensorflow/compiler/xla/stream_executor/cuda/cuda_diagnostics.cc:176] hostname: Proton\n",
      "2023-05-31 21:36:55.408891: I tensorflow/compiler/xla/stream_executor/cuda/cuda_diagnostics.cc:200] libcuda reported version is: 525.105.17\n",
      "2023-05-31 21:36:55.408913: I tensorflow/compiler/xla/stream_executor/cuda/cuda_diagnostics.cc:204] kernel reported version is: 525.105.17\n",
      "2023-05-31 21:36:55.408918: I tensorflow/compiler/xla/stream_executor/cuda/cuda_diagnostics.cc:310] kernel version seems to match DSO: 525.105.17\n",
      "2023-05-31 21:36:55.410408: I tensorflow/core/platform/cpu_feature_guard.cc:193] This TensorFlow binary is optimized with oneAPI Deep Neural Network Library (oneDNN) to use the following CPU instructions in performance-critical operations:  AVX2 FMA\n",
      "To enable them in other operations, rebuild TensorFlow with the appropriate compiler flags.\n"
     ]
    }
   ],
   "source": [
    "target = df.pop('sentiment')\n",
    "ds_raw = tf.data.Dataset.from_tensor_slices((df.values, target.values))\n",
    "\n",
    "for ex in ds_raw.take(3):\n",
    "    tf.print(ex[0].numpy()[0][:50], ex[1])"
   ]
  },
  {
   "cell_type": "code",
   "execution_count": 17,
   "id": "6637382b-3e0b-477d-acae-ca85429b7d43",
   "metadata": {},
   "outputs": [],
   "source": [
    "tf.random.set_seed(42)\n",
    "ds_raw = ds_raw.shuffle(50000, reshuffle_each_iteration=False)\n",
    "\n",
    "ds_raw_test = ds_raw.take(25000)\n",
    "ds_raw_train_val = ds_raw.skip(25000)\n",
    "ds_raw_train = ds_raw_train_val.take(20000)\n",
    "ds_raw_val = ds_raw_train_val.skip(20000)"
   ]
  },
  {
   "cell_type": "markdown",
   "id": "b08ae9a4-b1bf-495e-9cb7-3140d821dabc",
   "metadata": {},
   "source": [
    "### Поиск уникальных лексем"
   ]
  },
  {
   "cell_type": "code",
   "execution_count": 18,
   "id": "93e55d37-bcc3-4ef4-8264-8a6b39f9d295",
   "metadata": {},
   "outputs": [],
   "source": [
    "tokenizer = tfds.deprecated.text.Tokenizer()\n",
    "token_counts = Counter()"
   ]
  },
  {
   "cell_type": "code",
   "execution_count": 19,
   "id": "85ede343-dd62-47ed-897f-cc84a62c9b95",
   "metadata": {},
   "outputs": [],
   "source": [
    "for example in ds_raw_train:\n",
    "    tokens = tokenizer.tokenize(example[0].numpy()[0])\n",
    "    token_counts.update(tokens)"
   ]
  },
  {
   "cell_type": "code",
   "execution_count": 20,
   "id": "fdf7f371-cac7-4a43-af54-92ec0f405256",
   "metadata": {},
   "outputs": [
    {
     "name": "stdout",
     "output_type": "stream",
     "text": [
      "Размер словаря:  87136\n"
     ]
    }
   ],
   "source": [
    "print('Размер словаря: ', len(token_counts))"
   ]
  },
  {
   "cell_type": "markdown",
   "id": "372e6e0f-c755-4c0f-bc5f-54751b66a90a",
   "metadata": {},
   "source": [
    "### Кодирование уникальных лексем в виде целых чисел"
   ]
  },
  {
   "cell_type": "code",
   "execution_count": 21,
   "id": "e10dd6d0-5fc1-42ae-82e2-0bb0445c1299",
   "metadata": {},
   "outputs": [],
   "source": [
    "encoder = tfds.deprecated.text.TokenTextEncoder(token_counts)"
   ]
  },
  {
   "cell_type": "code",
   "execution_count": 22,
   "id": "504b3890-0fbc-445f-8de5-1a318cd21719",
   "metadata": {},
   "outputs": [],
   "source": [
    "def encode(text_tensor, label):\n",
    "    text = text_tensor.numpy()[0]\n",
    "    encoded_text = encoder.encode(text)\n",
    "    return encoded_text, label"
   ]
  },
  {
   "cell_type": "code",
   "execution_count": 24,
   "id": "53de4601-f90d-40e5-9ca3-addc39f6d1e5",
   "metadata": {},
   "outputs": [],
   "source": [
    "def encode_map_fn(text, label):\n",
    "    return tf.py_function(encode, inp=[text, label],\n",
    "                        Tout = (tf.int64, tf.int64))"
   ]
  },
  {
   "cell_type": "code",
   "execution_count": 27,
   "id": "9034826d-efe4-4beb-a9bc-7b71c195f747",
   "metadata": {},
   "outputs": [],
   "source": [
    "ds_train = ds_raw_train.map(encode_map_fn)\n",
    "ds_val = ds_raw_val.map(encode_map_fn)\n",
    "ds_test = ds_raw_test.map(encode_map_fn)"
   ]
  },
  {
   "cell_type": "code",
   "execution_count": 28,
   "id": "ad369214-b391-4227-a136-965994b6d16c",
   "metadata": {},
   "outputs": [
    {
     "name": "stdout",
     "output_type": "stream",
     "text": [
      "Длина последовательности: (179,)\n",
      "Длина последовательности: (298,)\n",
      "Длина последовательности: (95,)\n",
      "Длина последовательности: (123,)\n",
      "Длина последовательности: (45,)\n"
     ]
    }
   ],
   "source": [
    "tf.random.set_seed(42)\n",
    "\n",
    "for example in ds_train.shuffle(1000).take(5):\n",
    "    print(f'Длина последовательности: {example[0].shape}')"
   ]
  },
  {
   "cell_type": "markdown",
   "id": "94bf2372-5db9-462f-a80c-e84a01a047c1",
   "metadata": {},
   "source": [
    "## **Разделение на пакеты**"
   ]
  },
  {
   "cell_type": "code",
   "execution_count": 29,
   "id": "129aa7b4-5bb7-4f9a-8e41-497fabc7567a",
   "metadata": {},
   "outputs": [
    {
     "name": "stdout",
     "output_type": "stream",
     "text": [
      "Размер индивидуального элемента:  (99,)\n",
      "Размер индивидуального элемента:  (149,)\n",
      "Размер индивидуального элемента:  (278,)\n",
      "Размер индивидуального элемента:  (139,)\n",
      "Размер индивидуального элемента:  (174,)\n",
      "Размер индивидуального элемента:  (106,)\n",
      "Размер индивидуального элемента:  (77,)\n",
      "Размер индивидуального элемента:  (523,)\n"
     ]
    }
   ],
   "source": [
    "ds_subset = ds_train.take(8)\n",
    "for example in ds_subset:\n",
    "    print('Размер индивидуального элемента: ', example[0].shape)"
   ]
  },
  {
   "cell_type": "code",
   "execution_count": 30,
   "id": "7d23135d-4a5c-4162-bd72-51dde5aa3afc",
   "metadata": {},
   "outputs": [
    {
     "name": "stdout",
     "output_type": "stream",
     "text": [
      "Размерность пакета:  (4, 278)\n",
      "Размерность пакета:  (4, 523)\n"
     ]
    }
   ],
   "source": [
    "ds_batched = ds_subset.padded_batch(\n",
    "    4, padded_shapes=([-1], [])\n",
    ")\n",
    "for batch in ds_batched:\n",
    "    print('Размерность пакета: ', batch[0].shape)"
   ]
  },
  {
   "cell_type": "code",
   "execution_count": 32,
   "id": "63458be7-1327-4e21-95a5-48e9c5259b65",
   "metadata": {},
   "outputs": [],
   "source": [
    "train_data = ds_train.padded_batch(32, padded_shapes=([-1], []))\n",
    "valid_data = ds_val.padded_batch(32, padded_shapes=([-1], []))\n",
    "test_data = ds_test.padded_batch(32, padded_shapes=([-1], []))"
   ]
  },
  {
   "cell_type": "code",
   "execution_count": 33,
   "id": "e974535c-89ec-4fa7-9f3e-1d696d0e12ba",
   "metadata": {},
   "outputs": [
    {
     "name": "stdout",
     "output_type": "stream",
     "text": [
      "Размерность пакета:  (32, 821)\n",
      "Размерность пакета:  (32, 729)\n",
      "Размерность пакета:  (32, 1043)\n",
      "Размерность пакета:  (32, 704)\n",
      "Размерность пакета:  (32, 509)\n"
     ]
    }
   ],
   "source": [
    "for batch in train_data.take(5):\n",
    "    print('Размерность пакета: ', batch[0].shape)"
   ]
  },
  {
   "cell_type": "markdown",
   "id": "ff808b75-4879-46ef-b69e-53d6cf7133e8",
   "metadata": {},
   "source": [
    "## **Разработка модели**"
   ]
  },
  {
   "cell_type": "code",
   "execution_count": 37,
   "id": "ba02ea25-c87a-4eac-bdec-f235b24fa072",
   "metadata": {},
   "outputs": [
    {
     "name": "stdout",
     "output_type": "stream",
     "text": [
      "Model: \"sequential\"\n",
      "_________________________________________________________________\n",
      " Layer (type)                Output Shape              Param #   \n",
      "=================================================================\n",
      " embed_layer (Embedding)     (None, None, 20)          1742760   \n",
      "                                                                 \n",
      " bidir-lstm (Bidirectional)  (None, 128)               43520     \n",
      "                                                                 \n",
      " dense (Dense)               (None, 64)                8256      \n",
      "                                                                 \n",
      " dense_1 (Dense)             (None, 1)                 65        \n",
      "                                                                 \n",
      "=================================================================\n",
      "Total params: 1,794,601\n",
      "Trainable params: 1,794,601\n",
      "Non-trainable params: 0\n",
      "_________________________________________________________________\n"
     ]
    }
   ],
   "source": [
    "embedding_dim=20\n",
    "vocab_size = len(token_counts) + 2\n",
    "\n",
    "tf.random.set_seed(42)\n",
    "\n",
    "bi_lstm_model = tf.keras.Sequential([\n",
    "    layers.Embedding(input_dim=vocab_size,\n",
    "                     output_dim=embedding_dim,\n",
    "                     name='embed_layer'), \n",
    "    layers.Bidirectional(\n",
    "        layers.LSTM(64, name='lstm_layer'),\n",
    "        name='bidir-lstm'),\n",
    "    layers.Dense(64, activation='relu'),\n",
    "    layers.Dense(1, activation='sigmoid')\n",
    "])\n",
    "\n",
    "bi_lstm_model.summary()"
   ]
  },
  {
   "cell_type": "markdown",
   "id": "a11d689f-854c-43de-87a3-55aeabd197cd",
   "metadata": {},
   "source": [
    "**Компиляция модели (определения оптимизатора и функции потерь)**"
   ]
  },
  {
   "cell_type": "code",
   "execution_count": 38,
   "id": "74e5bf55-8f11-4425-84b3-d475f6ee264c",
   "metadata": {},
   "outputs": [],
   "source": [
    "bi_lstm_model.compile(\n",
    "    optimizer=tf.keras.optimizers.Adam(1e-3),\n",
    "    loss=tf.keras.losses.BinaryCrossentropy(from_logits=False),\n",
    "    metrics=['accuracy']\n",
    ")"
   ]
  },
  {
   "cell_type": "markdown",
   "id": "31bbcdf5-bfbb-4030-88c3-977b6ef5185c",
   "metadata": {},
   "source": [
    "## **Обучение**"
   ]
  },
  {
   "cell_type": "code",
   "execution_count": 39,
   "id": "187a38ab-6a20-432f-a139-d3425f1756e5",
   "metadata": {},
   "outputs": [
    {
     "name": "stdout",
     "output_type": "stream",
     "text": [
      "Epoch 1/5\n",
      "625/625 [==============================] - 143s 226ms/step - loss: 0.6518 - accuracy: 0.6069 - val_loss: 0.6910 - val_accuracy: 0.4956\n",
      "Epoch 2/5\n",
      "625/625 [==============================] - 141s 226ms/step - loss: 0.5827 - accuracy: 0.6863 - val_loss: 0.5199 - val_accuracy: 0.7206\n",
      "Epoch 3/5\n",
      "625/625 [==============================] - 146s 233ms/step - loss: 0.3783 - accuracy: 0.8462 - val_loss: 0.4542 - val_accuracy: 0.8066\n",
      "Epoch 4/5\n",
      "625/625 [==============================] - 144s 231ms/step - loss: 0.2280 - accuracy: 0.9171 - val_loss: 0.4201 - val_accuracy: 0.8338\n",
      "Epoch 5/5\n",
      "625/625 [==============================] - 143s 229ms/step - loss: 0.1265 - accuracy: 0.9590 - val_loss: 0.4659 - val_accuracy: 0.8324\n"
     ]
    }
   ],
   "source": [
    "history = bi_lstm_model.fit(\n",
    "    train_data,\n",
    "    validation_data=valid_data,\n",
    "    epochs=5)"
   ]
  },
  {
   "cell_type": "markdown",
   "id": "5c53eeb5-fbb9-4f03-a965-b7a7fda53e84",
   "metadata": {},
   "source": [
    "## **Оценка на тестовой выборке**"
   ]
  },
  {
   "cell_type": "code",
   "execution_count": 40,
   "id": "f9bd618c-6d60-4528-8af5-fac8078d2e27",
   "metadata": {},
   "outputs": [
    {
     "name": "stdout",
     "output_type": "stream",
     "text": [
      "782/782 [==============================] - 48s 61ms/step - loss: 0.4676 - accuracy: 0.8331\n",
      "83.31%\n"
     ]
    }
   ],
   "source": [
    "test_results = bi_lstm_model.evaluate(test_data)\n",
    "print('{:.2f}%'.format(test_results[1] * 100))"
   ]
  },
  {
   "cell_type": "code",
   "execution_count": null,
   "id": "978271c0-8c52-4d4f-bc45-4df590375629",
   "metadata": {},
   "outputs": [],
   "source": []
  }
 ],
 "metadata": {
  "kernelspec": {
   "display_name": "Python 3 (ipykernel)",
   "language": "python",
   "name": "python3"
  },
  "language_info": {
   "codemirror_mode": {
    "name": "ipython",
    "version": 3
   },
   "file_extension": ".py",
   "mimetype": "text/x-python",
   "name": "python",
   "nbconvert_exporter": "python",
   "pygments_lexer": "ipython3",
   "version": "3.10.11"
  }
 },
 "nbformat": 4,
 "nbformat_minor": 5
}
