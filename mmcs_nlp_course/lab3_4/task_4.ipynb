{
 "cells": [
  {
   "cell_type": "markdown",
   "metadata": {
    "id": "VEJ0ZEuzc50_"
   },
   "source": [
    "# Моделирование языка на уровне символов"
   ]
  },
  {
   "cell_type": "markdown",
   "metadata": {
    "id": "K0W6f2NddHS0"
   },
   "source": [
    "**В качестве входных данных я выбрал текст книги \"451 градус по фаренгейту\", который сохранил в .txt-формате**"
   ]
  },
  {
   "cell_type": "code",
   "execution_count": 32,
   "metadata": {
    "colab": {
     "base_uri": "https://localhost:8080/"
    },
    "id": "5ePE7lAHc8Fp",
    "outputId": "7a2f2356-f3fc-4469-8015-f1e11498567d"
   },
   "outputs": [
    {
     "name": "stdout",
     "output_type": "stream",
     "text": [
      "Общая длина:  431300\n",
      "Уникальные символы:  99\n"
     ]
    }
   ],
   "source": [
    "\n",
    "\n",
    "#Чтение и обработка текста\n",
    "with open('61168.txt', 'r') as fp:\n",
    "  text = fp.read()\n",
    "\n",
    "start_indx = text.find('The Man in the Brown Suit')\n",
    "end_indx = text.find('End of the Project Gutenberg')\n",
    "text = text[start_indx:end_indx]\n",
    "char_set = set(text)\n",
    "print('Общая длина: ', len(text))\n",
    "print('Уникальные символы: ', len(char_set))"
   ]
  },
  {
   "cell_type": "markdown",
   "metadata": {
    "id": "8wP83u-81xYv"
   },
   "source": [
    "##Построение словаря с использованием массива NumPy"
   ]
  },
  {
   "cell_type": "code",
   "execution_count": 3,
   "metadata": {
    "id": "YtUuRmq0wbE1"
   },
   "outputs": [],
   "source": [
    "chars_sorted = sorted(char_set)\n",
    "char2int = {ch: i for i, ch in enumerate(chars_sorted)}\n",
    "char_array = np.array(chars_sorted)"
   ]
  },
  {
   "cell_type": "code",
   "execution_count": 4,
   "metadata": {
    "id": "CvugBb2X0YK9"
   },
   "outputs": [],
   "source": [
    "text_encoded = np.array([char2int[ch] for ch in text], dtype = np.int32)"
   ]
  },
  {
   "cell_type": "code",
   "execution_count": 5,
   "metadata": {
    "colab": {
     "base_uri": "https://localhost:8080/"
    },
    "id": "nBwkBi0c0qlc",
    "outputId": "ea81813d-166a-4c4f-c46e-245657d6febc"
   },
   "outputs": [
    {
     "name": "stdout",
     "output_type": "stream",
     "text": [
      "Форма закодированного текста:  (431300,)\n",
      "The Man in the  == Кодирование ==> [48 65 62  1 41 58 71  1 66 71  1 77 65 62  1]\n",
      "[30 75 72 80 71  1] == Обратное кодирование ==> Brown \n"
     ]
    }
   ],
   "source": [
    "print('Форма закодированного текста: ', text_encoded.shape)\n",
    "print(text[:15], '== Кодирование ==>', text_encoded[:15])\n",
    "print(text_encoded[15:21], '== Обратное кодирование ==>', ''.join(char_array[text_encoded[15:21]]))"
   ]
  },
  {
   "cell_type": "markdown",
   "metadata": {
    "id": "1ThOkext13W7"
   },
   "source": [
    "## Создание из массива NumPy набора данных TensorFlow"
   ]
  },
  {
   "cell_type": "code",
   "execution_count": 6,
   "metadata": {
    "id": "BfoneJ8G2ATq"
   },
   "outputs": [],
   "source": [
    "import tensorflow as tf\n",
    "\n",
    "ds_text_encoded = tf.data.Dataset.from_tensor_slices(text_encoded)"
   ]
  },
  {
   "cell_type": "code",
   "execution_count": 7,
   "metadata": {
    "colab": {
     "base_uri": "https://localhost:8080/"
    },
    "id": "MZC39CbV2S4a",
    "outputId": "ea3c3fd6-ad78-4798-cb6c-8e4dcd5b487e"
   },
   "outputs": [
    {
     "name": "stdout",
     "output_type": "stream",
     "text": [
      "48 -> T\n",
      "65 -> h\n",
      "62 -> e\n",
      "1 ->  \n",
      "41 -> M\n"
     ]
    }
   ],
   "source": [
    "for ex in ds_text_encoded.take(5):\n",
    "  print('{} -> {}'.format(ex.numpy(), char_array[ex.numpy()]))"
   ]
  },
  {
   "cell_type": "markdown",
   "metadata": {
    "id": "i8b0XsWa2twP"
   },
   "source": [
    "## Получение входа х и цели у"
   ]
  },
  {
   "cell_type": "code",
   "execution_count": 8,
   "metadata": {
    "id": "kbLEYPYV2zdO"
   },
   "outputs": [],
   "source": [
    "seq_length = 40\n",
    "chunk_size = seq_length + 1"
   ]
  },
  {
   "cell_type": "code",
   "execution_count": 9,
   "metadata": {
    "id": "_dU3b-9e3FNr"
   },
   "outputs": [],
   "source": [
    "ds_chunks = ds_text_encoded.batch(chunk_size, drop_remainder=True)"
   ]
  },
  {
   "cell_type": "code",
   "execution_count": 10,
   "metadata": {
    "id": "3s4AUf603TTm"
   },
   "outputs": [],
   "source": [
    "from tensorflow.python.ops.gen_array_ops import split\n",
    "#Определение функции для разделения х и у\n",
    "def split_input_target(chunk):\n",
    "  input_seq = chunk[:-1]\n",
    "  target_seq = chunk[1:]\n",
    "  return input_seq, target_seq\n",
    "\n",
    "ds_sequences = ds_chunks.map(split_input_target)"
   ]
  },
  {
   "cell_type": "code",
   "execution_count": 11,
   "metadata": {
    "colab": {
     "base_uri": "https://localhost:8080/"
    },
    "id": "WYbi6MRC4FAh",
    "outputId": "fd54cf1b-d078-4ce5-b4bc-4067fcca628a"
   },
   "outputs": [
    {
     "name": "stdout",
     "output_type": "stream",
     "text": [
      "Вход (х):  'The Man in the Brown Suit, by Agatha Chr'\n",
      "Цель (у):  'he Man in the Brown Suit, by Agatha Chri'\n",
      "\n",
      "Вход (х):  'stie\\n\\nThis eBook is for the use of anyon'\n",
      "Цель (у):  'tie\\n\\nThis eBook is for the use of anyone'\n",
      "\n"
     ]
    }
   ],
   "source": [
    "for example in ds_sequences.take(2):\n",
    "  print('Вход (х): ', repr(''.join(char_array[example[0].numpy()])))\n",
    "  print('Цель (у): ', repr(''.join(char_array[example[1].numpy()])))\n",
    "  print()"
   ]
  },
  {
   "cell_type": "markdown",
   "metadata": {
    "id": "5FGW7NXg4v8c"
   },
   "source": [
    "## Разделение на мини-пакеты"
   ]
  },
  {
   "cell_type": "code",
   "execution_count": 12,
   "metadata": {
    "id": "_8M83lK1408O"
   },
   "outputs": [],
   "source": [
    "BATCH_SIZE = 64\n",
    "BUFER_SIZE = 10000\n",
    "ds = ds_sequences.shuffle(BUFER_SIZE).batch(BATCH_SIZE)"
   ]
  },
  {
   "cell_type": "markdown",
   "metadata": {
    "id": "DfTQPe1w5RvZ"
   },
   "source": [
    "## Построение модели на основе RNN"
   ]
  },
  {
   "cell_type": "code",
   "execution_count": 13,
   "metadata": {
    "id": "m52IWtC75YRp"
   },
   "outputs": [],
   "source": [
    "def build_model(vocab_size, embedding_dim, rnn_units):\n",
    "  model = tf.keras.Sequential([\n",
    "      tf.keras.layers.Embedding(vocab_size, embedding_dim),\n",
    "      tf.keras.layers.LSTM(\n",
    "          rnn_units,\n",
    "          return_sequences=True),\n",
    "      tf.keras.layers.Dense(vocab_size)\n",
    "  ])\n",
    "  return model"
   ]
  },
  {
   "cell_type": "markdown",
   "metadata": {
    "id": "Boe-xpLq6Mye"
   },
   "source": [
    "## Установка параметров обучения"
   ]
  },
  {
   "cell_type": "code",
   "execution_count": 14,
   "metadata": {
    "id": "uOv2PKKV6T4M"
   },
   "outputs": [],
   "source": [
    "charset_size = len(char_array)\n",
    "embedding_dim = 256\n",
    "rnn_units = 512\n",
    "\n",
    "tf.random.set_seed(1)\n",
    "model = build_model(\n",
    "    vocab_size=charset_size,\n",
    "    embedding_dim=embedding_dim,\n",
    "    rnn_units=rnn_units\n",
    ")"
   ]
  },
  {
   "cell_type": "markdown",
   "metadata": {
    "id": "eV8LqGYx6-JH"
   },
   "source": [
    "## Сводное представление модели"
   ]
  },
  {
   "cell_type": "code",
   "execution_count": 15,
   "metadata": {
    "colab": {
     "base_uri": "https://localhost:8080/"
    },
    "id": "v1HqaTCR7DJj",
    "outputId": "a45878cc-1150-4454-e354-54bd102f5cb8"
   },
   "outputs": [
    {
     "name": "stdout",
     "output_type": "stream",
     "text": [
      "Model: \"sequential\"\n",
      "_________________________________________________________________\n",
      " Layer (type)                Output Shape              Param #   \n",
      "=================================================================\n",
      " embedding (Embedding)       (None, None, 256)         25344     \n",
      "                                                                 \n",
      " lstm (LSTM)                 (None, None, 512)         1574912   \n",
      "                                                                 \n",
      " dense (Dense)               (None, None, 99)          50787     \n",
      "                                                                 \n",
      "=================================================================\n",
      "Total params: 1,651,043\n",
      "Trainable params: 1,651,043\n",
      "Non-trainable params: 0\n",
      "_________________________________________________________________\n"
     ]
    }
   ],
   "source": [
    "model.summary()"
   ]
  },
  {
   "cell_type": "markdown",
   "metadata": {
    "id": "5CzYoeNa7POf"
   },
   "source": [
    "## Обучение модели"
   ]
  },
  {
   "cell_type": "code",
   "execution_count": 17,
   "metadata": {
    "id": "_ebzEidl7Shy"
   },
   "outputs": [],
   "source": [
    "model.compile(\n",
    "    optimizer='adam',\n",
    "    loss=tf.keras.losses.SparseCategoricalCrossentropy(\n",
    "        from_logits=True)\n",
    ")"
   ]
  },
  {
   "cell_type": "code",
   "execution_count": 18,
   "metadata": {
    "colab": {
     "base_uri": "https://localhost:8080/"
    },
    "id": "eK0v5ssWnUqG",
    "outputId": "32d4ec1b-26f3-4184-ba5b-f2e18b422be6"
   },
   "outputs": [
    {
     "name": "stdout",
     "output_type": "stream",
     "text": [
      "Epoch 1/20\n",
      "165/165 [==============================] - 140s 823ms/step - loss: 2.8193\n",
      "Epoch 2/20\n",
      "165/165 [==============================] - 135s 807ms/step - loss: 2.2290\n",
      "Epoch 3/20\n",
      "165/165 [==============================] - 137s 824ms/step - loss: 2.0227\n",
      "Epoch 4/20\n",
      "165/165 [==============================] - 138s 832ms/step - loss: 1.8838\n",
      "Epoch 5/20\n",
      "165/165 [==============================] - 140s 841ms/step - loss: 1.7796\n",
      "Epoch 6/20\n",
      "165/165 [==============================] - 138s 831ms/step - loss: 1.6982\n",
      "Epoch 7/20\n",
      "165/165 [==============================] - 136s 817ms/step - loss: 1.6326\n",
      "Epoch 8/20\n",
      "165/165 [==============================] - 137s 816ms/step - loss: 1.5769\n",
      "Epoch 9/20\n",
      "165/165 [==============================] - 136s 821ms/step - loss: 1.5305\n",
      "Epoch 10/20\n",
      "165/165 [==============================] - 136s 820ms/step - loss: 1.4899\n",
      "Epoch 11/20\n",
      "165/165 [==============================] - 135s 811ms/step - loss: 1.4526\n",
      "Epoch 12/20\n",
      "165/165 [==============================] - 136s 817ms/step - loss: 1.4201\n",
      "Epoch 13/20\n",
      "165/165 [==============================] - 137s 825ms/step - loss: 1.3902\n",
      "Epoch 14/20\n",
      "165/165 [==============================] - 138s 830ms/step - loss: 1.3629\n",
      "Epoch 15/20\n",
      "165/165 [==============================] - 137s 823ms/step - loss: 1.3367\n",
      "Epoch 16/20\n",
      "165/165 [==============================] - 137s 823ms/step - loss: 1.3125\n",
      "Epoch 17/20\n",
      "165/165 [==============================] - 139s 834ms/step - loss: 1.2891\n",
      "Epoch 18/20\n",
      "165/165 [==============================] - 137s 824ms/step - loss: 1.2664\n",
      "Epoch 19/20\n",
      "165/165 [==============================] - 139s 830ms/step - loss: 1.2449\n",
      "Epoch 20/20\n",
      "165/165 [==============================] - 136s 808ms/step - loss: 1.2235\n"
     ]
    }
   ],
   "source": [
    "history = model.fit(ds, epochs=20)"
   ]
  },
  {
   "cell_type": "markdown",
   "metadata": {
    "id": "JHzQ9S1M7T3Z"
   },
   "source": [
    "## Генерация новых отрывков текста"
   ]
  },
  {
   "cell_type": "code",
   "execution_count": 19,
   "metadata": {
    "colab": {
     "base_uri": "https://localhost:8080/"
    },
    "id": "SoQx2QRn7ZtM",
    "outputId": "ce813b59-1c37-4621-d329-9f6d4fbc705e"
   },
   "outputs": [
    {
     "name": "stdout",
     "output_type": "stream",
     "text": [
      "Вероятности:  [0.33333334 0.33333334 0.33333334]\n"
     ]
    }
   ],
   "source": [
    "tf.random.set_seed(1)\n",
    "logits = [[1.0, 1.0, 1.0]]\n",
    "print('Вероятности: ', tf.math.softmax(logits).numpy()[0])"
   ]
  },
  {
   "cell_type": "code",
   "execution_count": 20,
   "metadata": {
    "colab": {
     "base_uri": "https://localhost:8080/"
    },
    "id": "VvNt1tPknyTS",
    "outputId": "d26dffee-c007-4ee9-9fd4-0bcdf39ea32b"
   },
   "outputs": [
    {
     "name": "stdout",
     "output_type": "stream",
     "text": [
      "array([[0, 0, 1, 2, 0, 0, 0, 0, 1, 0]])\n"
     ]
    }
   ],
   "source": [
    "samples = tf.random.categorical(\n",
    "    logits=logits, num_samples=10)\n",
    "tf.print(samples.numpy())"
   ]
  },
  {
   "cell_type": "code",
   "execution_count": 21,
   "metadata": {
    "colab": {
     "base_uri": "https://localhost:8080/"
    },
    "id": "NJ21hmshoOT3",
    "outputId": "d07fa2d8-001d-4b60-efc5-e42d4dfe2ec2"
   },
   "outputs": [
    {
     "name": "stdout",
     "output_type": "stream",
     "text": [
      "Вероятности:  [0.10650698 0.10650698 0.78698605]\n"
     ]
    }
   ],
   "source": [
    "tf.random.set_seed(1)\n",
    "logits = [[1.0, 1.0, 3.0]]\n",
    "print('Вероятности: ', tf.math.softmax(logits).numpy()[0])"
   ]
  },
  {
   "cell_type": "code",
   "execution_count": 22,
   "metadata": {
    "colab": {
     "base_uri": "https://localhost:8080/"
    },
    "id": "l12xyPKtoTZE",
    "outputId": "b3c64e9d-4a8a-4903-b5e7-81581e00f681"
   },
   "outputs": [
    {
     "name": "stdout",
     "output_type": "stream",
     "text": [
      "array([[2, 0, 2, 2, 2, 0, 1, 2, 2, 0]])\n"
     ]
    }
   ],
   "source": [
    "samples = tf.random.categorical(\n",
    "    logits=logits, num_samples=10)\n",
    "tf.print(samples.numpy())"
   ]
  },
  {
   "cell_type": "code",
   "execution_count": 26,
   "metadata": {
    "id": "20jbCkopoXh9"
   },
   "outputs": [],
   "source": [
    "#Код функции sample()\n",
    "def sample(model, starting_str, \n",
    "           len_generated_text=500,\n",
    "           max_input_length=40,\n",
    "           scale_factor=1.0):\n",
    "  encoded_input = [char2int[s] for s in starting_str]\n",
    "  encoded_input = tf.reshape(encoded_input, (1, -1))\n",
    "\n",
    "  generated_str = starting_str\n",
    "\n",
    "  model.reset_states()\n",
    "  for i in range(len_generated_text):\n",
    "    logits = model(encoded_input)\n",
    "    logits = tf.squeeze(logits, 0)\n",
    "\n",
    "    scaled_logits = logits * scale_factor\n",
    "    new_char_indx = tf.random.categorical(scaled_logits, num_samples=1)\n",
    "    \n",
    "    new_char_indx = tf.squeeze(new_char_indx)[-1].numpy()\n",
    "\n",
    "    generated_str += str(char_array[new_char_indx])\n",
    "\n",
    "    new_char_indx = tf.expand_dims([new_char_indx], 0)\n",
    "    encoded_input = tf.concat(\n",
    "        [encoded_input, new_char_indx], axis=1)\n",
    "    encoded_input = encoded_input[:, -max_input_length:]\n",
    "\n",
    "  return generated_str"
   ]
  },
  {
   "cell_type": "code",
   "execution_count": 27,
   "metadata": {
    "colab": {
     "base_uri": "https://localhost:8080/"
    },
    "id": "mYnBlamVq8xI",
    "outputId": "e7aab647-c5f8-4ab1-e492-bb1f0a73cf7b"
   },
   "outputs": [
    {
     "name": "stdout",
     "output_type": "stream",
     "text": [
      "Tne Man in the Project Gutenberg Literary Sup)) nodedicates cent on deck, and went into the terms—that it was a tharked the secret clemement she round the Mill House and the man who like the boat after here, I walked such a copy, he might have\n",
      "a ship unwaring care—onle.\n",
      "\n",
      "“Any one things you can received that his implined all the Africa, I knew over my story from the expity to Kimberley is incontinued painors after the departh he went\n",
      "outside with a young men. She was back into though I had returned fro\n"
     ]
    }
   ],
   "source": [
    "#Пример генерации текста\n",
    "tf.random.set_seed(1)\n",
    "print(sample(model, starting_str='Tne Man'))"
   ]
  },
  {
   "cell_type": "markdown",
   "metadata": {
    "id": "YU90CVHl7diF"
   },
   "source": [
    "## Масштабирование логитов"
   ]
  },
  {
   "cell_type": "code",
   "execution_count": 28,
   "metadata": {
    "colab": {
     "base_uri": "https://localhost:8080/"
    },
    "id": "YH7QjR087i8x",
    "outputId": "58808239-a591-4161-bac8-6276ba63ca33"
   },
   "outputs": [
    {
     "name": "stdout",
     "output_type": "stream",
     "text": [
      "Вероятности перед масштабированием:  [0.10650698 0.10650698 0.78698604]\n",
      "Вероятности после масштабирования с коэффициентом 0.5:  [0.21194156 0.21194156 0.57611688]\n",
      "Вероятности после масштабирования с коэффициентом 0.1:  [0.31042377 0.31042377 0.37915245]\n"
     ]
    }
   ],
   "source": [
    "logits = np.array([[1.0, 1.0, 3.0]])\n",
    "print('Вероятности перед масштабированием: ', tf.math.softmax(logits).numpy()[0])\n",
    "print('Вероятности после масштабирования с коэффициентом 0.5: ', tf.math.softmax(0.5*logits).numpy()[0])\n",
    "print('Вероятности после масштабирования с коэффициентом 0.1: ', tf.math.softmax(0.1*logits).numpy()[0])"
   ]
  },
  {
   "cell_type": "markdown",
   "metadata": {
    "id": "zo2PjJW07k3S"
   },
   "source": [
    "## Порожденный текст при параметре альфа=2.0"
   ]
  },
  {
   "cell_type": "code",
   "execution_count": 29,
   "metadata": {
    "colab": {
     "base_uri": "https://localhost:8080/"
    },
    "id": "E-qfGEpK756g",
    "outputId": "e4924bbb-5b3a-4315-e453-9a332f36c048"
   },
   "outputs": [
    {
     "name": "stdout",
     "output_type": "stream",
     "text": [
      "Tne Man in the Brown Suit.’”\n",
      "\n",
      "“Oh, yes, you know. I’ve got my eyes reading the station. In the nawing me he had seen the police come and the station. It was it about the secret men with a sickly beautiful time.”\n",
      "\n",
      "“I don’t know that I had really done of the silences. The coint of my story. It was a little law from the platform. He was just in an orders to pretty of the situation of my neck and the secret the danger. I had displayed it as the mountains of the time. I don’t seem to understand, so that I h\n"
     ]
    }
   ],
   "source": [
    "tf.random.set_seed(1)\n",
    "print(sample(model, starting_str='Tne Man', scale_factor=2.0))"
   ]
  },
  {
   "cell_type": "markdown",
   "metadata": {
    "id": "4SkPYNBIcrAm"
   },
   "source": [
    "## Порожденный текст при параметре альфа=5.0"
   ]
  },
  {
   "cell_type": "code",
   "execution_count": 31,
   "metadata": {
    "colab": {
     "base_uri": "https://localhost:8080/"
    },
    "id": "xSsf-Vw9cR9b",
    "outputId": "a0b6cefe-8bf5-4b46-8ebd-bedaaa38f082"
   },
   "outputs": [
    {
     "name": "stdout",
     "output_type": "stream",
     "text": [
      "Tne Man in the Brown Suit.’”\n",
      "\n",
      "“I should like the same time I did not see it all the secretary seemed to me that the man who had a good deal of the time. I don’t know that I had the things that I had a perfectly and seemed to me that the case that I was the time of the station. I was still help since of the time. I was in the secretary is some one who had started to me that the diamonds with a sigh of the station. I was a secretary of the time. I should have the terms of the things that I had the terms \n"
     ]
    }
   ],
   "source": [
    "tf.random.set_seed(1)\n",
    "print(sample(model, starting_str='Tne Man', scale_factor=5.0))"
   ]
  },
  {
   "cell_type": "markdown",
   "metadata": {
    "id": "9dHfqiLc7xgB"
   },
   "source": [
    "## Порожденный текст при параметре альфа=0.5"
   ]
  },
  {
   "cell_type": "code",
   "execution_count": 30,
   "metadata": {
    "colab": {
     "base_uri": "https://localhost:8080/"
    },
    "id": "8ONAk92171yN",
    "outputId": "8b486725-f322-4357-8dff-43317211f8ff"
   },
   "outputs": [
    {
     "name": "stdout",
     "output_type": "stream",
     "text": [
      "Tne Man aid 25d.% we asliled\n",
      "abod, really ruc man7 was kignafe washS begin if you mackatis,” I? dé?, I hadeief) th)ome horrinfie?”\n",
      "\n",
      "“How think a?Mmwdlipava _itt_ Slafe.”\n",
      "This I exjected airpact\n",
      "VeM.4 .8 Hexop my Anne locked Juifies! Nevelbbat—\" Hedclitexalr? I cem—truate wPry2chictivily\n",
      "“Enqquicoon._ So that duptheskness?\n",
      "\n",
      "Eurcha)nitribf, eecermstifivently ecretmend_ socrwast Officew\n",
      "silvehed., Sir Eus, whten\n",
      "Clarninf Marl?” Bedgriet drussime—’s—neu’tichply.m:, whot. Gaitle time ‘tot. De\n",
      "dirfuzome casc\n"
     ]
    }
   ],
   "source": [
    "tf.random.set_seed(1)\n",
    "print(sample(model, starting_str='Tne Man', scale_factor=0.5))"
   ]
  },
  {
   "cell_type": "markdown",
   "metadata": {
    "id": "bCSswZ-khbra"
   },
   "source": [
    "Из примеров можно сделать вывод, что чем больше значение парамтера, тем больше предсказуемости, в противном случае наблюдается больше случайности."
   ]
  }
 ],
 "metadata": {
  "colab": {
   "collapsed_sections": [
    "VEJ0ZEuzc50_",
    "8wP83u-81xYv",
    "1ThOkext13W7",
    "i8b0XsWa2twP",
    "5FGW7NXg4v8c",
    "DfTQPe1w5RvZ",
    "Boe-xpLq6Mye",
    "eV8LqGYx6-JH",
    "5CzYoeNa7POf",
    "JHzQ9S1M7T3Z",
    "YU90CVHl7diF",
    "zo2PjJW07k3S",
    "4SkPYNBIcrAm",
    "9dHfqiLc7xgB"
   ],
   "provenance": []
  },
  "kernelspec": {
   "display_name": "Python 3 (ipykernel)",
   "language": "python",
   "name": "python3"
  },
  "language_info": {
   "codemirror_mode": {
    "name": "ipython",
    "version": 3
   },
   "file_extension": ".py",
   "mimetype": "text/x-python",
   "name": "python",
   "nbconvert_exporter": "python",
   "pygments_lexer": "ipython3",
   "version": "3.10.11"
  }
 },
 "nbformat": 4,
 "nbformat_minor": 4
}
